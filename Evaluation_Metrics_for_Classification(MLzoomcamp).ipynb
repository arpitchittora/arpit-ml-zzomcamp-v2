{
  "nbformat": 4,
  "nbformat_minor": 0,
  "metadata": {
    "colab": {
      "name": "Evaluation Metrics for Classification(MLzoomcamp).ipynb",
      "provenance": [],
      "collapsed_sections": [],
      "authorship_tag": "ABX9TyMq1loPNopVyaFbOJAgndLZ",
      "include_colab_link": true
    },
    "kernelspec": {
      "name": "python3",
      "display_name": "Python 3"
    },
    "language_info": {
      "name": "python"
    }
  },
  "cells": [
    {
      "cell_type": "markdown",
      "metadata": {
        "id": "view-in-github",
        "colab_type": "text"
      },
      "source": [
        "<a href=\"https://colab.research.google.com/github/arpitchittora/arpit-ml-zoomcamp/blob/main/Evaluation_Metrics_for_Classification(MLzoomcamp).ipynb\" target=\"_parent\"><img src=\"https://colab.research.google.com/assets/colab-badge.svg\" alt=\"Open In Colab\"/></a>"
      ]
    },
    {
      "cell_type": "code",
      "metadata": {
        "id": "twsTufGMiAKS"
      },
      "source": [
        "import pandas as pd\n",
        "import numpy as np\n",
        "\n",
        "import matplotlib.pyplot as plt\n",
        "import seaborn as sns\n",
        "\n",
        "%matplotlib inline"
      ],
      "execution_count": 50,
      "outputs": []
    },
    {
      "cell_type": "code",
      "metadata": {
        "colab": {
          "base_uri": "https://localhost:8080/"
        },
        "id": "uutTt5HFiNgD",
        "outputId": "b86d385f-71c0-4593-f26f-6ba3e8c39d98"
      },
      "source": [
        "!wget https://raw.githubusercontent.com/alexeygrigorev/mlbookcamp-code/master/chapter-06-trees/CreditScoring.csv"
      ],
      "execution_count": 51,
      "outputs": [
        {
          "output_type": "stream",
          "name": "stdout",
          "text": [
            "--2021-10-02 13:39:20--  https://raw.githubusercontent.com/alexeygrigorev/mlbookcamp-code/master/chapter-06-trees/CreditScoring.csv\n",
            "Resolving raw.githubusercontent.com (raw.githubusercontent.com)... 185.199.110.133, 185.199.111.133, 185.199.109.133, ...\n",
            "Connecting to raw.githubusercontent.com (raw.githubusercontent.com)|185.199.110.133|:443... connected.\n",
            "HTTP request sent, awaiting response... 200 OK\n",
            "Length: 182489 (178K) [text/plain]\n",
            "Saving to: ‘CreditScoring.csv.1’\n",
            "\n",
            "CreditScoring.csv.1 100%[===================>] 178.21K  --.-KB/s    in 0.02s   \n",
            "\n",
            "2021-10-02 13:39:20 (7.32 MB/s) - ‘CreditScoring.csv.1’ saved [182489/182489]\n",
            "\n"
          ]
        }
      ]
    },
    {
      "cell_type": "markdown",
      "metadata": {
        "id": "xWCuXt6GiQTO"
      },
      "source": [
        "**Preparation**"
      ]
    },
    {
      "cell_type": "code",
      "metadata": {
        "colab": {
          "base_uri": "https://localhost:8080/",
          "height": 488
        },
        "id": "G8eK4cgFiRYU",
        "outputId": "88bf5e1e-a958-4821-972e-14a0312006bc"
      },
      "source": [
        "df = pd.read_csv('CreditScoring.csv')\n",
        "df.columns = df.columns.str.lower()\n",
        "df.head().T"
      ],
      "execution_count": 52,
      "outputs": [
        {
          "output_type": "execute_result",
          "data": {
            "text/html": [
              "<div>\n",
              "<style scoped>\n",
              "    .dataframe tbody tr th:only-of-type {\n",
              "        vertical-align: middle;\n",
              "    }\n",
              "\n",
              "    .dataframe tbody tr th {\n",
              "        vertical-align: top;\n",
              "    }\n",
              "\n",
              "    .dataframe thead th {\n",
              "        text-align: right;\n",
              "    }\n",
              "</style>\n",
              "<table border=\"1\" class=\"dataframe\">\n",
              "  <thead>\n",
              "    <tr style=\"text-align: right;\">\n",
              "      <th></th>\n",
              "      <th>0</th>\n",
              "      <th>1</th>\n",
              "      <th>2</th>\n",
              "      <th>3</th>\n",
              "      <th>4</th>\n",
              "    </tr>\n",
              "  </thead>\n",
              "  <tbody>\n",
              "    <tr>\n",
              "      <th>status</th>\n",
              "      <td>1</td>\n",
              "      <td>1</td>\n",
              "      <td>2</td>\n",
              "      <td>1</td>\n",
              "      <td>1</td>\n",
              "    </tr>\n",
              "    <tr>\n",
              "      <th>seniority</th>\n",
              "      <td>9</td>\n",
              "      <td>17</td>\n",
              "      <td>10</td>\n",
              "      <td>0</td>\n",
              "      <td>0</td>\n",
              "    </tr>\n",
              "    <tr>\n",
              "      <th>home</th>\n",
              "      <td>1</td>\n",
              "      <td>1</td>\n",
              "      <td>2</td>\n",
              "      <td>1</td>\n",
              "      <td>1</td>\n",
              "    </tr>\n",
              "    <tr>\n",
              "      <th>time</th>\n",
              "      <td>60</td>\n",
              "      <td>60</td>\n",
              "      <td>36</td>\n",
              "      <td>60</td>\n",
              "      <td>36</td>\n",
              "    </tr>\n",
              "    <tr>\n",
              "      <th>age</th>\n",
              "      <td>30</td>\n",
              "      <td>58</td>\n",
              "      <td>46</td>\n",
              "      <td>24</td>\n",
              "      <td>26</td>\n",
              "    </tr>\n",
              "    <tr>\n",
              "      <th>marital</th>\n",
              "      <td>2</td>\n",
              "      <td>3</td>\n",
              "      <td>2</td>\n",
              "      <td>1</td>\n",
              "      <td>1</td>\n",
              "    </tr>\n",
              "    <tr>\n",
              "      <th>records</th>\n",
              "      <td>1</td>\n",
              "      <td>1</td>\n",
              "      <td>2</td>\n",
              "      <td>1</td>\n",
              "      <td>1</td>\n",
              "    </tr>\n",
              "    <tr>\n",
              "      <th>job</th>\n",
              "      <td>3</td>\n",
              "      <td>1</td>\n",
              "      <td>3</td>\n",
              "      <td>1</td>\n",
              "      <td>1</td>\n",
              "    </tr>\n",
              "    <tr>\n",
              "      <th>expenses</th>\n",
              "      <td>73</td>\n",
              "      <td>48</td>\n",
              "      <td>90</td>\n",
              "      <td>63</td>\n",
              "      <td>46</td>\n",
              "    </tr>\n",
              "    <tr>\n",
              "      <th>income</th>\n",
              "      <td>129</td>\n",
              "      <td>131</td>\n",
              "      <td>200</td>\n",
              "      <td>182</td>\n",
              "      <td>107</td>\n",
              "    </tr>\n",
              "    <tr>\n",
              "      <th>assets</th>\n",
              "      <td>0</td>\n",
              "      <td>0</td>\n",
              "      <td>3000</td>\n",
              "      <td>2500</td>\n",
              "      <td>0</td>\n",
              "    </tr>\n",
              "    <tr>\n",
              "      <th>debt</th>\n",
              "      <td>0</td>\n",
              "      <td>0</td>\n",
              "      <td>0</td>\n",
              "      <td>0</td>\n",
              "      <td>0</td>\n",
              "    </tr>\n",
              "    <tr>\n",
              "      <th>amount</th>\n",
              "      <td>800</td>\n",
              "      <td>1000</td>\n",
              "      <td>2000</td>\n",
              "      <td>900</td>\n",
              "      <td>310</td>\n",
              "    </tr>\n",
              "    <tr>\n",
              "      <th>price</th>\n",
              "      <td>846</td>\n",
              "      <td>1658</td>\n",
              "      <td>2985</td>\n",
              "      <td>1325</td>\n",
              "      <td>910</td>\n",
              "    </tr>\n",
              "  </tbody>\n",
              "</table>\n",
              "</div>"
            ],
            "text/plain": [
              "             0     1     2     3    4\n",
              "status       1     1     2     1    1\n",
              "seniority    9    17    10     0    0\n",
              "home         1     1     2     1    1\n",
              "time        60    60    36    60   36\n",
              "age         30    58    46    24   26\n",
              "marital      2     3     2     1    1\n",
              "records      1     1     2     1    1\n",
              "job          3     1     3     1    1\n",
              "expenses    73    48    90    63   46\n",
              "income     129   131   200   182  107\n",
              "assets       0     0  3000  2500    0\n",
              "debt         0     0     0     0    0\n",
              "amount     800  1000  2000   900  310\n",
              "price      846  1658  2985  1325  910"
            ]
          },
          "metadata": {},
          "execution_count": 52
        }
      ]
    },
    {
      "cell_type": "markdown",
      "metadata": {
        "id": "CQ_pG3aeitpN"
      },
      "source": [
        "Some of the features are encoded as numbers. Use the following code to de-code them:"
      ]
    },
    {
      "cell_type": "code",
      "metadata": {
        "id": "NTqIVLmpiqNI"
      },
      "source": [
        "status_values = {\n",
        "    1: 'ok',\n",
        "    2: 'default',\n",
        "    0: 'unk'\n",
        "}\n",
        "\n",
        "df.status = df.status.map(status_values)\n",
        "\n",
        "\n",
        "home_values = {\n",
        "    1: 'rent',\n",
        "    2: 'owner',\n",
        "    3: 'private',\n",
        "    4: 'ignore',\n",
        "    5: 'parents',\n",
        "    6: 'other',\n",
        "    0: 'unk'\n",
        "}\n",
        "\n",
        "df.home = df.home.map(home_values)\n",
        "\n",
        "marital_values = {\n",
        "    1: 'single',\n",
        "    2: 'married',\n",
        "    3: 'widow',\n",
        "    4: 'separated',\n",
        "    5: 'divorced',\n",
        "    0: 'unk'\n",
        "}\n",
        "\n",
        "df.marital = df.marital.map(marital_values)\n",
        "\n",
        "records_values = {\n",
        "    1: 'no',\n",
        "    2: 'yes',\n",
        "    0: 'unk'\n",
        "}\n",
        "\n",
        "df.records = df.records.map(records_values)\n",
        "\n",
        "job_values = {\n",
        "    1: 'fixed',\n",
        "    2: 'partime',\n",
        "    3: 'freelance',\n",
        "    4: 'others',\n",
        "    0: 'unk'\n",
        "}\n",
        "\n",
        "df.job = df.job.map(job_values)"
      ],
      "execution_count": 53,
      "outputs": []
    },
    {
      "cell_type": "markdown",
      "metadata": {
        "id": "xsAVq0oyizKD"
      },
      "source": [
        "Prepare the numerical variables:"
      ]
    },
    {
      "cell_type": "code",
      "metadata": {
        "id": "H4edixvliw8t"
      },
      "source": [
        "for c in ['income', 'assets', 'debt']:\n",
        "    df[c] = df[c].replace(to_replace=99999999, value=0)"
      ],
      "execution_count": 54,
      "outputs": []
    },
    {
      "cell_type": "markdown",
      "metadata": {
        "id": "S5GFM_boi3Vc"
      },
      "source": [
        "Remove clients with unknown default status"
      ]
    },
    {
      "cell_type": "code",
      "metadata": {
        "id": "yRqGDtuUi4ul"
      },
      "source": [
        "df = df[df.status != 'unk'].reset_index(drop=True)"
      ],
      "execution_count": 55,
      "outputs": []
    },
    {
      "cell_type": "markdown",
      "metadata": {
        "id": "YV791Wihi6rL"
      },
      "source": [
        "Create the target variable"
      ]
    },
    {
      "cell_type": "code",
      "metadata": {
        "id": "CYslZLnxi8at"
      },
      "source": [
        "df['default'] = (df.status == 'default').astype(int)\n",
        "del df['status']"
      ],
      "execution_count": 56,
      "outputs": []
    },
    {
      "cell_type": "markdown",
      "metadata": {
        "id": "xBHLA5NTi-qz"
      },
      "source": [
        "What are the categorical variables? What are the numerical?"
      ]
    },
    {
      "cell_type": "code",
      "metadata": {
        "id": "7wXbHw2RjRt7"
      },
      "source": [
        "categorical = [\n",
        "    'home',\n",
        "    'marital',\n",
        "    'records',\n",
        "    'job'\n",
        "]\n",
        "\n",
        "numerical = [\n",
        "    'seniority',\n",
        "    'time',\n",
        "    'age',\n",
        "    'expenses',\n",
        "    'income',\n",
        "    'assets',\n",
        "    'debt',\n",
        "    'amount',\n",
        "    'price'\n",
        "]"
      ],
      "execution_count": 57,
      "outputs": []
    },
    {
      "cell_type": "code",
      "metadata": {
        "id": "Z5th7m-MjToj"
      },
      "source": [
        "from sklearn.model_selection import train_test_split\n",
        "from sklearn.feature_extraction import DictVectorizer\n",
        "from sklearn.linear_model import LogisticRegression"
      ],
      "execution_count": 58,
      "outputs": []
    },
    {
      "cell_type": "code",
      "metadata": {
        "id": "ywk-idNtn-gz"
      },
      "source": [
        "df_full_train, df_test = train_test_split(df, test_size=0.2, random_state=1)\n",
        "df_train, df_val = train_test_split(df_full_train, test_size=0.25, random_state=1)\n",
        "\n",
        "df_train = df_train.reset_index(drop=True)\n",
        "df_val = df_val.reset_index(drop=True)\n",
        "df_test = df_test.reset_index(drop=True)\n",
        "\n",
        "y_train = df_train.default.values\n",
        "y_val = df_val.default.values\n",
        "y_test = df_test.default.values\n",
        "\n",
        "del df_train['default']\n",
        "del df_val['default']\n",
        "del df_test['default']"
      ],
      "execution_count": 59,
      "outputs": []
    },
    {
      "cell_type": "code",
      "metadata": {
        "colab": {
          "base_uri": "https://localhost:8080/"
        },
        "id": "QDX5yvNuoSeK",
        "outputId": "31a5f248-0857-4b38-eea2-6d0b14ec1ce0"
      },
      "source": [
        "len(df_train),len(df_val),len(df_test),len(y_train),"
      ],
      "execution_count": 60,
      "outputs": [
        {
          "output_type": "execute_result",
          "data": {
            "text/plain": [
              "(2672, 891, 891, 2672)"
            ]
          },
          "metadata": {},
          "execution_count": 60
        }
      ]
    },
    {
      "cell_type": "code",
      "metadata": {
        "colab": {
          "base_uri": "https://localhost:8080/",
          "height": 206
        },
        "id": "EDjUclmEoZ2E",
        "outputId": "4bc31a14-aa55-4013-a024-072a499e11e6"
      },
      "source": [
        "df_train.head()"
      ],
      "execution_count": 61,
      "outputs": [
        {
          "output_type": "execute_result",
          "data": {
            "text/html": [
              "<div>\n",
              "<style scoped>\n",
              "    .dataframe tbody tr th:only-of-type {\n",
              "        vertical-align: middle;\n",
              "    }\n",
              "\n",
              "    .dataframe tbody tr th {\n",
              "        vertical-align: top;\n",
              "    }\n",
              "\n",
              "    .dataframe thead th {\n",
              "        text-align: right;\n",
              "    }\n",
              "</style>\n",
              "<table border=\"1\" class=\"dataframe\">\n",
              "  <thead>\n",
              "    <tr style=\"text-align: right;\">\n",
              "      <th></th>\n",
              "      <th>seniority</th>\n",
              "      <th>home</th>\n",
              "      <th>time</th>\n",
              "      <th>age</th>\n",
              "      <th>marital</th>\n",
              "      <th>records</th>\n",
              "      <th>job</th>\n",
              "      <th>expenses</th>\n",
              "      <th>income</th>\n",
              "      <th>assets</th>\n",
              "      <th>debt</th>\n",
              "      <th>amount</th>\n",
              "      <th>price</th>\n",
              "    </tr>\n",
              "  </thead>\n",
              "  <tbody>\n",
              "    <tr>\n",
              "      <th>0</th>\n",
              "      <td>12</td>\n",
              "      <td>private</td>\n",
              "      <td>24</td>\n",
              "      <td>28</td>\n",
              "      <td>married</td>\n",
              "      <td>no</td>\n",
              "      <td>fixed</td>\n",
              "      <td>45</td>\n",
              "      <td>102</td>\n",
              "      <td>0</td>\n",
              "      <td>0</td>\n",
              "      <td>700</td>\n",
              "      <td>1229</td>\n",
              "    </tr>\n",
              "    <tr>\n",
              "      <th>1</th>\n",
              "      <td>4</td>\n",
              "      <td>other</td>\n",
              "      <td>60</td>\n",
              "      <td>28</td>\n",
              "      <td>married</td>\n",
              "      <td>no</td>\n",
              "      <td>fixed</td>\n",
              "      <td>60</td>\n",
              "      <td>143</td>\n",
              "      <td>0</td>\n",
              "      <td>0</td>\n",
              "      <td>1150</td>\n",
              "      <td>1630</td>\n",
              "    </tr>\n",
              "    <tr>\n",
              "      <th>2</th>\n",
              "      <td>0</td>\n",
              "      <td>owner</td>\n",
              "      <td>60</td>\n",
              "      <td>27</td>\n",
              "      <td>married</td>\n",
              "      <td>no</td>\n",
              "      <td>fixed</td>\n",
              "      <td>35</td>\n",
              "      <td>295</td>\n",
              "      <td>6000</td>\n",
              "      <td>0</td>\n",
              "      <td>1950</td>\n",
              "      <td>2208</td>\n",
              "    </tr>\n",
              "    <tr>\n",
              "      <th>3</th>\n",
              "      <td>6</td>\n",
              "      <td>owner</td>\n",
              "      <td>48</td>\n",
              "      <td>28</td>\n",
              "      <td>married</td>\n",
              "      <td>no</td>\n",
              "      <td>fixed</td>\n",
              "      <td>45</td>\n",
              "      <td>114</td>\n",
              "      <td>3500</td>\n",
              "      <td>0</td>\n",
              "      <td>650</td>\n",
              "      <td>1255</td>\n",
              "    </tr>\n",
              "    <tr>\n",
              "      <th>4</th>\n",
              "      <td>12</td>\n",
              "      <td>owner</td>\n",
              "      <td>36</td>\n",
              "      <td>42</td>\n",
              "      <td>married</td>\n",
              "      <td>no</td>\n",
              "      <td>freelance</td>\n",
              "      <td>60</td>\n",
              "      <td>0</td>\n",
              "      <td>15000</td>\n",
              "      <td>0</td>\n",
              "      <td>1000</td>\n",
              "      <td>1500</td>\n",
              "    </tr>\n",
              "  </tbody>\n",
              "</table>\n",
              "</div>"
            ],
            "text/plain": [
              "   seniority     home  time  age  marital  ... income assets  debt  amount  price\n",
              "0         12  private    24   28  married  ...    102      0     0     700   1229\n",
              "1          4    other    60   28  married  ...    143      0     0    1150   1630\n",
              "2          0    owner    60   27  married  ...    295   6000     0    1950   2208\n",
              "3          6    owner    48   28  married  ...    114   3500     0     650   1255\n",
              "4         12    owner    36   42  married  ...      0  15000     0    1000   1500\n",
              "\n",
              "[5 rows x 13 columns]"
            ]
          },
          "metadata": {},
          "execution_count": 61
        }
      ]
    },
    {
      "cell_type": "code",
      "metadata": {
        "id": "iNMKv8g_ocl6"
      },
      "source": [
        "from sklearn.metrics import roc_auc_score"
      ],
      "execution_count": 62,
      "outputs": []
    },
    {
      "cell_type": "code",
      "metadata": {
        "colab": {
          "base_uri": "https://localhost:8080/"
        },
        "id": "xLVwJ1OM06tq",
        "outputId": "32103ae8-2857-4e14-99df-8daa52275485"
      },
      "source": [
        "for r in ['seniority','time','income','debt']:\n",
        "  score = roc_auc_score(y_train,-df_train[r]) < 0.5\n",
        "  print(\"label: %s , score: %.3f\"  % (r, roc_auc_score(y_train,-df_train[r])))"
      ],
      "execution_count": 63,
      "outputs": [
        {
          "output_type": "stream",
          "name": "stdout",
          "text": [
            "label: seniority , score: 0.709\n",
            "label: time , score: 0.439\n",
            "label: income , score: 0.682\n",
            "label: debt , score: 0.505\n"
          ]
        }
      ]
    },
    {
      "cell_type": "markdown",
      "metadata": {
        "id": "AzDQDai5yQSr"
      },
      "source": [
        "**Training the model**"
      ]
    },
    {
      "cell_type": "code",
      "metadata": {
        "id": "tvib2OGgyWQM"
      },
      "source": [
        "feature = ['seniority', 'income', 'assets', 'records', 'job', 'home']"
      ],
      "execution_count": 64,
      "outputs": []
    },
    {
      "cell_type": "code",
      "metadata": {
        "id": "Iph-jbLD6tYW",
        "colab": {
          "base_uri": "https://localhost:8080/"
        },
        "outputId": "30c55fa8-2475-458f-9b4a-32e963206098"
      },
      "source": [
        "dv = DictVectorizer(sparse=False)\n",
        "\n",
        "train_dict = df_train[feature].to_dict(orient='records')\n",
        "X_train = dv.fit_transform(train_dict)\n",
        "\n",
        "model = LogisticRegression(solver='liblinear', C=1.0, max_iter=1000)\n",
        "model.fit(X_train, y_train)"
      ],
      "execution_count": 65,
      "outputs": [
        {
          "output_type": "execute_result",
          "data": {
            "text/plain": [
              "LogisticRegression(C=1.0, class_weight=None, dual=False, fit_intercept=True,\n",
              "                   intercept_scaling=1, l1_ratio=None, max_iter=1000,\n",
              "                   multi_class='auto', n_jobs=None, penalty='l2',\n",
              "                   random_state=None, solver='liblinear', tol=0.0001, verbose=0,\n",
              "                   warm_start=False)"
            ]
          },
          "metadata": {},
          "execution_count": 65
        }
      ]
    },
    {
      "cell_type": "code",
      "metadata": {
        "colab": {
          "base_uri": "https://localhost:8080/"
        },
        "id": "ZUPgsdXB3Mkc",
        "outputId": "197cd5a3-ac3d-42c9-8842-d93768ae2165"
      },
      "source": [
        "val_dict = df_val[feature].to_dict(orient='records')\n",
        "X_val = dv.transform(val_dict)\n",
        "\n",
        "y_pred = model.predict_proba(X_val)[:, 1]\n",
        "credit_decision = (y_pred >= 0.5)\n",
        "(y_val == credit_decision).mean()\n"
      ],
      "execution_count": 66,
      "outputs": [
        {
          "output_type": "execute_result",
          "data": {
            "text/plain": [
              "0.7800224466891134"
            ]
          },
          "metadata": {},
          "execution_count": 66
        }
      ]
    },
    {
      "cell_type": "code",
      "metadata": {
        "id": "QVR-wiKe3ooj"
      },
      "source": [
        "from sklearn.metrics import roc_curve\n",
        "from sklearn.metrics import auc"
      ],
      "execution_count": 67,
      "outputs": []
    },
    {
      "cell_type": "code",
      "metadata": {
        "id": "JCPFOKf73qfV"
      },
      "source": [
        "fpr, tpr, thresholds = roc_curve(y_val, y_pred)"
      ],
      "execution_count": 68,
      "outputs": []
    },
    {
      "cell_type": "code",
      "metadata": {
        "colab": {
          "base_uri": "https://localhost:8080/"
        },
        "id": "dsmFWcwQ31Er",
        "outputId": "55fd194f-a9d4-449a-e5cc-cda887e37946"
      },
      "source": [
        "round(auc(fpr, tpr),3)"
      ],
      "execution_count": 69,
      "outputs": [
        {
          "output_type": "execute_result",
          "data": {
            "text/plain": [
              "0.812"
            ]
          },
          "metadata": {},
          "execution_count": 69
        }
      ]
    },
    {
      "cell_type": "markdown",
      "metadata": {
        "id": "6tT8c1XC5pk1"
      },
      "source": [
        "**Precision and Recall**"
      ]
    },
    {
      "cell_type": "code",
      "metadata": {
        "id": "0O7KHbJk_LrO"
      },
      "source": [
        "def precision_recall(th):\n",
        "    actual_positive = (y_val == 1)\n",
        "    actual_negative = (y_val == 0)\n",
        "    \n",
        "    predict_positive = (y_pred >= th)\n",
        "    predict_negative = (y_pred < th)\n",
        "\n",
        "    tp = (predict_positive & actual_positive).sum()\n",
        "    tn = (predict_negative & actual_negative).sum()\n",
        "\n",
        "    fp = (predict_positive & actual_negative).sum()\n",
        "    fn = (predict_negative & actual_positive).sum()\n",
        "    return th, tp, fp, fn, tn"
      ],
      "execution_count": 70,
      "outputs": []
    },
    {
      "cell_type": "code",
      "metadata": {
        "id": "54KIlZ9-5cig"
      },
      "source": [
        "scores = []\n",
        "\n",
        "thresholds = np.linspace(0, 1, 101)\n",
        "\n",
        "for t in thresholds:\n",
        "    th, tp, fp, fn, tn = precision_recall(t)\n",
        "    scores.append((th, tp, fp, fn, tn))\n"
      ],
      "execution_count": 71,
      "outputs": []
    },
    {
      "cell_type": "code",
      "metadata": {
        "id": "hK4S7kaW6ee7"
      },
      "source": [
        "columns = ['threshold', 'tp', 'fp', 'fn', 'tn']\n",
        "df_scores = pd.DataFrame(scores, columns=columns)\n",
        "\n",
        "df_scores['tpr'] = df_scores.tp / (df_scores.tp + df_scores.fn)\n",
        "df_scores['fpr'] = df_scores.fp / (df_scores.fp + df_scores.tn)\n"
      ],
      "execution_count": 72,
      "outputs": []
    },
    {
      "cell_type": "code",
      "metadata": {
        "colab": {
          "base_uri": "https://localhost:8080/",
          "height": 282
        },
        "id": "nrHEzQwv6hWs",
        "outputId": "b4b40c46-8af5-4cdc-ca78-47c2c3b8c6f4"
      },
      "source": [
        "plt.plot(df_scores.threshold, df_scores['tpr'], label='TPR')\n",
        "plt.plot(df_scores.threshold, df_scores['fpr'], label='FPR')\n",
        "plt.legend()\n"
      ],
      "execution_count": 73,
      "outputs": [
        {
          "output_type": "execute_result",
          "data": {
            "text/plain": [
              "<matplotlib.legend.Legend at 0x7f6d36b2bb50>"
            ]
          },
          "metadata": {},
          "execution_count": 73
        },
        {
          "output_type": "display_data",
          "data": {
            "image/png": "[encoded data removed]",
            "text/plain": [
              "<Figure size 432x288 with 1 Axes>"
            ]
          },
          "metadata": {
            "needs_background": "light"
          }
        }
      ]
    },
    {
      "cell_type": "markdown",
      "metadata": {
        "id": "8G1H9D13-VlK"
      },
      "source": [
        "**Compute F1**"
      ]
    },
    {
      "cell_type": "code",
      "metadata": {
        "id": "a12zBMDtA_v4"
      },
      "source": [
        "def compute_f1_score(tp, fp, fn, tn):\n",
        "  P = tp / (tp + fn)\n",
        "  R = fp / (fp + tn)\n",
        "  F1 = 2 * P * R / (P + R)\n",
        "  return F1"
      ],
      "execution_count": 74,
      "outputs": []
    },
    {
      "cell_type": "code",
      "metadata": {
        "id": "aT_8Ie6i-sOW"
      },
      "source": [
        "f1_scores = []\n",
        "\n",
        "f1_thresholds = np.linspace(0, 1, 101)\n",
        "\n",
        "for ft in [0.1,0.3,0.5,0.7]:\n",
        "    th, tp, fp, fn, tn = precision_recall(ft)\n",
        "    f1 = compute_f1_score(tp, fp, fn, tn)\n",
        "    f1_scores.append((th, f1))"
      ],
      "execution_count": 75,
      "outputs": []
    },
    {
      "cell_type": "code",
      "metadata": {
        "colab": {
          "base_uri": "https://localhost:8080/"
        },
        "id": "pU915mdkCYQU",
        "outputId": "35d616ba-dcbc-4749-c33e-98f4e71a4a76"
      },
      "source": [
        "f1_scores"
      ],
      "execution_count": 76,
      "outputs": [
        {
          "output_type": "execute_result",
          "data": {
            "text/plain": [
              "[(0.1, 0.8012028577448332),\n",
              " (0.3, 0.37757295892613435),\n",
              " (0.5, 0.16345184488204853),\n",
              " (0.7, 0.04258839610085968)]"
            ]
          },
          "metadata": {},
          "execution_count": 76
        }
      ]
    },
    {
      "cell_type": "markdown",
      "metadata": {
        "id": "FNeXJC7VFLp9"
      },
      "source": [
        "**KFold Method**"
      ]
    },
    {
      "cell_type": "code",
      "metadata": {
        "id": "5-01v-ysFxUz"
      },
      "source": [
        "def train(df_train, y_train, C=1.0):\n",
        "    dicts = df_train[feature].to_dict(orient='records')\n",
        "\n",
        "    dv = DictVectorizer(sparse=False)\n",
        "    X_train = dv.fit_transform(dicts)\n",
        "\n",
        "    model = LogisticRegression(solver='liblinear', C=C, max_iter=1000)\n",
        "    model.fit(X_train, y_train)\n",
        "    \n",
        "    return dv, model\n"
      ],
      "execution_count": 77,
      "outputs": []
    },
    {
      "cell_type": "code",
      "metadata": {
        "id": "wmnGZ5CGFzXt"
      },
      "source": [
        "def predict(df, dv, model):\n",
        "    dicts = df[feature].to_dict(orient='records')\n",
        "\n",
        "    X = dv.transform(dicts)\n",
        "    y_pred = model.predict_proba(X)[:, 1]\n",
        "\n",
        "    return y_pred"
      ],
      "execution_count": 78,
      "outputs": []
    },
    {
      "cell_type": "code",
      "metadata": {
        "id": "TNKwtRRFO-Ld"
      },
      "source": [
        "from sklearn.model_selection import KFold"
      ],
      "execution_count": 80,
      "outputs": []
    },
    {
      "cell_type": "code",
      "metadata": {
        "id": "B_3XHKjTC5VB",
        "colab": {
          "base_uri": "https://localhost:8080/"
        },
        "outputId": "9d15f055-fb91-4a75-dcbc-04d11362480c"
      },
      "source": [
        "n_splits = 5\n",
        "\n",
        "for C in [0.01, 0.1, 1, 10]:\n",
        "    kfold = KFold(n_splits=n_splits, shuffle=True, random_state=1)\n",
        "\n",
        "    scores = []\n",
        "\n",
        "    for train_idx, val_idx in kfold.split(df_full_train):\n",
        "        df_train = df_full_train.iloc[train_idx]\n",
        "        df_val = df_full_train.iloc[val_idx]\n",
        "\n",
        "        y_train = df_train.default.values\n",
        "        y_val = df_val.default.values\n",
        "\n",
        "        dv, model = train(df_train, y_train, C=C)\n",
        "        y_pred = predict(df_val, dv, model)\n",
        "\n",
        "        auc = roc_auc_score(y_val, y_pred)\n",
        "        scores.append(auc)\n",
        "\n",
        "    print('C=%s %.3f +- %.3f' % (C, np.mean(scores), np.std(scores)))\n"
      ],
      "execution_count": 84,
      "outputs": [
        {
          "output_type": "stream",
          "name": "stdout",
          "text": [
            "C=0.01 0.808 +- 0.012\n",
            "C=0.1 0.813 +- 0.014\n",
            "C=1 0.812 +- 0.014\n",
            "C=10 0.814 +- 0.015\n"
          ]
        }
      ]
    },
    {
      "cell_type": "code",
      "metadata": {
        "id": "7v47G3E9O7dR"
      },
      "source": [
        ""
      ],
      "execution_count": null,
      "outputs": []
    }
  ]
}