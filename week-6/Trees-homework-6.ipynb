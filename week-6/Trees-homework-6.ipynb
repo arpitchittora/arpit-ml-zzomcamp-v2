{
 "cells": [
  {
   "cell_type": "code",
   "execution_count": 1,
   "id": "e92d1a0f",
   "metadata": {},
   "outputs": [],
   "source": [
    "import pandas as pd\n",
    "import numpy as np\n",
    "\n",
    "import matplotlib.pyplot as plt\n",
    "import seaborn as sns\n",
    "\n",
    "%matplotlib inline"
   ]
  },
  {
   "cell_type": "code",
   "execution_count": 2,
   "id": "5a58f75e",
   "metadata": {},
   "outputs": [],
   "source": [
    "columns = [\n",
    "    'neighbourhood_group', 'room_type', 'latitude', 'longitude',\n",
    "    'minimum_nights', 'number_of_reviews','reviews_per_month',\n",
    "    'calculated_host_listings_count', 'availability_365',\n",
    "    'price'\n",
    "]\n",
    "\n",
    "df = pd.read_csv('AB_NYC_2019.csv', usecols=columns)\n",
    "df.reviews_per_month = df.reviews_per_month.fillna(0)\n"
   ]
  },
  {
   "cell_type": "markdown",
   "id": "58f3ca18",
   "metadata": {},
   "source": [
    "- Apply the log tranform to price\n",
    "- Do train/validation/test split with 60%/20%/20% distribution.\n",
    "- Use the train_test_split function and set the random_state parameter to 1"
   ]
  },
  {
   "cell_type": "code",
   "execution_count": 3,
   "id": "08ccfd04",
   "metadata": {},
   "outputs": [],
   "source": [
    "df.price = np.log1p(df.price.values)"
   ]
  },
  {
   "cell_type": "code",
   "execution_count": 4,
   "id": "3c414102",
   "metadata": {},
   "outputs": [],
   "source": [
    "from sklearn.model_selection import train_test_split"
   ]
  },
  {
   "cell_type": "code",
   "execution_count": 5,
   "id": "9ebfbcd6",
   "metadata": {},
   "outputs": [],
   "source": [
    "df_full_train, df_test = train_test_split(df, test_size=0.2, random_state=1)\n",
    "df_train, df_val = train_test_split(df_full_train, test_size=0.25, random_state=1)"
   ]
  },
  {
   "cell_type": "code",
   "execution_count": 6,
   "id": "cf1119a8",
   "metadata": {},
   "outputs": [],
   "source": [
    "df_train = df_train.reset_index(drop=True)\n",
    "df_val = df_val.reset_index(drop=True)\n",
    "df_test = df_test.reset_index(drop=True)"
   ]
  },
  {
   "cell_type": "code",
   "execution_count": 7,
   "id": "79b8dd1a",
   "metadata": {},
   "outputs": [],
   "source": [
    "y_train = df_train.price.values\n",
    "y_val = df_val.price.values\n",
    "y_test = df_test.price.values\n",
    "\n",
    "del df_train['price']\n",
    "del df_val['price']\n",
    "del df_test['price']"
   ]
  },
  {
   "cell_type": "code",
   "execution_count": 8,
   "id": "b92feeda",
   "metadata": {},
   "outputs": [],
   "source": [
    "from sklearn.feature_extraction import DictVectorizer"
   ]
  },
  {
   "cell_type": "code",
   "execution_count": 9,
   "id": "de83b219",
   "metadata": {},
   "outputs": [],
   "source": [
    "dv = DictVectorizer(sparse=False)\n",
    "\n",
    "train_dict = df_train.to_dict(orient='records')\n",
    "X_train = dv.fit_transform(train_dict)\n",
    "\n",
    "val_dict = df_val.to_dict(orient='records')\n",
    "X_val = dv.transform(val_dict)"
   ]
  },
  {
   "cell_type": "code",
   "execution_count": 10,
   "id": "957e0146",
   "metadata": {},
   "outputs": [],
   "source": [
    "from sklearn.tree import DecisionTreeRegressor"
   ]
  },
  {
   "cell_type": "code",
   "execution_count": 11,
   "id": "75f28d03",
   "metadata": {},
   "outputs": [
    {
     "data": {
      "text/plain": [
       "DecisionTreeRegressor(max_depth=1)"
      ]
     },
     "execution_count": 11,
     "metadata": {},
     "output_type": "execute_result"
    }
   ],
   "source": [
    "dt = DecisionTreeRegressor(max_depth=1)\n",
    "dt.fit(X_train, y_train)"
   ]
  },
  {
   "cell_type": "code",
   "execution_count": 12,
   "id": "6790daa1",
   "metadata": {},
   "outputs": [],
   "source": [
    "from sklearn.tree import export_text"
   ]
  },
  {
   "cell_type": "code",
   "execution_count": 13,
   "id": "a132d497",
   "metadata": {},
   "outputs": [
    {
     "name": "stdout",
     "output_type": "stream",
     "text": [
      "|--- room_type=Entire home/apt <= 0.50\n",
      "|   |--- value: [4.29]\n",
      "|--- room_type=Entire home/apt >  0.50\n",
      "|   |--- value: [5.15]\n",
      "\n"
     ]
    }
   ],
   "source": [
    "print(export_text(dt, feature_names=dv.get_feature_names()))"
   ]
  },
  {
   "cell_type": "code",
   "execution_count": 14,
   "id": "6e3961ba",
   "metadata": {},
   "outputs": [],
   "source": [
    "from sklearn.ensemble import RandomForestRegressor\n",
    "from sklearn.metrics import roc_auc_score"
   ]
  },
  {
   "cell_type": "code",
   "execution_count": 61,
   "id": "19f13ee5",
   "metadata": {},
   "outputs": [],
   "source": [
    "rf = RandomForestRegressor(n_estimators=10, random_state=1, n_jobs=-1)\n",
    "rf.fit(X_train, y_train)\n",
    "\n",
    "y_pred = rf.predict(X_val)"
   ]
  },
  {
   "cell_type": "code",
   "execution_count": 62,
   "id": "69eca748",
   "metadata": {},
   "outputs": [
    {
     "data": {
      "text/plain": [
       "<AxesSubplot:ylabel='Count'>"
      ]
     },
     "execution_count": 62,
     "metadata": {},
     "output_type": "execute_result"
    },
    {
     "data": {
      "image/png": "[encoded data removed]",
      "text/plain": [
       "<Figure size 432x288 with 1 Axes>"
      ]
     },
     "metadata": {
      "needs_background": "light"
     },
     "output_type": "display_data"
    }
   ],
   "source": [
    "sns.histplot(y_pred, color='red', alpha=0.5, bins=50)\n",
    "sns.histplot(y_val, color='blue', alpha=0.5, bins=50)"
   ]
  },
  {
   "cell_type": "code",
   "execution_count": 15,
   "id": "27e680ef",
   "metadata": {},
   "outputs": [],
   "source": [
    "def rmse(y, y_pred):\n",
    "    se = (y - y_pred) ** 2\n",
    "    mse = se.mean()\n",
    "    return np.sqrt(mse)"
   ]
  },
  {
   "cell_type": "code",
   "execution_count": 64,
   "id": "166aa309",
   "metadata": {},
   "outputs": [
    {
     "data": {
      "text/plain": [
       "0.462"
      ]
     },
     "execution_count": 64,
     "metadata": {},
     "output_type": "execute_result"
    }
   ],
   "source": [
    "score_mean = rmse(y_val, y_pred)\n",
    "round(score_mean, 3)"
   ]
  },
  {
   "cell_type": "code",
   "execution_count": 65,
   "id": "81ff1602",
   "metadata": {},
   "outputs": [
    {
     "data": {
      "text/plain": [
       "[(10, 0.462),\n",
       " (20, 0.448),\n",
       " (30, 0.446),\n",
       " (40, 0.444),\n",
       " (50, 0.442),\n",
       " (60, 0.442),\n",
       " (70, 0.441),\n",
       " (80, 0.441),\n",
       " (90, 0.441),\n",
       " (100, 0.44),\n",
       " (110, 0.439),\n",
       " (120, 0.439),\n",
       " (130, 0.439),\n",
       " (140, 0.439),\n",
       " (150, 0.439),\n",
       " (160, 0.439),\n",
       " (170, 0.439),\n",
       " (180, 0.439),\n",
       " (190, 0.439),\n",
       " (200, 0.439)]"
      ]
     },
     "execution_count": 65,
     "metadata": {},
     "output_type": "execute_result"
    }
   ],
   "source": [
    "rf_rmse_score = []\n",
    "for r in range(10,201,10):\n",
    "    rf = RandomForestRegressor(n_estimators=r, random_state=1, n_jobs=-1)\n",
    "    rf.fit(X_train, y_train)\n",
    "\n",
    "    y_pred = rf.predict(X_val)\n",
    "    score_mean = rmse(y_val, y_pred)\n",
    "    rf_rmse_score.append((r, round(score_mean, 3)))\n",
    "\n",
    "rf_rmse_score"
   ]
  },
  {
   "cell_type": "code",
   "execution_count": 66,
   "id": "7f6fb37c",
   "metadata": {},
   "outputs": [],
   "source": [
    "best_max_depth = []\n",
    "for d in [10, 15, 20, 25]:\n",
    "    for r in range(10,201,10):\n",
    "        rf = RandomForestRegressor(n_estimators=r, max_depth=d,random_state=1, n_jobs=-1)\n",
    "        rf.fit(X_train, y_train)\n",
    "\n",
    "        y_pred = rf.predict(X_val)\n",
    "        score_mean = rmse(y_val, y_pred)\n",
    "        best_max_depth.append((d, r, score_mean))"
   ]
  },
  {
   "cell_type": "code",
   "execution_count": 67,
   "id": "743714e7",
   "metadata": {},
   "outputs": [
    {
     "data": {
      "text/plain": [
       "[(10, 10, 0.44555264855924354),\n",
       " (10, 20, 0.4420087608705588),\n",
       " (10, 30, 0.4413808076445009),\n",
       " (10, 40, 0.44147246709402543),\n",
       " (10, 50, 0.4410673887594955),\n",
       " (10, 60, 0.4410459421233984),\n",
       " (10, 70, 0.4407598704010177),\n",
       " (10, 80, 0.4405950365838957),\n",
       " (10, 90, 0.4403250798157756),\n",
       " (10, 100, 0.4401137602802354),\n",
       " (10, 110, 0.44002599123352587),\n",
       " (10, 120, 0.4398178667293093),\n",
       " (10, 130, 0.4398547755113232),\n",
       " (10, 140, 0.43984985853331104),\n",
       " (10, 150, 0.4396900165901451),\n",
       " (10, 160, 0.4396442598915558),\n",
       " (10, 170, 0.43962394971115537),\n",
       " (10, 180, 0.4397169310258638),\n",
       " (10, 190, 0.4396683937380781),\n",
       " (10, 200, 0.43967858051302805),\n",
       " (15, 10, 0.45014955224590053),\n",
       " (15, 20, 0.4413965306029092),\n",
       " (15, 30, 0.4398942644411996),\n",
       " (15, 40, 0.43928475526633337),\n",
       " (15, 50, 0.43835155877923293),\n",
       " (15, 60, 0.4379833031193405),\n",
       " (15, 70, 0.43745781237443004),\n",
       " (15, 80, 0.4372681252876775),\n",
       " (15, 90, 0.4368731254920105),\n",
       " (15, 100, 0.43651230928156826),\n",
       " (15, 110, 0.43628106735528754),\n",
       " (15, 120, 0.43621324755543006),\n",
       " (15, 130, 0.43628631137379764),\n",
       " (15, 140, 0.43621199251882703),\n",
       " (15, 150, 0.4362256909511473),\n",
       " (15, 160, 0.4360759389159228),\n",
       " (15, 170, 0.43604736304110847),\n",
       " (15, 180, 0.4362009026058372),\n",
       " (15, 190, 0.43616751568338963),\n",
       " (15, 200, 0.436142154173459),\n",
       " (20, 10, 0.4584190912980129),\n",
       " (20, 20, 0.4459054314035954),\n",
       " (20, 30, 0.44319196966565716),\n",
       " (20, 40, 0.44173730529721944),\n",
       " (20, 50, 0.4406714060854808),\n",
       " (20, 60, 0.44006601983418375),\n",
       " (20, 70, 0.43964599939550425),\n",
       " (20, 80, 0.43966221451198306),\n",
       " (20, 90, 0.43916022683859685),\n",
       " (20, 100, 0.4387853067251267),\n",
       " (20, 110, 0.43828225408336197),\n",
       " (20, 120, 0.4380967658969889),\n",
       " (20, 130, 0.4381790275452463),\n",
       " (20, 140, 0.43795894092304327),\n",
       " (20, 150, 0.43789624317834047),\n",
       " (20, 160, 0.43774942178735565),\n",
       " (20, 170, 0.4376099072969573),\n",
       " (20, 180, 0.43766660438488314),\n",
       " (20, 190, 0.43758701284695295),\n",
       " (20, 200, 0.4376092495496493),\n",
       " (25, 10, 0.4609391142619028),\n",
       " (25, 20, 0.4472195089303131),\n",
       " (25, 30, 0.4445239573491947),\n",
       " (25, 40, 0.44309466013646537),\n",
       " (25, 50, 0.4422777416037507),\n",
       " (25, 60, 0.44152111429954993),\n",
       " (25, 70, 0.4410272347700826),\n",
       " (25, 80, 0.44090704297917),\n",
       " (25, 90, 0.4403296436262334),\n",
       " (25, 100, 0.439898479955878),\n",
       " (25, 110, 0.43947683384868624),\n",
       " (25, 120, 0.43924312399404186),\n",
       " (25, 130, 0.439285569059559),\n",
       " (25, 140, 0.43902660807710686),\n",
       " (25, 150, 0.4389835049281224),\n",
       " (25, 160, 0.4387688139510855),\n",
       " (25, 170, 0.4386958375952577),\n",
       " (25, 180, 0.43884783722887344),\n",
       " (25, 190, 0.43870158484924415),\n",
       " (25, 200, 0.4386944849789363)]"
      ]
     },
     "execution_count": 67,
     "metadata": {},
     "output_type": "execute_result"
    }
   ],
   "source": [
    "best_max_depth"
   ]
  },
  {
   "cell_type": "markdown",
   "id": "1bcf70af",
   "metadata": {},
   "source": [
    "Feature importance"
   ]
  },
  {
   "cell_type": "code",
   "execution_count": 16,
   "id": "31890b9f",
   "metadata": {},
   "outputs": [
    {
     "data": {
      "text/plain": [
       "0.4584190912980129"
      ]
     },
     "execution_count": 16,
     "metadata": {},
     "output_type": "execute_result"
    }
   ],
   "source": [
    "rf_model = RandomForestRegressor(n_estimators=10, max_depth=20,random_state=1, n_jobs=-1)\n",
    "rf_model.fit(X_train, y_train)\n",
    "\n",
    "y_pred = rf_model.predict(X_val)\n",
    "score_mean = rmse(y_val, y_pred)\n",
    "score_mean"
   ]
  },
  {
   "cell_type": "code",
   "execution_count": 25,
   "id": "e38fd37e",
   "metadata": {},
   "outputs": [
    {
     "name": "stdout",
     "output_type": "stream",
     "text": [
      "Feature: 0, Score: 0.07626\n",
      "Feature: 1, Score: 0.03010\n",
      "Feature: 2, Score: 0.15278\n",
      "Feature: 3, Score: 0.15410\n",
      "Feature: 4, Score: 0.05325\n",
      "Feature: 5, Score: 0.00026\n",
      "Feature: 6, Score: 0.00097\n",
      "Feature: 7, Score: 0.03405\n",
      "Feature: 8, Score: 0.00117\n",
      "Feature: 9, Score: 0.00008\n",
      "Feature: 10, Score: 0.04159\n",
      "Feature: 11, Score: 0.05443\n",
      "Feature: 12, Score: 0.39190\n",
      "Feature: 13, Score: 0.00403\n",
      "Feature: 14, Score: 0.00502\n"
     ]
    }
   ],
   "source": [
    "# get importance\n",
    "importance = rf_model.feature_importances_\n",
    "# summarize feature importance\n",
    "for i,v in enumerate(importance):\n",
    "\tprint('Feature: %0d, Score: %.5f' % (i,v))"
   ]
  },
  {
   "cell_type": "code",
   "execution_count": 29,
   "id": "c41205e0",
   "metadata": {},
   "outputs": [
    {
     "data": {
      "image/png": "[encoded data removed]",
      "text/plain": [
       "<Figure size 432x288 with 1 Axes>"
      ]
     },
     "metadata": {
      "needs_background": "light"
     },
     "output_type": "display_data"
    }
   ],
   "source": [
    "# plot feature importance\n",
    "plt.bar([x for x in range(len(importance))], importance)\n",
    "plt.show()"
   ]
  },
  {
   "cell_type": "code",
   "execution_count": 30,
   "id": "56c8a205",
   "metadata": {},
   "outputs": [
    {
     "data": {
      "text/plain": [
       "'room_type=Entire home/apt'"
      ]
     },
     "execution_count": 30,
     "metadata": {},
     "output_type": "execute_result"
    }
   ],
   "source": [
    "feature_names=dv.get_feature_names()\n",
    "feature_names[12]"
   ]
  },
  {
   "cell_type": "markdown",
   "id": "25c8700b",
   "metadata": {},
   "source": [
    "**Gradient boosting and XGBoost**"
   ]
  },
  {
   "cell_type": "code",
   "execution_count": 31,
   "id": "1c1f12bf",
   "metadata": {},
   "outputs": [
    {
     "name": "stdout",
     "output_type": "stream",
     "text": [
      "Collecting xgboost"
     ]
    },
    {
     "name": "stderr",
     "output_type": "stream",
     "text": [
      "WARNING: You are using pip version 21.0; however, version 21.3 is available.\n",
      "You should consider upgrading via the 'c:\\users\\arpit\\appdata\\local\\programs\\python\\python39\\python.exe -m pip install --upgrade pip' command.\n"
     ]
    },
    {
     "name": "stdout",
     "output_type": "stream",
     "text": [
      "\n",
      "  Downloading xgboost-1.4.2-py3-none-win_amd64.whl (97.8 MB)\n",
      "Requirement already satisfied: numpy in c:\\users\\arpit\\appdata\\local\\programs\\python\\python39\\lib\\site-packages (from xgboost) (1.19.5)\n",
      "Requirement already satisfied: scipy in c:\\users\\arpit\\appdata\\local\\programs\\python\\python39\\lib\\site-packages (from xgboost) (1.6.0)\n",
      "Installing collected packages: xgboost\n",
      "Successfully installed xgboost-1.4.2\n"
     ]
    }
   ],
   "source": [
    "!pip install xgboost"
   ]
  },
  {
   "cell_type": "code",
   "execution_count": 32,
   "id": "3ce5cb10",
   "metadata": {},
   "outputs": [],
   "source": [
    "import xgboost as xgb"
   ]
  },
  {
   "cell_type": "code",
   "execution_count": 33,
   "id": "7f50ddd7",
   "metadata": {},
   "outputs": [],
   "source": [
    "features = dv.get_feature_names()\n",
    "dtrain = xgb.DMatrix(X_train, label=y_train, feature_names=features)\n",
    "dval = xgb.DMatrix(X_val, label=y_val, feature_names=features)"
   ]
  },
  {
   "cell_type": "code",
   "execution_count": 38,
   "id": "9d5f9e23",
   "metadata": {},
   "outputs": [],
   "source": [
    "xgb_rsme_scores = []\n",
    "for e in [0.3, 0.1, 0.01]:\n",
    "    xgb_params = {\n",
    "        'eta': e, \n",
    "        'max_depth': 6,\n",
    "        'min_child_weight': 1,\n",
    "\n",
    "        'objective': 'reg:squarederror',\n",
    "        'nthread': 8,\n",
    "\n",
    "        'seed': 1,\n",
    "        'verbosity': 1,\n",
    "    }\n",
    "\n",
    "    model = xgb.train(xgb_params, dtrain, num_boost_round=100)\n",
    "    y_pred = model.predict(dval)\n",
    "    score_mean = rmse(y_val, y_pred)\n",
    "    xgb_rsme_scores.append((e,round(score_mean, 3)))"
   ]
  },
  {
   "cell_type": "code",
   "execution_count": 39,
   "id": "3fb9f6fb",
   "metadata": {},
   "outputs": [
    {
     "data": {
      "text/plain": [
       "[(0.3, 0.436), (0.1, 0.432), (0.01, 1.63)]"
      ]
     },
     "execution_count": 39,
     "metadata": {},
     "output_type": "execute_result"
    }
   ],
   "source": [
    "xgb_rsme_scores"
   ]
  },
  {
   "cell_type": "code",
   "execution_count": null,
   "id": "8f1d800b",
   "metadata": {},
   "outputs": [],
   "source": []
  }
 ],
 "metadata": {
  "kernelspec": {
   "display_name": "Python 3",
   "language": "python",
   "name": "python3"
  },
  "language_info": {
   "codemirror_mode": {
    "name": "ipython",
    "version": 3
   },
   "file_extension": ".py",
   "mimetype": "text/x-python",
   "name": "python",
   "nbconvert_exporter": "python",
   "pygments_lexer": "ipython3",
   "version": "3.9.1"
  }
 },
 "nbformat": 4,
 "nbformat_minor": 5
}
