{
 "cells": [
  {
   "cell_type": "code",
   "execution_count": 46,
   "id": "19d1f24b",
   "metadata": {},
   "outputs": [],
   "source": [
    "#import basic library\n",
    "import pandas as pd\n",
    "import numpy as np\n",
    "\n",
    "import matplotlib.pyplot as plt\n",
    "import seaborn as sns\n",
    "\n",
    "%matplotlib inline"
   ]
  },
  {
   "cell_type": "code",
   "execution_count": 47,
   "id": "362a24ec",
   "metadata": {},
   "outputs": [],
   "source": [
    "df = pd.read_csv('imdb.csv')"
   ]
  },
  {
   "cell_type": "code",
   "execution_count": 48,
   "id": "8d5b231e",
   "metadata": {},
   "outputs": [
    {
     "data": {
      "text/html": [
       "<div>\n",
       "<style scoped>\n",
       "    .dataframe tbody tr th:only-of-type {\n",
       "        vertical-align: middle;\n",
       "    }\n",
       "\n",
       "    .dataframe tbody tr th {\n",
       "        vertical-align: top;\n",
       "    }\n",
       "\n",
       "    .dataframe thead th {\n",
       "        text-align: right;\n",
       "    }\n",
       "</style>\n",
       "<table border=\"1\" class=\"dataframe\">\n",
       "  <thead>\n",
       "    <tr style=\"text-align: right;\">\n",
       "      <th></th>\n",
       "      <th>Name</th>\n",
       "      <th>Date</th>\n",
       "      <th>Rate</th>\n",
       "      <th>Votes</th>\n",
       "      <th>Genre</th>\n",
       "      <th>Duration</th>\n",
       "      <th>Type</th>\n",
       "      <th>Certificate</th>\n",
       "      <th>Episodes</th>\n",
       "      <th>Nudity</th>\n",
       "      <th>Violence</th>\n",
       "      <th>Profanity</th>\n",
       "      <th>Alcohol</th>\n",
       "      <th>Frightening</th>\n",
       "    </tr>\n",
       "  </thead>\n",
       "  <tbody>\n",
       "    <tr>\n",
       "      <th>0</th>\n",
       "      <td>No Time to Die</td>\n",
       "      <td>2021</td>\n",
       "      <td>7.6</td>\n",
       "      <td>107,163</td>\n",
       "      <td>Action, Adventure, Thriller</td>\n",
       "      <td>163</td>\n",
       "      <td>Film</td>\n",
       "      <td>PG-13</td>\n",
       "      <td>-</td>\n",
       "      <td>Mild</td>\n",
       "      <td>Moderate</td>\n",
       "      <td>Mild</td>\n",
       "      <td>Mild</td>\n",
       "      <td>Moderate</td>\n",
       "    </tr>\n",
       "    <tr>\n",
       "      <th>1</th>\n",
       "      <td>The Guilty</td>\n",
       "      <td>2021</td>\n",
       "      <td>6.3</td>\n",
       "      <td>64,375</td>\n",
       "      <td>Crime, Drama, Thriller</td>\n",
       "      <td>90</td>\n",
       "      <td>Film</td>\n",
       "      <td>R</td>\n",
       "      <td>-</td>\n",
       "      <td>None</td>\n",
       "      <td>None</td>\n",
       "      <td>Severe</td>\n",
       "      <td>None</td>\n",
       "      <td>Moderate</td>\n",
       "    </tr>\n",
       "    <tr>\n",
       "      <th>2</th>\n",
       "      <td>The Many Saints of Newark</td>\n",
       "      <td>2021</td>\n",
       "      <td>6.4</td>\n",
       "      <td>27,145</td>\n",
       "      <td>Crime, Drama</td>\n",
       "      <td>120</td>\n",
       "      <td>Film</td>\n",
       "      <td>R</td>\n",
       "      <td>-</td>\n",
       "      <td>Moderate</td>\n",
       "      <td>Severe</td>\n",
       "      <td>Severe</td>\n",
       "      <td>Moderate</td>\n",
       "      <td>Moderate</td>\n",
       "    </tr>\n",
       "    <tr>\n",
       "      <th>3</th>\n",
       "      <td>Venom: Let There Be Carnage</td>\n",
       "      <td>2021</td>\n",
       "      <td>6.4</td>\n",
       "      <td>30,443</td>\n",
       "      <td>Action, Adventure, Sci-Fi</td>\n",
       "      <td>97</td>\n",
       "      <td>Film</td>\n",
       "      <td>PG-13</td>\n",
       "      <td>-</td>\n",
       "      <td>None</td>\n",
       "      <td>Moderate</td>\n",
       "      <td>Moderate</td>\n",
       "      <td>Mild</td>\n",
       "      <td>Moderate</td>\n",
       "    </tr>\n",
       "    <tr>\n",
       "      <th>4</th>\n",
       "      <td>Dune</td>\n",
       "      <td>2021</td>\n",
       "      <td>8.3</td>\n",
       "      <td>84,636</td>\n",
       "      <td>Action, Adventure, Drama</td>\n",
       "      <td>155</td>\n",
       "      <td>Film</td>\n",
       "      <td>PG-13</td>\n",
       "      <td>-</td>\n",
       "      <td>None</td>\n",
       "      <td>Moderate</td>\n",
       "      <td>None</td>\n",
       "      <td>Mild</td>\n",
       "      <td>Moderate</td>\n",
       "    </tr>\n",
       "  </tbody>\n",
       "</table>\n",
       "</div>"
      ],
      "text/plain": [
       "                          Name  Date Rate    Votes  \\\n",
       "0               No Time to Die  2021  7.6  107,163   \n",
       "1                   The Guilty  2021  6.3   64,375   \n",
       "2    The Many Saints of Newark  2021  6.4   27,145   \n",
       "3  Venom: Let There Be Carnage  2021  6.4   30,443   \n",
       "4                         Dune  2021  8.3   84,636   \n",
       "\n",
       "                         Genre Duration  Type Certificate Episodes    Nudity  \\\n",
       "0  Action, Adventure, Thriller     163   Film       PG-13        -      Mild   \n",
       "1       Crime, Drama, Thriller      90   Film           R        -      None   \n",
       "2                 Crime, Drama     120   Film           R        -  Moderate   \n",
       "3    Action, Adventure, Sci-Fi      97   Film       PG-13        -      None   \n",
       "4     Action, Adventure, Drama     155   Film       PG-13        -      None   \n",
       "\n",
       "   Violence Profanity   Alcohol Frightening  \n",
       "0  Moderate      Mild      Mild    Moderate  \n",
       "1      None    Severe      None    Moderate  \n",
       "2    Severe    Severe  Moderate    Moderate  \n",
       "3  Moderate  Moderate      Mild    Moderate  \n",
       "4  Moderate      None      Mild    Moderate  "
      ]
     },
     "execution_count": 48,
     "metadata": {},
     "output_type": "execute_result"
    }
   ],
   "source": [
    "df.head()"
   ]
  },
  {
   "cell_type": "code",
   "execution_count": 49,
   "id": "02a6f8f3",
   "metadata": {},
   "outputs": [
    {
     "data": {
      "text/plain": [
       "(6178, 14)"
      ]
     },
     "execution_count": 49,
     "metadata": {},
     "output_type": "execute_result"
    }
   ],
   "source": [
    "df.shape"
   ]
  },
  {
   "cell_type": "code",
   "execution_count": 50,
   "id": "44c92b2a",
   "metadata": {
    "scrolled": true
   },
   "outputs": [
    {
     "name": "stdout",
     "output_type": "stream",
     "text": [
      "Name\n",
      "['No Time to Die' 'The Guilty' 'The Many Saints of Newark'\n",
      " 'Venom: Let There Be Carnage' 'Dune']\n",
      "4820\n",
      "\n",
      "Date\n",
      "[2021 2015 2006 2020 2018]\n",
      "91\n",
      "\n",
      "Rate\n",
      "['7.6' '6.3' '6.4' '8.3' '8.8']\n",
      "77\n",
      "\n",
      "Votes\n",
      "['107,163' '64,375' '27,145' '30,443' '84,636']\n",
      "4802\n",
      "\n",
      "Genre\n",
      "['Action, Adventure, Thriller' 'Crime, Drama, Thriller' 'Crime, Drama'\n",
      " 'Action, Adventure, Sci-Fi' 'Action, Adventure, Drama']\n",
      "377\n",
      "\n",
      "Duration\n",
      "['163 ' '90 ' '120 ' '97 ' '155 ']\n",
      "203\n",
      "\n",
      "Type\n",
      "['Film' 'Series']\n",
      "2\n",
      "\n",
      "Certificate\n",
      "['PG-13' 'R' 'TV-MA' 'None' 'TV-14']\n",
      "23\n",
      "\n",
      "Episodes\n",
      "['-' '23' '10' '18' '25']\n",
      "284\n",
      "\n",
      "Nudity\n",
      "['Mild' 'None' 'Moderate' 'No Rate' 'Severe']\n",
      "5\n",
      "\n",
      "Violence\n",
      "['Moderate' 'None' 'Severe' 'No Rate' 'Mild']\n",
      "5\n",
      "\n",
      "Profanity\n",
      "['Mild' 'Severe' 'Moderate' 'None' 'No Rate']\n",
      "5\n",
      "\n",
      "Alcohol\n",
      "['Mild' 'None' 'Moderate' 'No Rate' 'Severe']\n",
      "5\n",
      "\n",
      "Frightening\n",
      "['Moderate' 'None' 'Mild' 'No Rate' 'Severe']\n",
      "5\n",
      "\n"
     ]
    }
   ],
   "source": [
    "for col in df.columns:\n",
    "    print(col)\n",
    "    print(df[col].unique()[:5])\n",
    "    print(df[col].nunique())\n",
    "    print()"
   ]
  },
  {
   "cell_type": "code",
   "execution_count": 51,
   "id": "37b15e9b",
   "metadata": {},
   "outputs": [],
   "source": [
    "df.columns = df.columns.str.lower().str.replace(' ','_')"
   ]
  },
  {
   "cell_type": "code",
   "execution_count": 52,
   "id": "97cd9bdf",
   "metadata": {},
   "outputs": [
    {
     "data": {
      "text/plain": [
       "Index(['name', 'date', 'rate', 'votes', 'genre', 'duration', 'type',\n",
       "       'certificate', 'episodes', 'nudity', 'violence', 'profanity', 'alcohol',\n",
       "       'frightening'],\n",
       "      dtype='object')"
      ]
     },
     "execution_count": 52,
     "metadata": {},
     "output_type": "execute_result"
    }
   ],
   "source": [
    "df.columns"
   ]
  },
  {
   "cell_type": "code",
   "execution_count": 53,
   "id": "25be8348",
   "metadata": {},
   "outputs": [],
   "source": [
    "categorical_columns = list(df.dtypes[df.dtypes == 'object'].index)"
   ]
  },
  {
   "cell_type": "code",
   "execution_count": 54,
   "id": "8ee35924",
   "metadata": {},
   "outputs": [],
   "source": [
    "df.loc[df.rate == 'No Rate', 'rate'] = 0"
   ]
  },
  {
   "cell_type": "code",
   "execution_count": 55,
   "id": "fcde8b53",
   "metadata": {},
   "outputs": [],
   "source": [
    "df.rate = pd.to_numeric(df['rate'])"
   ]
  },
  {
   "cell_type": "code",
   "execution_count": 56,
   "id": "5aabedcf",
   "metadata": {},
   "outputs": [],
   "source": [
    "df.loc[df.votes == 'No Votes', 'votes'] = 0\n",
    "df.votes = pd.to_numeric(df.votes.str.replace(\",\",\"\"), downcast=\"integer\")"
   ]
  },
  {
   "cell_type": "code",
   "execution_count": 57,
   "id": "52244417",
   "metadata": {},
   "outputs": [
    {
     "data": {
      "text/plain": [
       "array([163,  90, 120,  97, 155,  30, 115,   0,  45,  44,  50,  55,  60,\n",
       "        22,  41,  57, 134, 152, 132, 107, 148, 144,  42, 105,  96, 111,\n",
       "        98,  70, 112, 143,  93, 108,  51,  49,  43,  85, 137, 106, 157,\n",
       "        58,  91, 103,  53, 130,  87,  23, 113,  40, 110,  59, 353, 102,\n",
       "       104,  88,  46,  64, 116, 194, 146,  24, 114, 139, 170,  99,  52,\n",
       "        62,  86, 161, 127,  92, 164, 140, 117, 136, 180, 142, 122,  28,\n",
       "       121,  72, 181, 124, 119, 101, 150, 118, 566, 175,  48,  76, 169,\n",
       "       100,  89, 109,  25, 151, 242,  47, 138, 126,  82, 153, 135, 133,\n",
       "       154, 178,  54,  81, 145, 165, 176,  95, 149, 128,  84, 229,  94,\n",
       "       129,  77, 141, 123,  32, 158, 195, 285, 125, 159, 185,  83, 162,\n",
       "        21,   7, 189,  27, 160,  78,  15, 156, 131, 201, 510,  35,  31,\n",
       "       209,  75, 183, 202,  20,  56, 198, 147, 172,  11, 168, 296,  36,\n",
       "       328, 179,  80,  79, 166, 188,  13, 167, 238,  26, 191,  16, 187,\n",
       "       207, 415, 261,  29,  12, 280,  71, 228, 593,  38,  39, 900, 192,\n",
       "        14,   2, 220,  18,  65,  63,  33, 212, 197,   9,  73, 210,  74,\n",
       "        69, 270, 177, 461, 174, 582, 561,   4], dtype=int64)"
      ]
     },
     "execution_count": 57,
     "metadata": {},
     "output_type": "execute_result"
    }
   ],
   "source": [
    "df.loc[df.duration == 'None', 'duration'] = 0\n",
    "df.duration = pd.to_numeric(df.duration)\n",
    "df.duration.unique()"
   ]
  },
  {
   "cell_type": "code",
   "execution_count": 58,
   "id": "472e7cb7",
   "metadata": {},
   "outputs": [],
   "source": [
    "categorical_cols = ['genre', 'type','certificate','nudity','violence','profanity','alcohol','frightening']\n",
    "numeric_cols = ['rate','votes','duration']"
   ]
  },
  {
   "cell_type": "code",
   "execution_count": 59,
   "id": "3bcd7359",
   "metadata": {},
   "outputs": [
    {
     "data": {
      "text/html": [
       "<div>\n",
       "<style scoped>\n",
       "    .dataframe tbody tr th:only-of-type {\n",
       "        vertical-align: middle;\n",
       "    }\n",
       "\n",
       "    .dataframe tbody tr th {\n",
       "        vertical-align: top;\n",
       "    }\n",
       "\n",
       "    .dataframe thead th {\n",
       "        text-align: right;\n",
       "    }\n",
       "</style>\n",
       "<table border=\"1\" class=\"dataframe\">\n",
       "  <thead>\n",
       "    <tr style=\"text-align: right;\">\n",
       "      <th></th>\n",
       "      <th>genre</th>\n",
       "      <th>type</th>\n",
       "      <th>certificate</th>\n",
       "      <th>nudity</th>\n",
       "      <th>violence</th>\n",
       "      <th>profanity</th>\n",
       "      <th>alcohol</th>\n",
       "      <th>frightening</th>\n",
       "      <th>rate</th>\n",
       "      <th>votes</th>\n",
       "      <th>duration</th>\n",
       "    </tr>\n",
       "  </thead>\n",
       "  <tbody>\n",
       "    <tr>\n",
       "      <th>0</th>\n",
       "      <td>Action, Adventure, Thriller</td>\n",
       "      <td>Film</td>\n",
       "      <td>PG-13</td>\n",
       "      <td>Mild</td>\n",
       "      <td>Moderate</td>\n",
       "      <td>Mild</td>\n",
       "      <td>Mild</td>\n",
       "      <td>Moderate</td>\n",
       "      <td>7.6</td>\n",
       "      <td>107163.0</td>\n",
       "      <td>163</td>\n",
       "    </tr>\n",
       "    <tr>\n",
       "      <th>1</th>\n",
       "      <td>Crime, Drama, Thriller</td>\n",
       "      <td>Film</td>\n",
       "      <td>R</td>\n",
       "      <td>None</td>\n",
       "      <td>None</td>\n",
       "      <td>Severe</td>\n",
       "      <td>None</td>\n",
       "      <td>Moderate</td>\n",
       "      <td>6.3</td>\n",
       "      <td>64375.0</td>\n",
       "      <td>90</td>\n",
       "    </tr>\n",
       "    <tr>\n",
       "      <th>2</th>\n",
       "      <td>Crime, Drama</td>\n",
       "      <td>Film</td>\n",
       "      <td>R</td>\n",
       "      <td>Moderate</td>\n",
       "      <td>Severe</td>\n",
       "      <td>Severe</td>\n",
       "      <td>Moderate</td>\n",
       "      <td>Moderate</td>\n",
       "      <td>6.4</td>\n",
       "      <td>27145.0</td>\n",
       "      <td>120</td>\n",
       "    </tr>\n",
       "    <tr>\n",
       "      <th>3</th>\n",
       "      <td>Action, Adventure, Sci-Fi</td>\n",
       "      <td>Film</td>\n",
       "      <td>PG-13</td>\n",
       "      <td>None</td>\n",
       "      <td>Moderate</td>\n",
       "      <td>Moderate</td>\n",
       "      <td>Mild</td>\n",
       "      <td>Moderate</td>\n",
       "      <td>6.4</td>\n",
       "      <td>30443.0</td>\n",
       "      <td>97</td>\n",
       "    </tr>\n",
       "    <tr>\n",
       "      <th>4</th>\n",
       "      <td>Action, Adventure, Drama</td>\n",
       "      <td>Film</td>\n",
       "      <td>PG-13</td>\n",
       "      <td>None</td>\n",
       "      <td>Moderate</td>\n",
       "      <td>None</td>\n",
       "      <td>Mild</td>\n",
       "      <td>Moderate</td>\n",
       "      <td>8.3</td>\n",
       "      <td>84636.0</td>\n",
       "      <td>155</td>\n",
       "    </tr>\n",
       "  </tbody>\n",
       "</table>\n",
       "</div>"
      ],
      "text/plain": [
       "                         genre  type certificate    nudity  violence  \\\n",
       "0  Action, Adventure, Thriller  Film       PG-13      Mild  Moderate   \n",
       "1       Crime, Drama, Thriller  Film           R      None      None   \n",
       "2                 Crime, Drama  Film           R  Moderate    Severe   \n",
       "3    Action, Adventure, Sci-Fi  Film       PG-13      None  Moderate   \n",
       "4     Action, Adventure, Drama  Film       PG-13      None  Moderate   \n",
       "\n",
       "  profanity   alcohol frightening  rate     votes  duration  \n",
       "0      Mild      Mild    Moderate   7.6  107163.0       163  \n",
       "1    Severe      None    Moderate   6.3   64375.0        90  \n",
       "2    Severe  Moderate    Moderate   6.4   27145.0       120  \n",
       "3  Moderate      Mild    Moderate   6.4   30443.0        97  \n",
       "4      None      Mild    Moderate   8.3   84636.0       155  "
      ]
     },
     "execution_count": 59,
     "metadata": {},
     "output_type": "execute_result"
    }
   ],
   "source": [
    "imdb_data = df[categorical_cols+numeric_cols].copy()\n",
    "imdb_data.head()"
   ]
  },
  {
   "cell_type": "code",
   "execution_count": 60,
   "id": "634563b3",
   "metadata": {},
   "outputs": [],
   "source": [
    "for col in categorical_cols:\n",
    "    imdb_data[col] = imdb_data[col].str.lower()"
   ]
  },
  {
   "cell_type": "code",
   "execution_count": 61,
   "id": "6760c502",
   "metadata": {},
   "outputs": [
    {
     "data": {
      "text/plain": [
       "23"
      ]
     },
     "execution_count": 61,
     "metadata": {},
     "output_type": "execute_result"
    }
   ],
   "source": [
    "imdb_data.certificate.nunique()"
   ]
  },
  {
   "cell_type": "code",
   "execution_count": 62,
   "id": "ba7fec0d",
   "metadata": {},
   "outputs": [
    {
     "data": {
      "text/plain": [
       "genre            0\n",
       "type             0\n",
       "certificate      0\n",
       "nudity           0\n",
       "violence         0\n",
       "profanity        0\n",
       "alcohol          0\n",
       "frightening      0\n",
       "rate             0\n",
       "votes          185\n",
       "duration         0\n",
       "dtype: int64"
      ]
     },
     "execution_count": 62,
     "metadata": {},
     "output_type": "execute_result"
    }
   ],
   "source": [
    "imdb_data.isnull().sum()"
   ]
  },
  {
   "cell_type": "code",
   "execution_count": 63,
   "id": "d2e7d513",
   "metadata": {},
   "outputs": [],
   "source": [
    "imdb_data.votes = imdb_data.votes.fillna(imdb_data.votes.mean())"
   ]
  },
  {
   "cell_type": "code",
   "execution_count": 64,
   "id": "9b665268",
   "metadata": {},
   "outputs": [
    {
     "data": {
      "text/plain": [
       "<AxesSubplot:xlabel='rate', ylabel='Count'>"
      ]
     },
     "execution_count": 64,
     "metadata": {},
     "output_type": "execute_result"
    },
    {
     "data": {
      "image/png": "[encoded data removed]",
      "text/plain": [
       "<Figure size 432x288 with 1 Axes>"
      ]
     },
     "metadata": {
      "needs_background": "light"
     },
     "output_type": "display_data"
    }
   ],
   "source": [
    "sns.histplot(imdb_data.rate, bins=50)"
   ]
  },
  {
   "cell_type": "code",
   "execution_count": 65,
   "id": "ac8cc172",
   "metadata": {},
   "outputs": [
    {
     "data": {
      "text/plain": [
       "array(['action, adventure, thriller', 'crime, drama, thriller',\n",
       "       'crime, drama', 'action, adventure, sci-fi',\n",
       "       'action, adventure, drama', 'comedy, drama, sport',\n",
       "       'action, adventure, comedy', 'animation, action, adventure',\n",
       "       'comedy, drama', 'drama, horror, thriller',\n",
       "       'crime, drama, mystery', 'drama, sci-fi', 'comedy, crime, drama',\n",
       "       'comedy', 'drama, romance', 'action, drama, history',\n",
       "       'action, fantasy, mystery', 'action, adventure, fantasy', 'drama',\n",
       "       'action, horror, mystery', 'crime, drama, fantasy',\n",
       "       'horror, thriller', 'horror, mystery, thriller',\n",
       "       'crime, horror, mystery', 'drama, mystery, thriller',\n",
       "       'action, crime, drama', 'biography, drama, musical',\n",
       "       'drama, mystery, sci-fi', 'action, drama, sci-fi',\n",
       "       'animation, adventure, comedy', 'comedy, fantasy, horror',\n",
       "       'drama, horror, sci-fi', 'biography, crime, drama', 'crime',\n",
       "       'drama, fantasy, horror', 'action, adventure, crime',\n",
       "       'drama, horror, mystery', 'comedy, family, fantasy',\n",
       "       'action, drama', 'crime, drama, romance', 'drama, western',\n",
       "       'comedy, romance', 'comedy, crime', 'adventure, comedy, crime',\n",
       "       'action, sci-fi, thriller', 'adventure, drama, fantasy', 'action',\n",
       "       'comedy, drama, romance', 'thriller', 'comedy, fantasy',\n",
       "       'adventure, drama, family', 'drama, thriller, western',\n",
       "       'drama, sci-fi, thriller', 'biography, drama, history',\n",
       "       'drama, fantasy, romance', 'animation, comedy', 'drama, musical',\n",
       "       'comedy, drama, thriller', 'romance', 'animation, action, comedy',\n",
       "       'drama, sport', 'action, drama, thriller', 'western',\n",
       "       'adventure, comedy, family', 'crime, horror, thriller',\n",
       "       'drama, mystery', 'horror, mystery', 'drama, thriller',\n",
       "       'crime, mystery, thriller', 'action, drama, mystery',\n",
       "       'action, sci-fi', 'biography, comedy, crime',\n",
       "       'action, adventure, mystery', 'adventure, family, fantasy',\n",
       "       'biography, drama, romance', 'drama, musical, romance',\n",
       "       'action, crime, thriller', 'action, crime, mystery',\n",
       "       'crime, drama, horror', 'horror', 'action, thriller',\n",
       "       'action, horror, thriller', 'action, adventure, horror',\n",
       "       'biography, drama, music', 'comedy, drama, fantasy',\n",
       "       'action, drama, fantasy', 'animation, family, fantasy',\n",
       "       'adventure, drama, sci-fi', 'comedy, horror, musical',\n",
       "       'adventure, comedy, drama', 'action, comedy, drama',\n",
       "       'action, drama, horror', 'crime, drama, history',\n",
       "       'action, drama, war', 'action, drama, romance', 'comedy, horror',\n",
       "       'drama, romance, western', 'drama, history',\n",
       "       'adventure, fantasy, romance', 'mystery, romance, sci-fi',\n",
       "       'drama, family', 'comedy, drama, family',\n",
       "       'action, comedy, fantasy', 'short, horror, sci-fi',\n",
       "       'drama, horror', 'comedy, drama, sci-fi', 'comedy, music',\n",
       "       'drama, fantasy, mystery', 'fantasy, horror',\n",
       "       'comedy, drama, horror', 'fantasy, horror, mystery',\n",
       "       'action, comedy, crime', 'adventure, drama, war', 'drama, music',\n",
       "       'animation, comedy, drama', 'family, fantasy, horror',\n",
       "       'comedy, crime, mystery', 'drama, history, thriller',\n",
       "       'comedy, mystery, romance', 'drama, romance, sport',\n",
       "       'animation, drama, family', 'action, mystery, sci-fi',\n",
       "       'adventure, sci-fi, thriller', 'action, adventure, biography',\n",
       "       'crime, drama, sci-fi', 'action, comedy, horror',\n",
       "       'comedy, mystery', 'action, horror, sci-fi',\n",
       "       'adventure, comedy, sci-fi', 'horror, mystery, sci-fi',\n",
       "       'biography, drama', 'horror, sci-fi', 'adventure, drama, romance',\n",
       "       'adventure, thriller', 'drama, family, romance',\n",
       "       'comedy, drama, war', 'action, adventure',\n",
       "       'comedy, drama, mystery', 'action, crime, horror',\n",
       "       'action, adventure, romance', 'action, horror',\n",
       "       'drama, romance, thriller', 'biography, comedy, drama',\n",
       "       'comedy, drama, music', 'animation, action, drama', 'drama, war',\n",
       "       'adventure, drama, history', 'action, biography, drama',\n",
       "       'comedy, horror, thriller', 'mystery, thriller', 'family, fantasy',\n",
       "       'adventure, fantasy, mystery', 'comedy, family, horror',\n",
       "       'fantasy, horror, thriller', 'adventure, drama, mystery',\n",
       "       'drama, mystery, romance', 'short, action, thriller',\n",
       "       'adventure, biography, crime', 'drama, fantasy, sci-fi',\n",
       "       'adventure, mystery, sci-fi', 'drama, romance, sci-fi',\n",
       "       'comedy, sci-fi', 'animation, adventure, family',\n",
       "       'comedy, family, romance', 'comedy, family',\n",
       "       'crime, drama, musical', 'animation, short, action',\n",
       "       'drama, thriller, war', 'animation, crime, drama',\n",
       "       'short, mystery', 'horror, sci-fi, thriller',\n",
       "       'adventure, horror, sci-fi', 'adventure, horror, mystery',\n",
       "       'action, adventure, family', 'animation, comedy, family',\n",
       "       'reality-tv', 'comedy, music, romance', 'drama, history, war',\n",
       "       'animation, comedy, sci-fi', 'crime, thriller',\n",
       "       'action, mystery, thriller', 'adventure, comedy',\n",
       "       'adventure, drama', 'adventure, fantasy',\n",
       "       'adventure, horror, thriller', 'drama, fantasy',\n",
       "       'adventure, sci-fi', 'family, sci-fi', 'drama, fantasy, thriller',\n",
       "       'adventure, biography, drama', 'comedy, crime, sport',\n",
       "       'drama, mystery, war', 'documentary, crime, mystery',\n",
       "       'comedy, fantasy, mystery', 'animation, adventure, drama',\n",
       "       'drama, fantasy, war', 'comedy, mystery, sci-fi',\n",
       "       'action, fantasy, sci-fi', 'musical, romance',\n",
       "       'comedy, fantasy, music', 'drama, music, romance',\n",
       "       'action, comedy, sci-fi', 'comedy, family, sci-fi',\n",
       "       'crime, horror', 'action, adventure, western', 'comedy, sport',\n",
       "       'comedy, romance, sci-fi', 'drama, history, romance',\n",
       "       'mystery, sci-fi, thriller', 'drama, film-noir',\n",
       "       'documentary, reality-tv, romance', 'comedy, crime, romance',\n",
       "       'comedy, crime, thriller', 'adventure, comedy, fantasy',\n",
       "       'adventure, comedy, romance', 'adventure, drama, horror',\n",
       "       'animation, short, adventure', 'animation, comedy, romance',\n",
       "       'comedy, horror, mystery', 'documentary, comedy',\n",
       "       'biography, drama, thriller', 'comedy, drama, musical',\n",
       "       'biography, drama, sport', 'comedy, musical',\n",
       "       'comedy, fantasy, romance', 'documentary, reality-tv',\n",
       "       'adventure, game-show, reality-tv', 'comedy, game-show',\n",
       "       'action, fantasy, thriller', 'comedy, drama, western',\n",
       "       'fantasy, sci-fi, thriller', 'animation, short, sci-fi',\n",
       "       'animation, drama, fantasy', 'action, drama, family',\n",
       "       'action, drama, sport', 'game-show, reality-tv',\n",
       "       'adventure, drama, thriller', 'drama, romance, war',\n",
       "       'action, comedy, war', 'comedy, family, music',\n",
       "       'adventure, comedy, music', 'family, fantasy, musical',\n",
       "       'comedy, horror, sci-fi', 'animation, action',\n",
       "       'comedy, musical, romance', 'drama, horror, musical',\n",
       "       'drama, family, fantasy', 'sci-fi, thriller',\n",
       "       'action, comedy, mystery', 'biography, drama, family',\n",
       "       'animation, family', 'action, thriller, war',\n",
       "       'action, crime, sci-fi', 'adventure, horror', 'action, crime',\n",
       "       'action, fantasy, horror', 'adventure, drama, western', 'fantasy',\n",
       "       'drama, family, western', 'crime, horror, western',\n",
       "       'action, adventure, history', 'drama, horror, music',\n",
       "       'animation, adventure, fantasy', 'comedy, horror, romance',\n",
       "       'documentary, history, reality-tv', 'action, crime, fantasy',\n",
       "       'talk-show', 'comedy, talk-show', 'action, biography, crime',\n",
       "       'action, comedy, thriller', 'crime, mystery, sci-fi',\n",
       "       'drama, comedy, crime', 'comedy, western',\n",
       "       'mystery, romance, thriller', 'comedy, crime, fantasy',\n",
       "       'drama, horror, western', 'comedy, drama, history', 'comedy, war',\n",
       "       'history, sport', 'action, horror, war', 'action, drama, western',\n",
       "       'action, comedy', 'game-show, music, reality-tv',\n",
       "       'animation, drama, war', 'documentary', 'adventure, crime, drama',\n",
       "       'action, comedy, family', 'documentary, drama, history',\n",
       "       'adventure, comedy, reality-tv', 'fantasy, mystery, sci-fi',\n",
       "       'action, comedy, romance', 'crime, fantasy, horror',\n",
       "       'fantasy, mystery, romance', 'crime, horror, sci-fi',\n",
       "       'family, fantasy, romance', 'comedy, romance, sport',\n",
       "       'drama, film-noir, mystery', 'comedy, reality-tv',\n",
       "       'crime, drama, music', 'adventure, fantasy, sci-fi',\n",
       "       'animation, drama', 'comedy, mystery, thriller',\n",
       "       'documentary, sport', 'drama, family, reality-tv', 'short, family',\n",
       "       'comedy, history, news', 'adventure, mystery, thriller',\n",
       "       'animation', 'short, drama, romance', 'comedy, crime, musical',\n",
       "       'crime, drama, western', 'reality-tv, romance',\n",
       "       'documentary, horror', 'crime, mystery',\n",
       "       'adventure, comedy, history', 'drama, family, musical',\n",
       "       'action, comedy, sport', 'animation, horror', 'action, fantasy',\n",
       "       'short, drama', 'family, western', 'biography',\n",
       "       'drama, horror, romance', 'drama, fantasy, history',\n",
       "       'animation, crime, mystery', 'short, action',\n",
       "       'documentary, short, action', 'adventure, comedy, musical',\n",
       "       'comedy, family, sport', 'adventure, thriller, western',\n",
       "       'documentary, biography, drama', 'animation, action, crime',\n",
       "       'animation, action, thriller', 'action, western',\n",
       "       'short, adventure, comedy', 'game-show, reality-tv, romance',\n",
       "       'adventure, fantasy, horror', 'action, drama, music',\n",
       "       'documentary, fantasy, history', 'family, game-show, music',\n",
       "       'family, musical, romance', 'drama, romance, mystery',\n",
       "       'action, romance, thriller', 'comedy, history, war',\n",
       "       'documentary, biography, comedy', 'animation, drama, music',\n",
       "       'animation, action, horror', 'crime, mystery, romance', 'sci-fi',\n",
       "       'crime, mystery, drama', 'comedy, crime, horror',\n",
       "       'crime, sci-fi, thriller', 'music', 'crime, romance, thriller',\n",
       "       'animation, comedy, fantasy', 'horror, music, thriller',\n",
       "       'comedy, crime, family', 'comedy, romance, musical',\n",
       "       'family, game-show, reality-tv', 'action, crime, romance',\n",
       "       'crime, film-noir, mystery', 'biography, drama, war',\n",
       "       'crime, drama, sport', 'comedy, music, musical',\n",
       "       'mystery, romance', 'drama, music, musical',\n",
       "       'animation, drama, mystery', 'comedy, romance, western',\n",
       "       'short, comedy', 'short, action, sci-fi',\n",
       "       'romance, sci-fi, thriller', 'comedy, history',\n",
       "       'comedy, horror, music', 'history', 'drama, family, history',\n",
       "       'family, fantasy, mystery', 'crime, drama, film-noir'],\n",
       "      dtype=object)"
      ]
     },
     "execution_count": 65,
     "metadata": {},
     "output_type": "execute_result"
    }
   ],
   "source": [
    "imdb_data.genre.unique()"
   ]
  },
  {
   "cell_type": "code",
   "execution_count": 66,
   "id": "eef71210",
   "metadata": {},
   "outputs": [],
   "source": [
    "imdb_data.genre=imdb_data.genre.str.replace(' ','')\n",
    "genre_cols = imdb_data.genre.str.get_dummies(sep=',')\n"
   ]
  },
  {
   "cell_type": "code",
   "execution_count": 67,
   "id": "e419059c",
   "metadata": {},
   "outputs": [
    {
     "data": {
      "text/html": [
       "<div>\n",
       "<style scoped>\n",
       "    .dataframe tbody tr th:only-of-type {\n",
       "        vertical-align: middle;\n",
       "    }\n",
       "\n",
       "    .dataframe tbody tr th {\n",
       "        vertical-align: top;\n",
       "    }\n",
       "\n",
       "    .dataframe thead th {\n",
       "        text-align: right;\n",
       "    }\n",
       "</style>\n",
       "<table border=\"1\" class=\"dataframe\">\n",
       "  <thead>\n",
       "    <tr style=\"text-align: right;\">\n",
       "      <th></th>\n",
       "      <th>action</th>\n",
       "      <th>adventure</th>\n",
       "      <th>animation</th>\n",
       "      <th>biography</th>\n",
       "      <th>comedy</th>\n",
       "      <th>crime</th>\n",
       "      <th>documentary</th>\n",
       "      <th>drama</th>\n",
       "      <th>family</th>\n",
       "      <th>fantasy</th>\n",
       "      <th>...</th>\n",
       "      <th>news</th>\n",
       "      <th>reality-tv</th>\n",
       "      <th>romance</th>\n",
       "      <th>sci-fi</th>\n",
       "      <th>short</th>\n",
       "      <th>sport</th>\n",
       "      <th>talk-show</th>\n",
       "      <th>thriller</th>\n",
       "      <th>war</th>\n",
       "      <th>western</th>\n",
       "    </tr>\n",
       "  </thead>\n",
       "  <tbody>\n",
       "    <tr>\n",
       "      <th>0</th>\n",
       "      <td>1</td>\n",
       "      <td>1</td>\n",
       "      <td>0</td>\n",
       "      <td>0</td>\n",
       "      <td>0</td>\n",
       "      <td>0</td>\n",
       "      <td>0</td>\n",
       "      <td>0</td>\n",
       "      <td>0</td>\n",
       "      <td>0</td>\n",
       "      <td>...</td>\n",
       "      <td>0</td>\n",
       "      <td>0</td>\n",
       "      <td>0</td>\n",
       "      <td>0</td>\n",
       "      <td>0</td>\n",
       "      <td>0</td>\n",
       "      <td>0</td>\n",
       "      <td>1</td>\n",
       "      <td>0</td>\n",
       "      <td>0</td>\n",
       "    </tr>\n",
       "    <tr>\n",
       "      <th>1</th>\n",
       "      <td>0</td>\n",
       "      <td>0</td>\n",
       "      <td>0</td>\n",
       "      <td>0</td>\n",
       "      <td>0</td>\n",
       "      <td>1</td>\n",
       "      <td>0</td>\n",
       "      <td>1</td>\n",
       "      <td>0</td>\n",
       "      <td>0</td>\n",
       "      <td>...</td>\n",
       "      <td>0</td>\n",
       "      <td>0</td>\n",
       "      <td>0</td>\n",
       "      <td>0</td>\n",
       "      <td>0</td>\n",
       "      <td>0</td>\n",
       "      <td>0</td>\n",
       "      <td>1</td>\n",
       "      <td>0</td>\n",
       "      <td>0</td>\n",
       "    </tr>\n",
       "    <tr>\n",
       "      <th>2</th>\n",
       "      <td>0</td>\n",
       "      <td>0</td>\n",
       "      <td>0</td>\n",
       "      <td>0</td>\n",
       "      <td>0</td>\n",
       "      <td>1</td>\n",
       "      <td>0</td>\n",
       "      <td>1</td>\n",
       "      <td>0</td>\n",
       "      <td>0</td>\n",
       "      <td>...</td>\n",
       "      <td>0</td>\n",
       "      <td>0</td>\n",
       "      <td>0</td>\n",
       "      <td>0</td>\n",
       "      <td>0</td>\n",
       "      <td>0</td>\n",
       "      <td>0</td>\n",
       "      <td>0</td>\n",
       "      <td>0</td>\n",
       "      <td>0</td>\n",
       "    </tr>\n",
       "    <tr>\n",
       "      <th>3</th>\n",
       "      <td>1</td>\n",
       "      <td>1</td>\n",
       "      <td>0</td>\n",
       "      <td>0</td>\n",
       "      <td>0</td>\n",
       "      <td>0</td>\n",
       "      <td>0</td>\n",
       "      <td>0</td>\n",
       "      <td>0</td>\n",
       "      <td>0</td>\n",
       "      <td>...</td>\n",
       "      <td>0</td>\n",
       "      <td>0</td>\n",
       "      <td>0</td>\n",
       "      <td>1</td>\n",
       "      <td>0</td>\n",
       "      <td>0</td>\n",
       "      <td>0</td>\n",
       "      <td>0</td>\n",
       "      <td>0</td>\n",
       "      <td>0</td>\n",
       "    </tr>\n",
       "    <tr>\n",
       "      <th>4</th>\n",
       "      <td>1</td>\n",
       "      <td>1</td>\n",
       "      <td>0</td>\n",
       "      <td>0</td>\n",
       "      <td>0</td>\n",
       "      <td>0</td>\n",
       "      <td>0</td>\n",
       "      <td>1</td>\n",
       "      <td>0</td>\n",
       "      <td>0</td>\n",
       "      <td>...</td>\n",
       "      <td>0</td>\n",
       "      <td>0</td>\n",
       "      <td>0</td>\n",
       "      <td>0</td>\n",
       "      <td>0</td>\n",
       "      <td>0</td>\n",
       "      <td>0</td>\n",
       "      <td>0</td>\n",
       "      <td>0</td>\n",
       "      <td>0</td>\n",
       "    </tr>\n",
       "  </tbody>\n",
       "</table>\n",
       "<p>5 rows × 27 columns</p>\n",
       "</div>"
      ],
      "text/plain": [
       "   action  adventure  animation  biography  comedy  crime  documentary  drama  \\\n",
       "0       1          1          0          0       0      0            0      0   \n",
       "1       0          0          0          0       0      1            0      1   \n",
       "2       0          0          0          0       0      1            0      1   \n",
       "3       1          1          0          0       0      0            0      0   \n",
       "4       1          1          0          0       0      0            0      1   \n",
       "\n",
       "   family  fantasy  ...  news  reality-tv  romance  sci-fi  short  sport  \\\n",
       "0       0        0  ...     0           0        0       0      0      0   \n",
       "1       0        0  ...     0           0        0       0      0      0   \n",
       "2       0        0  ...     0           0        0       0      0      0   \n",
       "3       0        0  ...     0           0        0       1      0      0   \n",
       "4       0        0  ...     0           0        0       0      0      0   \n",
       "\n",
       "   talk-show  thriller  war  western  \n",
       "0          0         1    0        0  \n",
       "1          0         1    0        0  \n",
       "2          0         0    0        0  \n",
       "3          0         0    0        0  \n",
       "4          0         0    0        0  \n",
       "\n",
       "[5 rows x 27 columns]"
      ]
     },
     "execution_count": 67,
     "metadata": {},
     "output_type": "execute_result"
    }
   ],
   "source": [
    "genre_cols.head()"
   ]
  },
  {
   "cell_type": "code",
   "execution_count": 68,
   "id": "d7c67698",
   "metadata": {},
   "outputs": [
    {
     "data": {
      "text/plain": [
       "array(['pg-13', 'r', 'tv-ma', 'none', 'tv-14', 'tv-pg', 'pg', 'tv-g',\n",
       "       '(banned)', 'not rated', 'e', 'nc-17', 'tv-y7-fv', 'tv-y7',\n",
       "       'unrated', 'approved', 'g', 'tv-y', 'gp', 'passed', 'm', 'x',\n",
       "       'm/pg'], dtype=object)"
      ]
     },
     "execution_count": 68,
     "metadata": {},
     "output_type": "execute_result"
    }
   ],
   "source": [
    "imdb_data.certificate.unique()"
   ]
  },
  {
   "cell_type": "code",
   "execution_count": 69,
   "id": "232f88d0",
   "metadata": {},
   "outputs": [],
   "source": [
    "data = pd.concat([imdb_data, genre_cols], axis=1, join='inner')"
   ]
  },
  {
   "cell_type": "code",
   "execution_count": 70,
   "id": "5123028f",
   "metadata": {},
   "outputs": [],
   "source": [
    "del data['genre']"
   ]
  },
  {
   "cell_type": "code",
   "execution_count": 71,
   "id": "f3c7f6e7",
   "metadata": {},
   "outputs": [],
   "source": [
    "data.votes = data.votes.astype(int)"
   ]
  },
  {
   "cell_type": "code",
   "execution_count": 72,
   "id": "8cb492a8",
   "metadata": {},
   "outputs": [
    {
     "data": {
      "text/html": [
       "<div>\n",
       "<style scoped>\n",
       "    .dataframe tbody tr th:only-of-type {\n",
       "        vertical-align: middle;\n",
       "    }\n",
       "\n",
       "    .dataframe tbody tr th {\n",
       "        vertical-align: top;\n",
       "    }\n",
       "\n",
       "    .dataframe thead th {\n",
       "        text-align: right;\n",
       "    }\n",
       "</style>\n",
       "<table border=\"1\" class=\"dataframe\">\n",
       "  <thead>\n",
       "    <tr style=\"text-align: right;\">\n",
       "      <th></th>\n",
       "      <th>type</th>\n",
       "      <th>certificate</th>\n",
       "      <th>nudity</th>\n",
       "      <th>violence</th>\n",
       "      <th>profanity</th>\n",
       "      <th>alcohol</th>\n",
       "      <th>frightening</th>\n",
       "      <th>rate</th>\n",
       "      <th>votes</th>\n",
       "      <th>duration</th>\n",
       "      <th>...</th>\n",
       "      <th>news</th>\n",
       "      <th>reality-tv</th>\n",
       "      <th>romance</th>\n",
       "      <th>sci-fi</th>\n",
       "      <th>short</th>\n",
       "      <th>sport</th>\n",
       "      <th>talk-show</th>\n",
       "      <th>thriller</th>\n",
       "      <th>war</th>\n",
       "      <th>western</th>\n",
       "    </tr>\n",
       "  </thead>\n",
       "  <tbody>\n",
       "    <tr>\n",
       "      <th>0</th>\n",
       "      <td>film</td>\n",
       "      <td>pg-13</td>\n",
       "      <td>mild</td>\n",
       "      <td>moderate</td>\n",
       "      <td>mild</td>\n",
       "      <td>mild</td>\n",
       "      <td>moderate</td>\n",
       "      <td>7.6</td>\n",
       "      <td>107163</td>\n",
       "      <td>163</td>\n",
       "      <td>...</td>\n",
       "      <td>0</td>\n",
       "      <td>0</td>\n",
       "      <td>0</td>\n",
       "      <td>0</td>\n",
       "      <td>0</td>\n",
       "      <td>0</td>\n",
       "      <td>0</td>\n",
       "      <td>1</td>\n",
       "      <td>0</td>\n",
       "      <td>0</td>\n",
       "    </tr>\n",
       "    <tr>\n",
       "      <th>1</th>\n",
       "      <td>film</td>\n",
       "      <td>r</td>\n",
       "      <td>none</td>\n",
       "      <td>none</td>\n",
       "      <td>severe</td>\n",
       "      <td>none</td>\n",
       "      <td>moderate</td>\n",
       "      <td>6.3</td>\n",
       "      <td>64375</td>\n",
       "      <td>90</td>\n",
       "      <td>...</td>\n",
       "      <td>0</td>\n",
       "      <td>0</td>\n",
       "      <td>0</td>\n",
       "      <td>0</td>\n",
       "      <td>0</td>\n",
       "      <td>0</td>\n",
       "      <td>0</td>\n",
       "      <td>1</td>\n",
       "      <td>0</td>\n",
       "      <td>0</td>\n",
       "    </tr>\n",
       "    <tr>\n",
       "      <th>2</th>\n",
       "      <td>film</td>\n",
       "      <td>r</td>\n",
       "      <td>moderate</td>\n",
       "      <td>severe</td>\n",
       "      <td>severe</td>\n",
       "      <td>moderate</td>\n",
       "      <td>moderate</td>\n",
       "      <td>6.4</td>\n",
       "      <td>27145</td>\n",
       "      <td>120</td>\n",
       "      <td>...</td>\n",
       "      <td>0</td>\n",
       "      <td>0</td>\n",
       "      <td>0</td>\n",
       "      <td>0</td>\n",
       "      <td>0</td>\n",
       "      <td>0</td>\n",
       "      <td>0</td>\n",
       "      <td>0</td>\n",
       "      <td>0</td>\n",
       "      <td>0</td>\n",
       "    </tr>\n",
       "    <tr>\n",
       "      <th>3</th>\n",
       "      <td>film</td>\n",
       "      <td>pg-13</td>\n",
       "      <td>none</td>\n",
       "      <td>moderate</td>\n",
       "      <td>moderate</td>\n",
       "      <td>mild</td>\n",
       "      <td>moderate</td>\n",
       "      <td>6.4</td>\n",
       "      <td>30443</td>\n",
       "      <td>97</td>\n",
       "      <td>...</td>\n",
       "      <td>0</td>\n",
       "      <td>0</td>\n",
       "      <td>0</td>\n",
       "      <td>1</td>\n",
       "      <td>0</td>\n",
       "      <td>0</td>\n",
       "      <td>0</td>\n",
       "      <td>0</td>\n",
       "      <td>0</td>\n",
       "      <td>0</td>\n",
       "    </tr>\n",
       "    <tr>\n",
       "      <th>4</th>\n",
       "      <td>film</td>\n",
       "      <td>pg-13</td>\n",
       "      <td>none</td>\n",
       "      <td>moderate</td>\n",
       "      <td>none</td>\n",
       "      <td>mild</td>\n",
       "      <td>moderate</td>\n",
       "      <td>8.3</td>\n",
       "      <td>84636</td>\n",
       "      <td>155</td>\n",
       "      <td>...</td>\n",
       "      <td>0</td>\n",
       "      <td>0</td>\n",
       "      <td>0</td>\n",
       "      <td>0</td>\n",
       "      <td>0</td>\n",
       "      <td>0</td>\n",
       "      <td>0</td>\n",
       "      <td>0</td>\n",
       "      <td>0</td>\n",
       "      <td>0</td>\n",
       "    </tr>\n",
       "  </tbody>\n",
       "</table>\n",
       "<p>5 rows × 37 columns</p>\n",
       "</div>"
      ],
      "text/plain": [
       "   type certificate    nudity  violence profanity   alcohol frightening  rate  \\\n",
       "0  film       pg-13      mild  moderate      mild      mild    moderate   7.6   \n",
       "1  film           r      none      none    severe      none    moderate   6.3   \n",
       "2  film           r  moderate    severe    severe  moderate    moderate   6.4   \n",
       "3  film       pg-13      none  moderate  moderate      mild    moderate   6.4   \n",
       "4  film       pg-13      none  moderate      none      mild    moderate   8.3   \n",
       "\n",
       "    votes  duration  ...  news  reality-tv  romance  sci-fi  short  sport  \\\n",
       "0  107163       163  ...     0           0        0       0      0      0   \n",
       "1   64375        90  ...     0           0        0       0      0      0   \n",
       "2   27145       120  ...     0           0        0       0      0      0   \n",
       "3   30443        97  ...     0           0        0       1      0      0   \n",
       "4   84636       155  ...     0           0        0       0      0      0   \n",
       "\n",
       "   talk-show  thriller  war  western  \n",
       "0          0         1    0        0  \n",
       "1          0         1    0        0  \n",
       "2          0         0    0        0  \n",
       "3          0         0    0        0  \n",
       "4          0         0    0        0  \n",
       "\n",
       "[5 rows x 37 columns]"
      ]
     },
     "execution_count": 72,
     "metadata": {},
     "output_type": "execute_result"
    }
   ],
   "source": [
    "data.head()"
   ]
  },
  {
   "cell_type": "code",
   "execution_count": 73,
   "id": "e24bf437",
   "metadata": {},
   "outputs": [],
   "source": [
    "from sklearn.model_selection import train_test_split"
   ]
  },
  {
   "cell_type": "code",
   "execution_count": 74,
   "id": "2b5c9a81",
   "metadata": {},
   "outputs": [],
   "source": [
    "df_full_train, df_test = train_test_split(data, test_size=0.2, random_state=1)\n",
    "df_train, df_val = train_test_split(df_full_train, test_size=0.25, random_state=1)"
   ]
  },
  {
   "cell_type": "code",
   "execution_count": 75,
   "id": "e55e3bc0",
   "metadata": {},
   "outputs": [],
   "source": [
    "df_train = df_train.reset_index(drop=True)\n",
    "df_val = df_val.reset_index(drop=True)\n",
    "df_test = df_test.reset_index(drop=True)"
   ]
  },
  {
   "cell_type": "code",
   "execution_count": 76,
   "id": "9aaf522b",
   "metadata": {},
   "outputs": [],
   "source": [
    "y_train = np.log1p(df_train.rate.values)\n",
    "y_val = np.log1p(df_val.rate.values)\n",
    "y_test = np.log1p(df_test.rate.values)\n",
    "\n",
    "del df_train['rate']\n",
    "del df_val['rate']\n",
    "del df_test['rate']"
   ]
  },
  {
   "cell_type": "code",
   "execution_count": 77,
   "id": "08bfee00",
   "metadata": {},
   "outputs": [
    {
     "data": {
      "text/plain": [
       "array([2.16332303, 1.85629799, 2.04122033, ..., 2.11625551, 2.01490302,\n",
       "       2.28238239])"
      ]
     },
     "execution_count": 77,
     "metadata": {},
     "output_type": "execute_result"
    }
   ],
   "source": [
    "y_train"
   ]
  },
  {
   "cell_type": "code",
   "execution_count": 78,
   "id": "5c1ab71e",
   "metadata": {},
   "outputs": [],
   "source": [
    "from sklearn.feature_extraction import DictVectorizer"
   ]
  },
  {
   "cell_type": "code",
   "execution_count": 79,
   "id": "f55aa0f5",
   "metadata": {},
   "outputs": [],
   "source": [
    "dv = DictVectorizer(sparse=False)\n",
    "\n",
    "train_dict = df_train.to_dict(orient='records')\n",
    "X_train = dv.fit_transform(train_dict)\n",
    "\n",
    "val_dict = df_val.to_dict(orient='records')\n",
    "X_val = dv.transform(val_dict)"
   ]
  },
  {
   "cell_type": "markdown",
   "id": "36b59f40",
   "metadata": {},
   "source": [
    "**Linear regression model**"
   ]
  },
  {
   "cell_type": "code",
   "execution_count": 80,
   "id": "99a4c449",
   "metadata": {},
   "outputs": [],
   "source": [
    "from sklearn.linear_model import LinearRegression"
   ]
  },
  {
   "cell_type": "code",
   "execution_count": 81,
   "id": "a8f8f855",
   "metadata": {},
   "outputs": [
    {
     "data": {
      "text/plain": [
       "LinearRegression()"
      ]
     },
     "execution_count": 81,
     "metadata": {},
     "output_type": "execute_result"
    }
   ],
   "source": [
    "regr = LinearRegression()\n",
    "regr.fit(X_train,y_train)"
   ]
  },
  {
   "cell_type": "code",
   "execution_count": 82,
   "id": "60f62381",
   "metadata": {},
   "outputs": [],
   "source": [
    "y_pred = regr.predict(X_val)"
   ]
  },
  {
   "cell_type": "code",
   "execution_count": 83,
   "id": "b2be09c1",
   "metadata": {},
   "outputs": [],
   "source": [
    "from sklearn.metrics import r2_score"
   ]
  },
  {
   "cell_type": "code",
   "execution_count": 84,
   "id": "a1d908fa",
   "metadata": {},
   "outputs": [
    {
     "name": "stdout",
     "output_type": "stream",
     "text": [
      "R2-score: 0.44\n"
     ]
    }
   ],
   "source": [
    "print(\"R2-score: %.2f\" % r2_score(y_val , y_pred) )"
   ]
  },
  {
   "cell_type": "code",
   "execution_count": 85,
   "id": "f28321ac",
   "metadata": {},
   "outputs": [
    {
     "data": {
      "text/plain": [
       "(1.8718021769015913, 1.9565374269101212)"
      ]
     },
     "execution_count": 85,
     "metadata": {},
     "output_type": "execute_result"
    }
   ],
   "source": [
    "y_val[25],y_pred[25]"
   ]
  },
  {
   "cell_type": "code",
   "execution_count": 86,
   "id": "3eae1aa7",
   "metadata": {},
   "outputs": [
    {
     "data": {
      "text/plain": [
       "(5.499999999999999, 6.0747876356065476)"
      ]
     },
     "execution_count": 86,
     "metadata": {},
     "output_type": "execute_result"
    }
   ],
   "source": [
    "np.expm1(y_val[25]),np.expm1(y_pred[25])"
   ]
  },
  {
   "cell_type": "code",
   "execution_count": 87,
   "id": "76805119",
   "metadata": {},
   "outputs": [],
   "source": [
    "def rmse(y, y_pred):\n",
    "    se = (y - y_pred) ** 2\n",
    "    mse = se.mean()\n",
    "    return np.sqrt(mse)"
   ]
  },
  {
   "cell_type": "code",
   "execution_count": 88,
   "id": "02293bc1",
   "metadata": {},
   "outputs": [
    {
     "data": {
      "text/plain": [
       "0.29899680957694175"
      ]
     },
     "execution_count": 88,
     "metadata": {},
     "output_type": "execute_result"
    }
   ],
   "source": [
    "rmse(y_val , y_pred)"
   ]
  },
  {
   "cell_type": "code",
   "execution_count": 89,
   "id": "c5a00c45",
   "metadata": {},
   "outputs": [
    {
     "data": {
      "text/plain": [
       "<AxesSubplot:ylabel='Count'>"
      ]
     },
     "execution_count": 89,
     "metadata": {},
     "output_type": "execute_result"
    },
    {
     "data": {
      "image/png": "[encoded data removed]",
      "text/plain": [
       "<Figure size 432x288 with 1 Axes>"
      ]
     },
     "metadata": {
      "needs_background": "light"
     },
     "output_type": "display_data"
    }
   ],
   "source": [
    "sns.histplot(y_pred, color='red', alpha=0.5, bins=50)\n",
    "sns.histplot(y_val, color='blue', alpha=0.5, bins=50)"
   ]
  },
  {
   "cell_type": "markdown",
   "id": "35ea2854",
   "metadata": {},
   "source": [
    "**Decision Tree regression model**"
   ]
  },
  {
   "cell_type": "code",
   "execution_count": 90,
   "id": "77cd66da",
   "metadata": {},
   "outputs": [],
   "source": [
    "from sklearn.tree import DecisionTreeRegressor"
   ]
  },
  {
   "cell_type": "code",
   "execution_count": 91,
   "id": "ec6dd0ec",
   "metadata": {},
   "outputs": [
    {
     "data": {
      "text/plain": [
       "DecisionTreeRegressor(max_depth=7)"
      ]
     },
     "execution_count": 91,
     "metadata": {},
     "output_type": "execute_result"
    }
   ],
   "source": [
    "dt = DecisionTreeRegressor(max_depth=7)\n",
    "dt.fit(X_train, y_train)"
   ]
  },
  {
   "cell_type": "code",
   "execution_count": 92,
   "id": "4fa24a9b",
   "metadata": {},
   "outputs": [],
   "source": [
    "y_pred = dt.predict(X_val)"
   ]
  },
  {
   "cell_type": "code",
   "execution_count": 93,
   "id": "99d09e44",
   "metadata": {},
   "outputs": [
    {
     "data": {
      "text/plain": [
       "0.14475883996991215"
      ]
     },
     "execution_count": 93,
     "metadata": {},
     "output_type": "execute_result"
    }
   ],
   "source": [
    "rmse(y_val , y_pred)"
   ]
  },
  {
   "cell_type": "code",
   "execution_count": 94,
   "id": "c5809852",
   "metadata": {},
   "outputs": [
    {
     "data": {
      "text/plain": [
       "<AxesSubplot:ylabel='Count'>"
      ]
     },
     "execution_count": 94,
     "metadata": {},
     "output_type": "execute_result"
    },
    {
     "data": {
      "image/png": "[encoded data removed]",
      "text/plain": [
       "<Figure size 432x288 with 1 Axes>"
      ]
     },
     "metadata": {
      "needs_background": "light"
     },
     "output_type": "display_data"
    }
   ],
   "source": [
    "sns.histplot(np.expm1(y_pred), color='red', alpha=0.5, bins=50)\n",
    "sns.histplot(np.expm1(y_val), color='blue', alpha=0.5, bins=50)"
   ]
  },
  {
   "cell_type": "code",
   "execution_count": 95,
   "id": "f813b258",
   "metadata": {},
   "outputs": [
    {
     "name": "stdout",
     "output_type": "stream",
     "text": [
      "R2-score: 0.87\n"
     ]
    }
   ],
   "source": [
    "print(\"R2-score: %.2f\" % r2_score(y_val , y_pred) )"
   ]
  },
  {
   "cell_type": "code",
   "execution_count": 96,
   "id": "23bf1a4b",
   "metadata": {},
   "outputs": [
    {
     "data": {
      "text/plain": [
       "(5.999999999999999, 6.2679834859299035)"
      ]
     },
     "execution_count": 96,
     "metadata": {},
     "output_type": "execute_result"
    }
   ],
   "source": [
    "np.expm1(y_val[50]),np.expm1(y_pred[50])"
   ]
  },
  {
   "cell_type": "code",
   "execution_count": 97,
   "id": "e9719744",
   "metadata": {},
   "outputs": [],
   "source": [
    "from sklearn.tree import export_text"
   ]
  },
  {
   "cell_type": "code",
   "execution_count": 98,
   "id": "399b885e",
   "metadata": {},
   "outputs": [
    {
     "name": "stdout",
     "output_type": "stream",
     "text": [
      "|--- duration <= 1.00\n",
      "|   |--- votes <= 90058.50\n",
      "|   |   |--- certificate=tv-pg <= 0.50\n",
      "|   |   |   |--- certificate=tv-14 <= 0.50\n",
      "|   |   |   |   |--- war <= 0.50\n",
      "|   |   |   |   |   |--- animation <= 0.50\n",
      "|   |   |   |   |   |   |--- profanity=moderate <= 0.50\n",
      "|   |   |   |   |   |   |   |--- value: [2.12]\n",
      "|   |   |   |   |   |   |--- profanity=moderate >  0.50\n",
      "|   |   |   |   |   |   |   |--- value: [2.06]\n",
      "|   |   |   |   |   |--- animation >  0.50\n",
      "|   |   |   |   |   |   |--- adventure <= 0.50\n",
      "|   |   |   |   |   |   |   |--- value: [2.23]\n",
      "|   |   |   |   |   |   |--- adventure >  0.50\n",
      "|   |   |   |   |   |   |   |--- value: [2.23]\n",
      "|   |   |   |   |--- war >  0.50\n",
      "|   |   |   |   |   |--- value: [1.90]\n",
      "|   |   |   |--- certificate=tv-14 >  0.50\n",
      "|   |   |   |   |--- profanity=no rate <= 0.50\n",
      "|   |   |   |   |   |--- frightening=no rate <= 0.50\n",
      "|   |   |   |   |   |   |--- profanity=severe <= 0.50\n",
      "|   |   |   |   |   |   |   |--- value: [2.15]\n",
      "|   |   |   |   |   |   |--- profanity=severe >  0.50\n",
      "|   |   |   |   |   |   |   |--- value: [2.10]\n",
      "|   |   |   |   |   |--- frightening=no rate >  0.50\n",
      "|   |   |   |   |   |   |--- violence=moderate <= 0.50\n",
      "|   |   |   |   |   |   |   |--- value: [2.08]\n",
      "|   |   |   |   |   |   |--- violence=moderate >  0.50\n",
      "|   |   |   |   |   |   |   |--- value: [2.00]\n",
      "|   |   |   |   |--- profanity=no rate >  0.50\n",
      "|   |   |   |   |   |--- drama <= 0.50\n",
      "|   |   |   |   |   |   |--- mystery <= 0.50\n",
      "|   |   |   |   |   |   |   |--- value: [2.11]\n",
      "|   |   |   |   |   |   |--- mystery >  0.50\n",
      "|   |   |   |   |   |   |   |--- value: [1.86]\n",
      "|   |   |   |   |   |--- drama >  0.50\n",
      "|   |   |   |   |   |   |--- votes <= 2714.50\n",
      "|   |   |   |   |   |   |   |--- value: [1.92]\n",
      "|   |   |   |   |   |   |--- votes >  2714.50\n",
      "|   |   |   |   |   |   |   |--- value: [1.84]\n",
      "|   |   |--- certificate=tv-pg >  0.50\n",
      "|   |   |   |--- votes <= 2240.00\n",
      "|   |   |   |   |--- violence=no rate <= 0.50\n",
      "|   |   |   |   |   |--- frightening=mild <= 0.50\n",
      "|   |   |   |   |   |   |--- value: [1.70]\n",
      "|   |   |   |   |   |--- frightening=mild >  0.50\n",
      "|   |   |   |   |   |   |--- value: [1.87]\n",
      "|   |   |   |   |--- violence=no rate >  0.50\n",
      "|   |   |   |   |   |--- value: [1.46]\n",
      "|   |   |   |--- votes >  2240.00\n",
      "|   |   |   |   |--- nudity=none <= 0.50\n",
      "|   |   |   |   |   |--- frightening=none <= 0.50\n",
      "|   |   |   |   |   |   |--- nudity=mild <= 0.50\n",
      "|   |   |   |   |   |   |   |--- value: [2.01]\n",
      "|   |   |   |   |   |   |--- nudity=mild >  0.50\n",
      "|   |   |   |   |   |   |   |--- value: [2.03]\n",
      "|   |   |   |   |   |--- frightening=none >  0.50\n",
      "|   |   |   |   |   |   |--- value: [2.14]\n",
      "|   |   |   |   |--- nudity=none >  0.50\n",
      "|   |   |   |   |   |--- animation <= 0.50\n",
      "|   |   |   |   |   |   |--- frightening=no rate <= 0.50\n",
      "|   |   |   |   |   |   |   |--- value: [2.14]\n",
      "|   |   |   |   |   |   |--- frightening=no rate >  0.50\n",
      "|   |   |   |   |   |   |   |--- value: [2.10]\n",
      "|   |   |   |   |   |--- animation >  0.50\n",
      "|   |   |   |   |   |   |--- value: [2.20]\n",
      "|   |--- votes >  90058.50\n",
      "|   |   |--- frightening=moderate <= 0.50\n",
      "|   |   |   |--- value: [0.00]\n",
      "|   |   |--- frightening=moderate >  0.50\n",
      "|   |   |   |--- value: [2.23]\n",
      "|--- duration >  1.00\n",
      "|   |--- type=film <= 0.50\n",
      "|   |   |--- votes <= 43470.50\n",
      "|   |   |   |--- votes <= 257.50\n",
      "|   |   |   |   |--- certificate=none <= 0.50\n",
      "|   |   |   |   |   |--- votes <= 137.50\n",
      "|   |   |   |   |   |   |--- votes <= 43.00\n",
      "|   |   |   |   |   |   |   |--- value: [2.05]\n",
      "|   |   |   |   |   |   |--- votes >  43.00\n",
      "|   |   |   |   |   |   |   |--- value: [2.13]\n",
      "|   |   |   |   |   |--- votes >  137.50\n",
      "|   |   |   |   |   |   |--- votes <= 197.00\n",
      "|   |   |   |   |   |   |   |--- value: [1.92]\n",
      "|   |   |   |   |   |   |--- votes >  197.00\n",
      "|   |   |   |   |   |   |   |--- value: [2.21]\n",
      "|   |   |   |   |--- certificate=none >  0.50\n",
      "|   |   |   |   |   |--- reality-tv <= 0.50\n",
      "|   |   |   |   |   |   |--- comedy <= 0.50\n",
      "|   |   |   |   |   |   |   |--- value: [1.68]\n",
      "|   |   |   |   |   |   |--- comedy >  0.50\n",
      "|   |   |   |   |   |   |   |--- value: [1.89]\n",
      "|   |   |   |   |   |--- reality-tv >  0.50\n",
      "|   |   |   |   |   |   |--- value: [1.41]\n",
      "|   |   |   |--- votes >  257.50\n",
      "|   |   |   |   |--- animation <= 0.50\n",
      "|   |   |   |   |   |--- duration <= 61.00\n",
      "|   |   |   |   |   |   |--- romance <= 0.50\n",
      "|   |   |   |   |   |   |   |--- value: [2.12]\n",
      "|   |   |   |   |   |   |--- romance >  0.50\n",
      "|   |   |   |   |   |   |   |--- value: [2.05]\n",
      "|   |   |   |   |   |--- duration >  61.00\n",
      "|   |   |   |   |   |   |--- votes <= 7799.50\n",
      "|   |   |   |   |   |   |   |--- value: [2.16]\n",
      "|   |   |   |   |   |   |--- votes >  7799.50\n",
      "|   |   |   |   |   |   |   |--- value: [2.22]\n",
      "|   |   |   |   |--- animation >  0.50\n",
      "|   |   |   |   |   |--- votes <= 5779.50\n",
      "|   |   |   |   |   |   |--- certificate=tv-ma <= 0.50\n",
      "|   |   |   |   |   |   |   |--- value: [2.16]\n",
      "|   |   |   |   |   |   |--- certificate=tv-ma >  0.50\n",
      "|   |   |   |   |   |   |   |--- value: [1.96]\n",
      "|   |   |   |   |   |--- votes >  5779.50\n",
      "|   |   |   |   |   |   |--- short <= 0.50\n",
      "|   |   |   |   |   |   |   |--- value: [2.21]\n",
      "|   |   |   |   |   |   |--- short >  0.50\n",
      "|   |   |   |   |   |   |   |--- value: [2.06]\n",
      "|   |   |--- votes >  43470.50\n",
      "|   |   |   |--- votes <= 123641.50\n",
      "|   |   |   |   |--- animation <= 0.50\n",
      "|   |   |   |   |   |--- certificate=tv-14 <= 0.50\n",
      "|   |   |   |   |   |   |--- votes <= 117041.50\n",
      "|   |   |   |   |   |   |   |--- value: [2.20]\n",
      "|   |   |   |   |   |   |--- votes >  117041.50\n",
      "|   |   |   |   |   |   |   |--- value: [2.10]\n",
      "|   |   |   |   |   |--- certificate=tv-14 >  0.50\n",
      "|   |   |   |   |   |   |--- alcohol=none <= 0.50\n",
      "|   |   |   |   |   |   |   |--- value: [2.15]\n",
      "|   |   |   |   |   |   |--- alcohol=none >  0.50\n",
      "|   |   |   |   |   |   |   |--- value: [2.08]\n",
      "|   |   |   |   |--- animation >  0.50\n",
      "|   |   |   |   |   |--- frightening=none <= 0.50\n",
      "|   |   |   |   |   |   |--- votes <= 48674.50\n",
      "|   |   |   |   |   |   |   |--- value: [2.22]\n",
      "|   |   |   |   |   |   |--- votes >  48674.50\n",
      "|   |   |   |   |   |   |   |--- value: [2.27]\n",
      "|   |   |   |   |   |--- frightening=none >  0.50\n",
      "|   |   |   |   |   |   |--- romance <= 0.50\n",
      "|   |   |   |   |   |   |   |--- value: [2.21]\n",
      "|   |   |   |   |   |   |--- romance >  0.50\n",
      "|   |   |   |   |   |   |   |--- value: [2.19]\n",
      "|   |   |   |--- votes >  123641.50\n",
      "|   |   |   |   |--- music <= 0.50\n",
      "|   |   |   |   |   |--- votes <= 258418.50\n",
      "|   |   |   |   |   |   |--- biography <= 0.50\n",
      "|   |   |   |   |   |   |   |--- value: [2.23]\n",
      "|   |   |   |   |   |   |--- biography >  0.50\n",
      "|   |   |   |   |   |   |   |--- value: [2.35]\n",
      "|   |   |   |   |   |--- votes >  258418.50\n",
      "|   |   |   |   |   |   |--- fantasy <= 0.50\n",
      "|   |   |   |   |   |   |   |--- value: [2.27]\n",
      "|   |   |   |   |   |   |--- fantasy >  0.50\n",
      "|   |   |   |   |   |   |   |--- value: [2.23]\n",
      "|   |   |   |   |--- music >  0.50\n",
      "|   |   |   |   |   |--- value: [2.04]\n",
      "|   |--- type=film >  0.50\n",
      "|   |   |--- nudity=no rate <= 0.50\n",
      "|   |   |   |--- votes <= 106038.50\n",
      "|   |   |   |   |--- drama <= 0.50\n",
      "|   |   |   |   |   |--- votes <= 46941.50\n",
      "|   |   |   |   |   |   |--- thriller <= 0.50\n",
      "|   |   |   |   |   |   |   |--- value: [1.93]\n",
      "|   |   |   |   |   |   |--- thriller >  0.50\n",
      "|   |   |   |   |   |   |   |--- value: [1.83]\n",
      "|   |   |   |   |   |--- votes >  46941.50\n",
      "|   |   |   |   |   |   |--- duration <= 87.50\n",
      "|   |   |   |   |   |   |   |--- value: [1.80]\n",
      "|   |   |   |   |   |   |--- duration >  87.50\n",
      "|   |   |   |   |   |   |   |--- value: [1.97]\n",
      "|   |   |   |   |--- drama >  0.50\n",
      "|   |   |   |   |   |--- votes <= 18664.00\n",
      "|   |   |   |   |   |   |--- duration <= 117.50\n",
      "|   |   |   |   |   |   |   |--- value: [1.91]\n",
      "|   |   |   |   |   |   |--- duration >  117.50\n",
      "|   |   |   |   |   |   |   |--- value: [2.06]\n",
      "|   |   |   |   |   |--- votes >  18664.00\n",
      "|   |   |   |   |   |   |--- duration <= 118.50\n",
      "|   |   |   |   |   |   |   |--- value: [2.03]\n",
      "|   |   |   |   |   |   |--- duration >  118.50\n",
      "|   |   |   |   |   |   |   |--- value: [2.09]\n",
      "|   |   |   |--- votes >  106038.50\n",
      "|   |   |   |   |--- votes <= 323469.00\n",
      "|   |   |   |   |   |--- drama <= 0.50\n",
      "|   |   |   |   |   |   |--- certificate=pg-13 <= 0.50\n",
      "|   |   |   |   |   |   |   |--- value: [2.05]\n",
      "|   |   |   |   |   |   |--- certificate=pg-13 >  0.50\n",
      "|   |   |   |   |   |   |   |--- value: [1.98]\n",
      "|   |   |   |   |   |--- drama >  0.50\n",
      "|   |   |   |   |   |   |--- certificate=pg-13 <= 0.50\n",
      "|   |   |   |   |   |   |   |--- value: [2.12]\n",
      "|   |   |   |   |   |   |--- certificate=pg-13 >  0.50\n",
      "|   |   |   |   |   |   |   |--- value: [2.07]\n",
      "|   |   |   |   |--- votes >  323469.00\n",
      "|   |   |   |   |   |--- votes <= 653804.50\n",
      "|   |   |   |   |   |   |--- drama <= 0.50\n",
      "|   |   |   |   |   |   |   |--- value: [2.11]\n",
      "|   |   |   |   |   |   |--- drama >  0.50\n",
      "|   |   |   |   |   |   |   |--- value: [2.17]\n",
      "|   |   |   |   |   |--- votes >  653804.50\n",
      "|   |   |   |   |   |   |--- votes <= 897254.50\n",
      "|   |   |   |   |   |   |   |--- value: [2.19]\n",
      "|   |   |   |   |   |   |--- votes >  897254.50\n",
      "|   |   |   |   |   |   |   |--- value: [2.25]\n",
      "|   |   |--- nudity=no rate >  0.50\n",
      "|   |   |   |--- votes <= 113227.00\n",
      "|   |   |   |   |--- duration <= 98.50\n",
      "|   |   |   |   |   |--- certificate=r <= 0.50\n",
      "|   |   |   |   |   |   |--- horror <= 0.50\n",
      "|   |   |   |   |   |   |   |--- value: [1.93]\n",
      "|   |   |   |   |   |   |--- horror >  0.50\n",
      "|   |   |   |   |   |   |   |--- value: [1.74]\n",
      "|   |   |   |   |   |--- certificate=r >  0.50\n",
      "|   |   |   |   |   |   |--- votes <= 113.50\n",
      "|   |   |   |   |   |   |   |--- value: [2.01]\n",
      "|   |   |   |   |   |   |--- votes >  113.50\n",
      "|   |   |   |   |   |   |   |--- value: [1.58]\n",
      "|   |   |   |   |--- duration >  98.50\n",
      "|   |   |   |   |   |--- duration <= 133.50\n",
      "|   |   |   |   |   |   |--- certificate=tv-14 <= 0.50\n",
      "|   |   |   |   |   |   |   |--- value: [2.00]\n",
      "|   |   |   |   |   |   |--- certificate=tv-14 >  0.50\n",
      "|   |   |   |   |   |   |   |--- value: [1.59]\n",
      "|   |   |   |   |   |--- duration >  133.50\n",
      "|   |   |   |   |   |   |--- votes <= 3007.00\n",
      "|   |   |   |   |   |   |   |--- value: [2.13]\n",
      "|   |   |   |   |   |   |--- votes >  3007.00\n",
      "|   |   |   |   |   |   |   |--- value: [2.29]\n",
      "|   |   |   |--- votes >  113227.00\n",
      "|   |   |   |   |--- votes <= 220785.50\n",
      "|   |   |   |   |   |--- value: [0.00]\n",
      "|   |   |   |   |--- votes >  220785.50\n",
      "|   |   |   |   |   |--- value: [2.13]\n",
      "\n"
     ]
    }
   ],
   "source": [
    "print(export_text(dt, feature_names=dv.get_feature_names()))"
   ]
  },
  {
   "cell_type": "code",
   "execution_count": 99,
   "id": "9f3c599c",
   "metadata": {},
   "outputs": [
    {
     "name": "stdout",
     "output_type": "stream",
     "text": [
      "D: 3.000000, R2-score: 5.00, rmse: 7.000\n"
     ]
    }
   ],
   "source": [
    "print(\"D: %f, R2-score: %.2f, rmse: %.3f\"  % (3,5,7) )"
   ]
  },
  {
   "cell_type": "code",
   "execution_count": 100,
   "id": "ccc1dabc",
   "metadata": {},
   "outputs": [
    {
     "name": "stdout",
     "output_type": "stream",
     "text": [
      "D: 1.000000 R2-score: 0.37 rmse: 0.318\n",
      "\n",
      "D: 2.000000 R2-score: 0.71 rmse: 0.214\n",
      "\n",
      "D: 3.000000 R2-score: 0.74 rmse: 0.203\n",
      "\n",
      "D: 4.000000 R2-score: 0.85 rmse: 0.154\n",
      "\n",
      "D: 5.000000 R2-score: 0.86 rmse: 0.151\n",
      "\n",
      "D: 6.000000 R2-score: 0.86 rmse: 0.148\n",
      "\n",
      "D: 7.000000 R2-score: 0.87 rmse: 0.145\n",
      "\n",
      "D: 8.000000 R2-score: 0.84 rmse: 0.159\n",
      "\n",
      "D: 9.000000 R2-score: 0.84 rmse: 0.159\n",
      "\n",
      "D: 10.000000 R2-score: 0.86 rmse: 0.150\n",
      "\n"
     ]
    }
   ],
   "source": [
    "for d in [1,2,3,4,5,6,7,8,9,10]:\n",
    "    dt = DecisionTreeRegressor(max_depth=d)\n",
    "    dt.fit(X_train, y_train)\n",
    "    y_pred = dt.predict(X_val)\n",
    "    print(\"D: %f R2-score: %.2f rmse: %.3f\"  % (d, r2_score(y_val , y_pred), rmse(y_val , y_pred)) )\n",
    "    print()"
   ]
  },
  {
   "cell_type": "markdown",
   "id": "17cd924e",
   "metadata": {},
   "source": [
    "**Random forest regression model**"
   ]
  },
  {
   "cell_type": "code",
   "execution_count": 101,
   "id": "d42fcef7",
   "metadata": {},
   "outputs": [],
   "source": [
    "from sklearn.ensemble import RandomForestRegressor"
   ]
  },
  {
   "cell_type": "code",
   "execution_count": 102,
   "id": "06325cc4",
   "metadata": {},
   "outputs": [
    {
     "data": {
      "text/plain": [
       "[(10, 0.134),\n",
       " (20, 0.13),\n",
       " (30, 0.128),\n",
       " (40, 0.128),\n",
       " (50, 0.126),\n",
       " (60, 0.126),\n",
       " (70, 0.126),\n",
       " (80, 0.127),\n",
       " (90, 0.126),\n",
       " (100, 0.126),\n",
       " (110, 0.126),\n",
       " (120, 0.126),\n",
       " (130, 0.126),\n",
       " (140, 0.126),\n",
       " (150, 0.127),\n",
       " (160, 0.127),\n",
       " (170, 0.127),\n",
       " (180, 0.127),\n",
       " (190, 0.127),\n",
       " (200, 0.127)]"
      ]
     },
     "execution_count": 102,
     "metadata": {},
     "output_type": "execute_result"
    }
   ],
   "source": [
    "rf_rmse_score = []\n",
    "for r in range(10,201,10):\n",
    "    rf = RandomForestRegressor(n_estimators=r, random_state=1, n_jobs=-1)\n",
    "    rf.fit(X_train, y_train)\n",
    "\n",
    "    y_pred = rf.predict(X_val)\n",
    "    score_mean = rmse(y_val, y_pred)\n",
    "    rf_rmse_score.append((r, round(score_mean, 3)))\n",
    "\n",
    "rf_rmse_score"
   ]
  },
  {
   "cell_type": "code",
   "execution_count": 103,
   "id": "ce3cfa45",
   "metadata": {},
   "outputs": [
    {
     "data": {
      "text/plain": [
       "RandomForestRegressor(n_estimators=50, n_jobs=-1, random_state=1)"
      ]
     },
     "execution_count": 103,
     "metadata": {},
     "output_type": "execute_result"
    }
   ],
   "source": [
    "rf = RandomForestRegressor(n_estimators=50, random_state=1, n_jobs=-1)\n",
    "rf.fit(X_train, y_train)"
   ]
  },
  {
   "cell_type": "code",
   "execution_count": 104,
   "id": "592a0a23",
   "metadata": {},
   "outputs": [],
   "source": [
    "y_pred = rf.predict(X_val)"
   ]
  },
  {
   "cell_type": "code",
   "execution_count": 105,
   "id": "8b59c4b3",
   "metadata": {},
   "outputs": [
    {
     "data": {
      "text/plain": [
       "(5.999999999999999, 6.096261054781529)"
      ]
     },
     "execution_count": 105,
     "metadata": {},
     "output_type": "execute_result"
    }
   ],
   "source": [
    "np.expm1(y_val[50]),np.expm1(y_pred[50])"
   ]
  },
  {
   "cell_type": "code",
   "execution_count": 106,
   "id": "c3b034d2",
   "metadata": {},
   "outputs": [
    {
     "data": {
      "text/plain": [
       "0.12634158654934058"
      ]
     },
     "execution_count": 106,
     "metadata": {},
     "output_type": "execute_result"
    }
   ],
   "source": [
    "rmse(y_val,y_pred)"
   ]
  },
  {
   "cell_type": "code",
   "execution_count": 107,
   "id": "9b0157a2",
   "metadata": {},
   "outputs": [
    {
     "data": {
      "text/plain": [
       "<AxesSubplot:ylabel='Count'>"
      ]
     },
     "execution_count": 107,
     "metadata": {},
     "output_type": "execute_result"
    },
    {
     "data": {
      "image/png": "[encoded data removed]",
      "text/plain": [
       "<Figure size 432x288 with 1 Axes>"
      ]
     },
     "metadata": {
      "needs_background": "light"
     },
     "output_type": "display_data"
    }
   ],
   "source": [
    "sns.histplot(y_pred, color='red', alpha=0.5, bins=50)\n",
    "sns.histplot(y_val, color='blue', alpha=0.5, bins=50)"
   ]
  },
  {
   "cell_type": "code",
   "execution_count": 108,
   "id": "91a2a7e7",
   "metadata": {},
   "outputs": [
    {
     "name": "stdout",
     "output_type": "stream",
     "text": [
      "R2-score: 0.90\n"
     ]
    }
   ],
   "source": [
    "print(\"R2-score: %.2f\" % r2_score(y_val , y_pred) )"
   ]
  },
  {
   "cell_type": "code",
   "execution_count": 109,
   "id": "b44e74ef",
   "metadata": {},
   "outputs": [
    {
     "name": "stdout",
     "output_type": "stream",
     "text": [
      "Feature: 0, Score: 0.00267\n",
      "Feature: 1, Score: 0.00150\n",
      "Feature: 2, Score: 0.00110\n",
      "Feature: 3, Score: 0.00102\n",
      "Feature: 4, Score: 0.00130\n",
      "Feature: 5, Score: 0.00153\n",
      "Feature: 6, Score: 0.00085\n",
      "Feature: 7, Score: 0.00148\n",
      "Feature: 8, Score: 0.00031\n",
      "Feature: 9, Score: 0.00003\n",
      "Feature: 10, Score: 0.00032\n",
      "Feature: 11, Score: 0.00001\n",
      "Feature: 12, Score: 0.00013\n",
      "Feature: 13, Score: 0.00001\n",
      "Feature: 14, Score: 0.00004\n",
      "Feature: 15, Score: 0.00000\n",
      "Feature: 16, Score: 0.00001\n",
      "Feature: 17, Score: 0.00569\n",
      "Feature: 18, Score: 0.00104\n",
      "Feature: 19, Score: 0.00018\n",
      "Feature: 20, Score: 0.00088\n",
      "Feature: 21, Score: 0.00338\n",
      "Feature: 22, Score: 0.00148\n",
      "Feature: 23, Score: 0.00146\n",
      "Feature: 24, Score: 0.00030\n",
      "Feature: 25, Score: 0.00060\n",
      "Feature: 26, Score: 0.00051\n",
      "Feature: 27, Score: 0.00002\n",
      "Feature: 28, Score: 0.00008\n",
      "Feature: 29, Score: 0.00001\n",
      "Feature: 30, Score: 0.00010\n",
      "Feature: 31, Score: 0.00000\n",
      "Feature: 32, Score: 0.00193\n",
      "Feature: 33, Score: 0.00120\n",
      "Feature: 34, Score: 0.00011\n",
      "Feature: 35, Score: 0.00954\n",
      "Feature: 36, Score: 0.30039\n",
      "Feature: 37, Score: 0.00121\n",
      "Feature: 38, Score: 0.00145\n",
      "Feature: 39, Score: 0.00002\n",
      "Feature: 40, Score: 0.00096\n",
      "Feature: 41, Score: 0.00245\n",
      "Feature: 42, Score: 0.00941\n",
      "Feature: 43, Score: 0.00069\n",
      "Feature: 44, Score: 0.00097\n",
      "Feature: 45, Score: 0.00022\n",
      "Feature: 46, Score: 0.00023\n",
      "Feature: 47, Score: 0.00273\n",
      "Feature: 48, Score: 0.00048\n",
      "Feature: 49, Score: 0.00026\n",
      "Feature: 50, Score: 0.00131\n",
      "Feature: 51, Score: 0.00000\n",
      "Feature: 52, Score: 0.00123\n",
      "Feature: 53, Score: 0.00176\n",
      "Feature: 54, Score: 0.01692\n",
      "Feature: 55, Score: 0.00170\n",
      "Feature: 56, Score: 0.00157\n",
      "Feature: 57, Score: 0.00236\n",
      "Feature: 58, Score: 0.00103\n",
      "Feature: 59, Score: 0.00467\n",
      "Feature: 60, Score: 0.00094\n",
      "Feature: 61, Score: 0.00252\n",
      "Feature: 62, Score: 0.00088\n",
      "Feature: 63, Score: 0.00201\n",
      "Feature: 64, Score: 0.00154\n",
      "Feature: 65, Score: 0.00028\n",
      "Feature: 66, Score: 0.00006\n",
      "Feature: 67, Score: 0.00000\n",
      "Feature: 68, Score: 0.00336\n",
      "Feature: 69, Score: 0.02619\n",
      "Feature: 70, Score: 0.00047\n",
      "Feature: 71, Score: 0.00113\n",
      "Feature: 72, Score: 0.00142\n",
      "Feature: 73, Score: 0.00920\n",
      "Feature: 74, Score: 0.00063\n",
      "Feature: 75, Score: 0.00090\n",
      "Feature: 76, Score: 0.55293\n",
      "Feature: 77, Score: 0.00015\n",
      "Feature: 78, Score: 0.00054\n"
     ]
    }
   ],
   "source": [
    "# get importance\n",
    "importance = rf.feature_importances_\n",
    "# summarize feature importance\n",
    "for i,v in enumerate(importance):\n",
    "\tprint('Feature: %0d, Score: %.5f' % (i,v))"
   ]
  },
  {
   "cell_type": "code",
   "execution_count": 110,
   "id": "f1e96d98",
   "metadata": {},
   "outputs": [
    {
     "data": {
      "image/png": "[encoded data removed]",
      "text/plain": [
       "<Figure size 432x288 with 1 Axes>"
      ]
     },
     "metadata": {
      "needs_background": "light"
     },
     "output_type": "display_data"
    }
   ],
   "source": [
    "# plot feature importance\n",
    "plt.bar([x for x in range(len(importance))], importance)\n",
    "plt.show()"
   ]
  },
  {
   "cell_type": "code",
   "execution_count": 111,
   "id": "78017ff6",
   "metadata": {},
   "outputs": [
    {
     "data": {
      "text/plain": [
       "('votes', 'duration')"
      ]
     },
     "execution_count": 111,
     "metadata": {},
     "output_type": "execute_result"
    }
   ],
   "source": [
    "feature_names=dv.get_feature_names()\n",
    "feature_names[76],feature_names[36]"
   ]
  },
  {
   "cell_type": "markdown",
   "id": "ddee2f02",
   "metadata": {},
   "source": [
    "**xgboost regression model**"
   ]
  },
  {
   "cell_type": "code",
   "execution_count": 112,
   "id": "6650d69d",
   "metadata": {},
   "outputs": [],
   "source": [
    "import xgboost as xgb"
   ]
  },
  {
   "cell_type": "code",
   "execution_count": 113,
   "id": "e04f2885",
   "metadata": {},
   "outputs": [],
   "source": [
    "features = dv.get_feature_names()\n",
    "dtrain = xgb.DMatrix(X_train, label=y_train, feature_names=features)\n",
    "dval = xgb.DMatrix(X_val, label=y_val, feature_names=features)"
   ]
  },
  {
   "cell_type": "code",
   "execution_count": 114,
   "id": "83b1418b",
   "metadata": {},
   "outputs": [],
   "source": [
    "xgb_rsme_scores = []\n",
    "for e in [0.3, 0.1, 0.01]:\n",
    "    xgb_params = {\n",
    "        'eta': e, \n",
    "        'max_depth': 6,\n",
    "        'min_child_weight': 1,\n",
    "\n",
    "        'objective': 'reg:squarederror',\n",
    "        'nthread': 8,\n",
    "\n",
    "        'seed': 1,\n",
    "        'verbosity': 1,\n",
    "    }\n",
    "\n",
    "    model = xgb.train(xgb_params, dtrain, num_boost_round=100)\n",
    "    y_pred = model.predict(dval)\n",
    "    score_mean = rmse(y_val, y_pred)\n",
    "    xgb_r2_score = r2_score(y_val , y_pred)\n",
    "    xgb_rsme_scores.append((e,round(score_mean, 3),round(xgb_r2_score,3)))"
   ]
  },
  {
   "cell_type": "code",
   "execution_count": 115,
   "id": "e07c0924",
   "metadata": {},
   "outputs": [
    {
     "data": {
      "text/plain": [
       "[(0.3, 0.124, 0.904), (0.1, 0.127, 0.899), (0.01, 0.581, -1.106)]"
      ]
     },
     "execution_count": 115,
     "metadata": {},
     "output_type": "execute_result"
    }
   ],
   "source": [
    "xgb_rsme_scores"
   ]
  },
  {
   "cell_type": "code",
   "execution_count": 116,
   "id": "e2ddf44f",
   "metadata": {},
   "outputs": [],
   "source": [
    "xgb_rsme_scores = []\n",
    "for d in [2,3,4,5,6,7,8,9,10]:\n",
    "    xgb_params = {\n",
    "        'eta': 0.3, \n",
    "        'max_depth': d,\n",
    "        'min_child_weight': 1,\n",
    "\n",
    "        'objective': 'reg:squarederror',\n",
    "        'nthread': 8,\n",
    "\n",
    "        'seed': 1,\n",
    "        'verbosity': 1,\n",
    "    }\n",
    "\n",
    "    model = xgb.train(xgb_params, dtrain, num_boost_round=100)\n",
    "    y_pred = model.predict(dval)\n",
    "    score_mean = rmse(y_val, y_pred)\n",
    "    xgb_r2_score = r2_score(y_val , y_pred)\n",
    "    xgb_rsme_scores.append((d,round(score_mean, 3),round(xgb_r2_score,3)))"
   ]
  },
  {
   "cell_type": "code",
   "execution_count": 117,
   "id": "38e5400f",
   "metadata": {},
   "outputs": [
    {
     "data": {
      "text/plain": [
       "[(2, 0.123, 0.906),\n",
       " (3, 0.115, 0.917),\n",
       " (4, 0.125, 0.902),\n",
       " (5, 0.125, 0.903),\n",
       " (6, 0.124, 0.904),\n",
       " (7, 0.127, 0.899),\n",
       " (8, 0.127, 0.9),\n",
       " (9, 0.127, 0.9),\n",
       " (10, 0.127, 0.899)]"
      ]
     },
     "execution_count": 117,
     "metadata": {},
     "output_type": "execute_result"
    }
   ],
   "source": [
    "xgb_rsme_scores"
   ]
  },
  {
   "cell_type": "code",
   "execution_count": 118,
   "id": "6886a821",
   "metadata": {},
   "outputs": [],
   "source": [
    "xgb_rsme_scores = []\n",
    "for c in [1,2,3,4,5]:\n",
    "    xgb_params = {\n",
    "        'eta': 0.3, \n",
    "        'max_depth': 8,\n",
    "        'min_child_weight': c,\n",
    "\n",
    "        'objective': 'reg:squarederror',\n",
    "        'nthread': 8,\n",
    "\n",
    "        'seed': 1,\n",
    "        'verbosity': 1,\n",
    "    }\n",
    "\n",
    "    model = xgb.train(xgb_params, dtrain, num_boost_round=100)\n",
    "    y_pred = model.predict(dval)\n",
    "    score_mean = rmse(y_val, y_pred)\n",
    "    xgb_r2_score = r2_score(y_val , y_pred)\n",
    "    xgb_rsme_scores.append((c,round(score_mean, 3),round(xgb_r2_score,3)))"
   ]
  },
  {
   "cell_type": "code",
   "execution_count": 119,
   "id": "e39c1a20",
   "metadata": {},
   "outputs": [
    {
     "data": {
      "text/plain": [
       "[(1, 0.127, 0.9),\n",
       " (2, 0.125, 0.902),\n",
       " (3, 0.125, 0.902),\n",
       " (4, 0.124, 0.903),\n",
       " (5, 0.127, 0.899)]"
      ]
     },
     "execution_count": 119,
     "metadata": {},
     "output_type": "execute_result"
    }
   ],
   "source": [
    "xgb_rsme_scores"
   ]
  },
  {
   "cell_type": "code",
   "execution_count": 120,
   "id": "0606fc9f",
   "metadata": {},
   "outputs": [],
   "source": [
    "xgb_params = {\n",
    "        'eta': 0.3, \n",
    "        'max_depth': 8,\n",
    "        'min_child_weight': 2,\n",
    "\n",
    "        'objective': 'reg:squarederror',\n",
    "        'nthread': 8,\n",
    "\n",
    "        'seed': 1,\n",
    "        'verbosity': 1,\n",
    "    }\n",
    "model = xgb.train(xgb_params, dtrain, num_boost_round=100)\n",
    "y_pred = model.predict(dval)\n",
    "score_mean = rmse(y_val, y_pred)\n",
    "xgb_r2_score = r2_score(y_val , y_pred)"
   ]
  },
  {
   "cell_type": "code",
   "execution_count": 121,
   "id": "0b87dba3",
   "metadata": {},
   "outputs": [
    {
     "name": "stdout",
     "output_type": "stream",
     "text": [
      "R2-score: 0.90, rmse: 0.125\n"
     ]
    }
   ],
   "source": [
    "print(\"R2-score: %.2f, rmse: %.3f\"  % (xgb_r2_score,score_mean) )"
   ]
  },
  {
   "cell_type": "code",
   "execution_count": 122,
   "id": "033c0210",
   "metadata": {},
   "outputs": [
    {
     "data": {
      "text/plain": [
       "(5.499999999999999, 5.376498)"
      ]
     },
     "execution_count": 122,
     "metadata": {},
     "output_type": "execute_result"
    }
   ],
   "source": [
    "np.expm1(y_val[15]),np.expm1(y_pred[15])"
   ]
  },
  {
   "cell_type": "markdown",
   "id": "eaacb974",
   "metadata": {},
   "source": [
    "**Final XGBoost model with full train data set**"
   ]
  },
  {
   "cell_type": "code",
   "execution_count": 123,
   "id": "2b85f3c9",
   "metadata": {},
   "outputs": [],
   "source": [
    "df_full_train, df_test = train_test_split(data, test_size=0.2, random_state=1)"
   ]
  },
  {
   "cell_type": "code",
   "execution_count": 124,
   "id": "e550d96d",
   "metadata": {},
   "outputs": [],
   "source": [
    "df_full_train = df_full_train.reset_index(drop=True)\n",
    "df_test = df_test.reset_index(drop=True)\n",
    "\n",
    "y_train = np.log1p(df_full_train.rate.values)\n",
    "y_test = np.log1p(df_test.rate.values)\n",
    "\n",
    "del df_full_train['rate']\n",
    "del df_test['rate']"
   ]
  },
  {
   "cell_type": "code",
   "execution_count": 125,
   "id": "c9c5d801",
   "metadata": {},
   "outputs": [],
   "source": [
    "dv = DictVectorizer(sparse=False)\n",
    "\n",
    "train_dict = df_full_train.to_dict(orient='records')\n",
    "X_train = dv.fit_transform(train_dict)\n",
    "\n",
    "val_dict = df_test.to_dict(orient='records')\n",
    "X_test = dv.transform(val_dict)"
   ]
  },
  {
   "cell_type": "code",
   "execution_count": 126,
   "id": "2a58ed07",
   "metadata": {},
   "outputs": [],
   "source": [
    "features = dv.get_feature_names()\n",
    "dtrain = xgb.DMatrix(X_train, label=y_train, feature_names=features)\n",
    "dval = xgb.DMatrix(X_test, label=y_test, feature_names=features)"
   ]
  },
  {
   "cell_type": "code",
   "execution_count": 127,
   "id": "9e288848",
   "metadata": {},
   "outputs": [],
   "source": [
    "xgb_params = {\n",
    "        'eta': 0.3, \n",
    "        'max_depth': 8,\n",
    "        'min_child_weight': 2,\n",
    "\n",
    "        'objective': 'reg:squarederror',\n",
    "        'nthread': 8,\n",
    "\n",
    "        'seed': 1,\n",
    "        'verbosity': 1,\n",
    "    }\n",
    "model = xgb.train(xgb_params, dtrain, num_boost_round=100)\n",
    "y_pred = model.predict(dval)\n",
    "score_mean = rmse(y_test, y_pred)\n",
    "xgb_r2_score = r2_score(y_test , y_pred)"
   ]
  },
  {
   "cell_type": "code",
   "execution_count": 128,
   "id": "a6e654bc",
   "metadata": {},
   "outputs": [
    {
     "data": {
      "text/plain": [
       "(0.1152777508856016, 0.919437396105891)"
      ]
     },
     "execution_count": 128,
     "metadata": {},
     "output_type": "execute_result"
    }
   ],
   "source": [
    "score_mean, xgb_r2_score"
   ]
  },
  {
   "cell_type": "code",
   "execution_count": 129,
   "id": "540a01a5",
   "metadata": {},
   "outputs": [
    {
     "data": {
      "text/plain": [
       "<AxesSubplot:ylabel='Count'>"
      ]
     },
     "execution_count": 129,
     "metadata": {},
     "output_type": "execute_result"
    },
    {
     "data": {
      "image/png": "[encoded data removed]",
      "text/plain": [
       "<Figure size 432x288 with 1 Axes>"
      ]
     },
     "metadata": {
      "needs_background": "light"
     },
     "output_type": "display_data"
    }
   ],
   "source": [
    "sns.histplot(y_test, color='red', alpha=0.5, bins=50)\n",
    "sns.histplot(y_val, color='blue', alpha=0.5, bins=50)"
   ]
  },
  {
   "cell_type": "code",
   "execution_count": 130,
   "id": "8a4a9da8",
   "metadata": {
    "scrolled": true
   },
   "outputs": [
    {
     "data": {
      "text/plain": [
       "type              film\n",
       "certificate       none\n",
       "nudity         no rate\n",
       "violence       no rate\n",
       "profanity      no rate\n",
       "alcohol        no rate\n",
       "frightening    no rate\n",
       "votes             5753\n",
       "duration           106\n",
       "action               0\n",
       "adventure            0\n",
       "animation            0\n",
       "biography            0\n",
       "comedy               0\n",
       "crime                1\n",
       "documentary          0\n",
       "drama                1\n",
       "family               0\n",
       "fantasy              0\n",
       "film-noir            0\n",
       "game-show            0\n",
       "history              0\n",
       "horror               1\n",
       "music                0\n",
       "musical              0\n",
       "mystery              0\n",
       "news                 0\n",
       "reality-tv           0\n",
       "romance              0\n",
       "sci-fi               0\n",
       "short                0\n",
       "sport                0\n",
       "talk-show            0\n",
       "thriller             0\n",
       "war                  0\n",
       "western              0\n",
       "Name: 0, dtype: object"
      ]
     },
     "execution_count": 130,
     "metadata": {},
     "output_type": "execute_result"
    }
   ],
   "source": [
    "df_test.iloc[0]"
   ]
  },
  {
   "cell_type": "markdown",
   "id": "39677853",
   "metadata": {},
   "source": [
    "**Testing with new data**"
   ]
  },
  {
   "cell_type": "code",
   "execution_count": 131,
   "id": "f5fa20bb",
   "metadata": {},
   "outputs": [],
   "source": [
    "new_movie = {\n",
    "    \"type\":\"series\",\n",
    "    \"certificate\":\"tv-14\",\n",
    "    \"nudity\":\"mild\",\n",
    "    \"violence\":\"none\",\n",
    "    \"profanity\":\"mild\",\n",
    "    \"alcohol\":\"mild\",\n",
    "    \"frightening\":\"none\",\n",
    "    \"votes\":23048,\n",
    "    \"duration\":30,\n",
    "    \"action\":0,\n",
    "    \"adventure\":0,\n",
    "    \"animation\":0,\n",
    "    \"biography\":0,\n",
    "    \"comedy\":1,\n",
    "    \"crime\":0,\n",
    "    \"documentary\":1,\n",
    "    \"drama\":0,\n",
    "    \"family\":0,\n",
    "    \"fantasy\":0,\n",
    "    \"film-noir\":0,\n",
    "    \"game-show\":0,\n",
    "    \"history\":0,\n",
    "    \"horror\":0,\n",
    "    \"music\":0,\n",
    "    \"musical\":0,\n",
    "    \"mystery\":0,\n",
    "    \"news\":0,\n",
    "    \"reality-tv\":0,\n",
    "    \"romance\":0,\n",
    "    \"sci-fi\":0,\n",
    "    \"short\":0,\n",
    "    \"sport\":0,\n",
    "    \"talk-show\":0,\n",
    "    \"thriller\":0,\n",
    "    \"war\":0,\n",
    "    \"western\":0\n",
    "}"
   ]
  },
  {
   "cell_type": "code",
   "execution_count": 132,
   "id": "2afa1fcf",
   "metadata": {},
   "outputs": [],
   "source": [
    "X = dv.transform([new_movie])"
   ]
  },
  {
   "cell_type": "code",
   "execution_count": 133,
   "id": "0817349c",
   "metadata": {},
   "outputs": [],
   "source": [
    "dval = xgb.DMatrix(X, feature_names=features)"
   ]
  },
  {
   "cell_type": "code",
   "execution_count": 134,
   "id": "1c3c0d66",
   "metadata": {},
   "outputs": [],
   "source": [
    "y_pred = model.predict(dval)"
   ]
  },
  {
   "cell_type": "code",
   "execution_count": 135,
   "id": "71fe68e7",
   "metadata": {},
   "outputs": [
    {
     "data": {
      "text/plain": [
       "8.822675"
      ]
     },
     "execution_count": 135,
     "metadata": {},
     "output_type": "execute_result"
    }
   ],
   "source": [
    "np.expm1(y_pred)[0]"
   ]
  },
  {
   "cell_type": "code",
   "execution_count": 136,
   "id": "6127d814",
   "metadata": {},
   "outputs": [],
   "source": [
    "import pickle"
   ]
  },
  {
   "cell_type": "code",
   "execution_count": 137,
   "id": "63e3e79a",
   "metadata": {},
   "outputs": [],
   "source": [
    "C = 1.0\n",
    "output_file = f'model_{C}.bin'"
   ]
  },
  {
   "cell_type": "code",
   "execution_count": 138,
   "id": "f4e236f4",
   "metadata": {},
   "outputs": [
    {
     "name": "stdout",
     "output_type": "stream",
     "text": [
      "the model is saved to model_1.0.bin\n"
     ]
    }
   ],
   "source": [
    "# Save the model\n",
    "with open(output_file, 'wb') as f_out:\n",
    "    pickle.dump((dv, model), f_out)\n",
    "\n",
    "print(f'the model is saved to {output_file}')"
   ]
  },
  {
   "cell_type": "code",
   "execution_count": null,
   "id": "82be7d9c",
   "metadata": {},
   "outputs": [],
   "source": []
  }
 ],
 "metadata": {
  "kernelspec": {
   "display_name": "Python 3",
   "language": "python",
   "name": "python3"
  },
  "language_info": {
   "codemirror_mode": {
    "name": "ipython",
    "version": 3
   },
   "file_extension": ".py",
   "mimetype": "text/x-python",
   "name": "python",
   "nbconvert_exporter": "python",
   "pygments_lexer": "ipython3",
   "version": "3.9.1"
  }
 },
 "nbformat": 4,
 "nbformat_minor": 5
}
