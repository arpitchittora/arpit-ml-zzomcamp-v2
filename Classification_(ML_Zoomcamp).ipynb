{
  "nbformat": 4,
  "nbformat_minor": 0,
  "metadata": {
    "colab": {
      "name": "Classification (ML Zoomcamp).ipynb",
      "provenance": [],
      "collapsed_sections": [],
      "authorship_tag": "ABX9TyMwqzES10kCGFcgfl9D0t99",
      "include_colab_link": true
    },
    "kernelspec": {
      "name": "python3",
      "display_name": "Python 3"
    },
    "language_info": {
      "name": "python"
    }
  },
  "cells": [
    {
      "cell_type": "markdown",
      "metadata": {
        "id": "view-in-github",
        "colab_type": "text"
      },
      "source": [
        "<a href=\"https://colab.research.google.com/github/arpitchittora/arpit-ml-zoomcamp/blob/main/Classification_(ML_Zoomcamp).ipynb\" target=\"_parent\"><img src=\"https://colab.research.google.com/assets/colab-badge.svg\" alt=\"Open In Colab\"/></a>"
      ]
    },
    {
      "cell_type": "code",
      "metadata": {
        "id": "OyZTrdffGE0W"
      },
      "source": [
        "import pandas as pd\n",
        "import numpy as np\n",
        "\n",
        "import matplotlib.pyplot as plt"
      ],
      "execution_count": 1,
      "outputs": []
    },
    {
      "cell_type": "code",
      "metadata": {
        "id": "rYTgbKy9GbH_"
      },
      "source": [
        "data = 'https://raw.githubusercontent.com/alexeygrigorev/datasets/master/AB_NYC_2019.csv'"
      ],
      "execution_count": 3,
      "outputs": []
    },
    {
      "cell_type": "code",
      "metadata": {
        "colab": {
          "base_uri": "https://localhost:8080/"
        },
        "id": "XRlGRfpTGpOQ",
        "outputId": "888dba93-f148-4936-c714-7c113eaa0e00"
      },
      "source": [
        "!wget $data -O data-week-3.csv"
      ],
      "execution_count": 4,
      "outputs": [
        {
          "output_type": "stream",
          "name": "stdout",
          "text": [
            "--2021-09-25 11:07:15--  https://raw.githubusercontent.com/alexeygrigorev/datasets/master/AB_NYC_2019.csv\n",
            "Resolving raw.githubusercontent.com (raw.githubusercontent.com)... 185.199.108.133, 185.199.109.133, 185.199.110.133, ...\n",
            "Connecting to raw.githubusercontent.com (raw.githubusercontent.com)|185.199.108.133|:443... connected.\n",
            "HTTP request sent, awaiting response... 200 OK\n",
            "Length: 7077973 (6.8M) [text/plain]\n",
            "Saving to: ‘data-week-3.csv’\n",
            "\n",
            "data-week-3.csv     100%[===================>]   6.75M  --.-KB/s    in 0.04s   \n",
            "\n",
            "2021-09-25 11:07:16 (173 MB/s) - ‘data-week-3.csv’ saved [7077973/7077973]\n",
            "\n"
          ]
        }
      ]
    },
    {
      "cell_type": "code",
      "metadata": {
        "id": "4y0qb12VHhtr"
      },
      "source": [
        "df = pd.read_csv('data-week-3.csv')"
      ],
      "execution_count": 5,
      "outputs": []
    },
    {
      "cell_type": "code",
      "metadata": {
        "colab": {
          "base_uri": "https://localhost:8080/",
          "height": 417
        },
        "id": "uo6TnXI9Hz4c",
        "outputId": "6cecf8fa-f460-4a27-fa10-68002656cf48"
      },
      "source": [
        "df.head()"
      ],
      "execution_count": 6,
      "outputs": [
        {
          "output_type": "execute_result",
          "data": {
            "text/html": [
              "<div>\n",
              "<style scoped>\n",
              "    .dataframe tbody tr th:only-of-type {\n",
              "        vertical-align: middle;\n",
              "    }\n",
              "\n",
              "    .dataframe tbody tr th {\n",
              "        vertical-align: top;\n",
              "    }\n",
              "\n",
              "    .dataframe thead th {\n",
              "        text-align: right;\n",
              "    }\n",
              "</style>\n",
              "<table border=\"1\" class=\"dataframe\">\n",
              "  <thead>\n",
              "    <tr style=\"text-align: right;\">\n",
              "      <th></th>\n",
              "      <th>id</th>\n",
              "      <th>name</th>\n",
              "      <th>host_id</th>\n",
              "      <th>host_name</th>\n",
              "      <th>neighbourhood_group</th>\n",
              "      <th>neighbourhood</th>\n",
              "      <th>latitude</th>\n",
              "      <th>longitude</th>\n",
              "      <th>room_type</th>\n",
              "      <th>price</th>\n",
              "      <th>minimum_nights</th>\n",
              "      <th>number_of_reviews</th>\n",
              "      <th>last_review</th>\n",
              "      <th>reviews_per_month</th>\n",
              "      <th>calculated_host_listings_count</th>\n",
              "      <th>availability_365</th>\n",
              "    </tr>\n",
              "  </thead>\n",
              "  <tbody>\n",
              "    <tr>\n",
              "      <th>0</th>\n",
              "      <td>2539</td>\n",
              "      <td>Clean &amp; quiet apt home by the park</td>\n",
              "      <td>2787</td>\n",
              "      <td>John</td>\n",
              "      <td>Brooklyn</td>\n",
              "      <td>Kensington</td>\n",
              "      <td>40.64749</td>\n",
              "      <td>-73.97237</td>\n",
              "      <td>Private room</td>\n",
              "      <td>149</td>\n",
              "      <td>1</td>\n",
              "      <td>9</td>\n",
              "      <td>2018-10-19</td>\n",
              "      <td>0.21</td>\n",
              "      <td>6</td>\n",
              "      <td>365</td>\n",
              "    </tr>\n",
              "    <tr>\n",
              "      <th>1</th>\n",
              "      <td>2595</td>\n",
              "      <td>Skylit Midtown Castle</td>\n",
              "      <td>2845</td>\n",
              "      <td>Jennifer</td>\n",
              "      <td>Manhattan</td>\n",
              "      <td>Midtown</td>\n",
              "      <td>40.75362</td>\n",
              "      <td>-73.98377</td>\n",
              "      <td>Entire home/apt</td>\n",
              "      <td>225</td>\n",
              "      <td>1</td>\n",
              "      <td>45</td>\n",
              "      <td>2019-05-21</td>\n",
              "      <td>0.38</td>\n",
              "      <td>2</td>\n",
              "      <td>355</td>\n",
              "    </tr>\n",
              "    <tr>\n",
              "      <th>2</th>\n",
              "      <td>3647</td>\n",
              "      <td>THE VILLAGE OF HARLEM....NEW YORK !</td>\n",
              "      <td>4632</td>\n",
              "      <td>Elisabeth</td>\n",
              "      <td>Manhattan</td>\n",
              "      <td>Harlem</td>\n",
              "      <td>40.80902</td>\n",
              "      <td>-73.94190</td>\n",
              "      <td>Private room</td>\n",
              "      <td>150</td>\n",
              "      <td>3</td>\n",
              "      <td>0</td>\n",
              "      <td>NaN</td>\n",
              "      <td>NaN</td>\n",
              "      <td>1</td>\n",
              "      <td>365</td>\n",
              "    </tr>\n",
              "    <tr>\n",
              "      <th>3</th>\n",
              "      <td>3831</td>\n",
              "      <td>Cozy Entire Floor of Brownstone</td>\n",
              "      <td>4869</td>\n",
              "      <td>LisaRoxanne</td>\n",
              "      <td>Brooklyn</td>\n",
              "      <td>Clinton Hill</td>\n",
              "      <td>40.68514</td>\n",
              "      <td>-73.95976</td>\n",
              "      <td>Entire home/apt</td>\n",
              "      <td>89</td>\n",
              "      <td>1</td>\n",
              "      <td>270</td>\n",
              "      <td>2019-07-05</td>\n",
              "      <td>4.64</td>\n",
              "      <td>1</td>\n",
              "      <td>194</td>\n",
              "    </tr>\n",
              "    <tr>\n",
              "      <th>4</th>\n",
              "      <td>5022</td>\n",
              "      <td>Entire Apt: Spacious Studio/Loft by central park</td>\n",
              "      <td>7192</td>\n",
              "      <td>Laura</td>\n",
              "      <td>Manhattan</td>\n",
              "      <td>East Harlem</td>\n",
              "      <td>40.79851</td>\n",
              "      <td>-73.94399</td>\n",
              "      <td>Entire home/apt</td>\n",
              "      <td>80</td>\n",
              "      <td>10</td>\n",
              "      <td>9</td>\n",
              "      <td>2018-11-19</td>\n",
              "      <td>0.10</td>\n",
              "      <td>1</td>\n",
              "      <td>0</td>\n",
              "    </tr>\n",
              "  </tbody>\n",
              "</table>\n",
              "</div>"
            ],
            "text/plain": [
              "     id  ... availability_365\n",
              "0  2539  ...              365\n",
              "1  2595  ...              355\n",
              "2  3647  ...              365\n",
              "3  3831  ...              194\n",
              "4  5022  ...                0\n",
              "\n",
              "[5 rows x 16 columns]"
            ]
          },
          "metadata": {},
          "execution_count": 6
        }
      ]
    },
    {
      "cell_type": "code",
      "metadata": {
        "id": "J8csYcPDH27k"
      },
      "source": [
        "df.columns = df.columns.str.lower().str.replace(' ', '_')\n",
        "\n",
        "categorical_columns = list(df.dtypes[df.dtypes == 'object'].index)\n",
        "\n",
        "for c in categorical_columns:\n",
        "    df[c] = df[c].str.lower().str.replace(' ', '_')"
      ],
      "execution_count": 7,
      "outputs": []
    },
    {
      "cell_type": "code",
      "metadata": {
        "id": "2_0Ki-b_H7-a"
      },
      "source": [
        "base = ['neighbourhood_group',\n",
        "'room_type',\n",
        "'latitude',\n",
        "'longitude',\n",
        "'price',\n",
        "'minimum_nights',\n",
        "'number_of_reviews',\n",
        "'reviews_per_month',\n",
        "'calculated_host_listings_count',\n",
        "'availability_365']"
      ],
      "execution_count": 8,
      "outputs": []
    },
    {
      "cell_type": "code",
      "metadata": {
        "colab": {
          "base_uri": "https://localhost:8080/"
        },
        "id": "OgCUtywgH-NJ",
        "outputId": "cc795b0d-2a0a-4a0c-d7e4-3070b3901b8d"
      },
      "source": [
        "df[base].isnull().sum()"
      ],
      "execution_count": 9,
      "outputs": [
        {
          "output_type": "execute_result",
          "data": {
            "text/plain": [
              "neighbourhood_group                   0\n",
              "room_type                             0\n",
              "latitude                              0\n",
              "longitude                             0\n",
              "price                                 0\n",
              "minimum_nights                        0\n",
              "number_of_reviews                     0\n",
              "reviews_per_month                 10052\n",
              "calculated_host_listings_count        0\n",
              "availability_365                      0\n",
              "dtype: int64"
            ]
          },
          "metadata": {},
          "execution_count": 9
        }
      ]
    },
    {
      "cell_type": "code",
      "metadata": {
        "id": "tCYtaKnCH-gE"
      },
      "source": [
        "df = df[base].copy()"
      ],
      "execution_count": 10,
      "outputs": []
    },
    {
      "cell_type": "code",
      "metadata": {
        "id": "krrWq9VrIAT0"
      },
      "source": [
        "df.reviews_per_month = df.reviews_per_month.fillna(0).values"
      ],
      "execution_count": 11,
      "outputs": []
    },
    {
      "cell_type": "code",
      "metadata": {
        "colab": {
          "base_uri": "https://localhost:8080/"
        },
        "id": "dMCEnOnSIB5B",
        "outputId": "5771a8fb-5284-4c95-87ca-c764082b858f"
      },
      "source": [
        "df.isnull().sum()"
      ],
      "execution_count": 12,
      "outputs": [
        {
          "output_type": "execute_result",
          "data": {
            "text/plain": [
              "neighbourhood_group               0\n",
              "room_type                         0\n",
              "latitude                          0\n",
              "longitude                         0\n",
              "price                             0\n",
              "minimum_nights                    0\n",
              "number_of_reviews                 0\n",
              "reviews_per_month                 0\n",
              "calculated_host_listings_count    0\n",
              "availability_365                  0\n",
              "dtype: int64"
            ]
          },
          "metadata": {},
          "execution_count": 12
        }
      ]
    },
    {
      "cell_type": "code",
      "metadata": {
        "colab": {
          "base_uri": "https://localhost:8080/",
          "height": 238
        },
        "id": "80pYkpxBIC9l",
        "outputId": "fd9e9e73-9fcd-41ac-e996-a2ddb4d41932"
      },
      "source": [
        "df.groupby('neighbourhood_group').price.agg(['count'])"
      ],
      "execution_count": 13,
      "outputs": [
        {
          "output_type": "execute_result",
          "data": {
            "text/html": [
              "<div>\n",
              "<style scoped>\n",
              "    .dataframe tbody tr th:only-of-type {\n",
              "        vertical-align: middle;\n",
              "    }\n",
              "\n",
              "    .dataframe tbody tr th {\n",
              "        vertical-align: top;\n",
              "    }\n",
              "\n",
              "    .dataframe thead th {\n",
              "        text-align: right;\n",
              "    }\n",
              "</style>\n",
              "<table border=\"1\" class=\"dataframe\">\n",
              "  <thead>\n",
              "    <tr style=\"text-align: right;\">\n",
              "      <th></th>\n",
              "      <th>count</th>\n",
              "    </tr>\n",
              "    <tr>\n",
              "      <th>neighbourhood_group</th>\n",
              "      <th></th>\n",
              "    </tr>\n",
              "  </thead>\n",
              "  <tbody>\n",
              "    <tr>\n",
              "      <th>bronx</th>\n",
              "      <td>1091</td>\n",
              "    </tr>\n",
              "    <tr>\n",
              "      <th>brooklyn</th>\n",
              "      <td>20104</td>\n",
              "    </tr>\n",
              "    <tr>\n",
              "      <th>manhattan</th>\n",
              "      <td>21661</td>\n",
              "    </tr>\n",
              "    <tr>\n",
              "      <th>queens</th>\n",
              "      <td>5666</td>\n",
              "    </tr>\n",
              "    <tr>\n",
              "      <th>staten_island</th>\n",
              "      <td>373</td>\n",
              "    </tr>\n",
              "  </tbody>\n",
              "</table>\n",
              "</div>"
            ],
            "text/plain": [
              "                     count\n",
              "neighbourhood_group       \n",
              "bronx                 1091\n",
              "brooklyn             20104\n",
              "manhattan            21661\n",
              "queens                5666\n",
              "staten_island          373"
            ]
          },
          "metadata": {},
          "execution_count": 13
        }
      ]
    },
    {
      "cell_type": "code",
      "metadata": {
        "colab": {
          "base_uri": "https://localhost:8080/"
        },
        "id": "pYZv3A4EIolO",
        "outputId": "ed086f90-1ced-458e-e88d-df34b3c0d9bc"
      },
      "source": [
        "df['above_average'] = np.where(df.price >= 152, 1, 0)\n",
        "df['above_average']"
      ],
      "execution_count": 14,
      "outputs": [
        {
          "output_type": "execute_result",
          "data": {
            "text/plain": [
              "0        0\n",
              "1        1\n",
              "2        0\n",
              "3        0\n",
              "4        0\n",
              "        ..\n",
              "48890    0\n",
              "48891    0\n",
              "48892    0\n",
              "48893    0\n",
              "48894    0\n",
              "Name: above_average, Length: 48895, dtype: int64"
            ]
          },
          "metadata": {},
          "execution_count": 14
        }
      ]
    },
    {
      "cell_type": "markdown",
      "metadata": {
        "id": "nYftZjzNIH_c"
      },
      "source": [
        "**Setting up the validation framework**"
      ]
    },
    {
      "cell_type": "code",
      "metadata": {
        "id": "IXL7i69CILM4"
      },
      "source": [
        "from sklearn.model_selection import train_test_split"
      ],
      "execution_count": 15,
      "outputs": []
    },
    {
      "cell_type": "code",
      "metadata": {
        "id": "D1_u3YTlIN0D"
      },
      "source": [
        "df_full_train, df_test = train_test_split(df, test_size=0.2, random_state=42)\n",
        "df_train, df_val = train_test_split(df_full_train, test_size=0.25, random_state=42)"
      ],
      "execution_count": 16,
      "outputs": []
    },
    {
      "cell_type": "code",
      "metadata": {
        "colab": {
          "base_uri": "https://localhost:8080/"
        },
        "id": "88SYPXZqIODe",
        "outputId": "377e57f3-dac7-4603-c1cb-70e051ae73c4"
      },
      "source": [
        "len(df_train), len(df_val), len(df_test)"
      ],
      "execution_count": 17,
      "outputs": [
        {
          "output_type": "execute_result",
          "data": {
            "text/plain": [
              "(29337, 9779, 9779)"
            ]
          },
          "metadata": {},
          "execution_count": 17
        }
      ]
    },
    {
      "cell_type": "code",
      "metadata": {
        "id": "gP4A8OBlIQCS"
      },
      "source": [
        "df_train = df_train.reset_index(drop=True)\n",
        "df_val = df_val.reset_index(drop=True)\n",
        "df_test = df_test.reset_index(drop=True)"
      ],
      "execution_count": 18,
      "outputs": []
    },
    {
      "cell_type": "code",
      "metadata": {
        "id": "w56TfvmYIQSj"
      },
      "source": [
        "y_train = df_train.above_average.values\n",
        "y_val = df_val.above_average.values\n",
        "y_test = df_test.above_average.values\n",
        "\n",
        "del df_train['above_average']\n",
        "del df_val['above_average']\n",
        "del df_test['above_average']"
      ],
      "execution_count": 19,
      "outputs": []
    },
    {
      "cell_type": "code",
      "metadata": {
        "colab": {
          "base_uri": "https://localhost:8080/",
          "height": 226
        },
        "id": "GOqN0FtaIRf9",
        "outputId": "709ead65-a3b1-4c31-dc57-c6514798e079"
      },
      "source": [
        "df_full_train.head()"
      ],
      "execution_count": 20,
      "outputs": [
        {
          "output_type": "execute_result",
          "data": {
            "text/html": [
              "<div>\n",
              "<style scoped>\n",
              "    .dataframe tbody tr th:only-of-type {\n",
              "        vertical-align: middle;\n",
              "    }\n",
              "\n",
              "    .dataframe tbody tr th {\n",
              "        vertical-align: top;\n",
              "    }\n",
              "\n",
              "    .dataframe thead th {\n",
              "        text-align: right;\n",
              "    }\n",
              "</style>\n",
              "<table border=\"1\" class=\"dataframe\">\n",
              "  <thead>\n",
              "    <tr style=\"text-align: right;\">\n",
              "      <th></th>\n",
              "      <th>neighbourhood_group</th>\n",
              "      <th>room_type</th>\n",
              "      <th>latitude</th>\n",
              "      <th>longitude</th>\n",
              "      <th>price</th>\n",
              "      <th>minimum_nights</th>\n",
              "      <th>number_of_reviews</th>\n",
              "      <th>reviews_per_month</th>\n",
              "      <th>calculated_host_listings_count</th>\n",
              "      <th>availability_365</th>\n",
              "      <th>above_average</th>\n",
              "    </tr>\n",
              "  </thead>\n",
              "  <tbody>\n",
              "    <tr>\n",
              "      <th>32645</th>\n",
              "      <td>brooklyn</td>\n",
              "      <td>entire_home/apt</td>\n",
              "      <td>40.71577</td>\n",
              "      <td>-73.95530</td>\n",
              "      <td>295</td>\n",
              "      <td>3</td>\n",
              "      <td>11</td>\n",
              "      <td>0.87</td>\n",
              "      <td>1</td>\n",
              "      <td>1</td>\n",
              "      <td>1</td>\n",
              "    </tr>\n",
              "    <tr>\n",
              "      <th>23615</th>\n",
              "      <td>manhattan</td>\n",
              "      <td>private_room</td>\n",
              "      <td>40.84917</td>\n",
              "      <td>-73.94048</td>\n",
              "      <td>70</td>\n",
              "      <td>2</td>\n",
              "      <td>2</td>\n",
              "      <td>0.16</td>\n",
              "      <td>1</td>\n",
              "      <td>0</td>\n",
              "      <td>0</td>\n",
              "    </tr>\n",
              "    <tr>\n",
              "      <th>31183</th>\n",
              "      <td>brooklyn</td>\n",
              "      <td>private_room</td>\n",
              "      <td>40.68993</td>\n",
              "      <td>-73.95947</td>\n",
              "      <td>58</td>\n",
              "      <td>2</td>\n",
              "      <td>0</td>\n",
              "      <td>0.00</td>\n",
              "      <td>2</td>\n",
              "      <td>0</td>\n",
              "      <td>0</td>\n",
              "    </tr>\n",
              "    <tr>\n",
              "      <th>29260</th>\n",
              "      <td>brooklyn</td>\n",
              "      <td>entire_home/apt</td>\n",
              "      <td>40.68427</td>\n",
              "      <td>-73.93118</td>\n",
              "      <td>75</td>\n",
              "      <td>3</td>\n",
              "      <td>87</td>\n",
              "      <td>4.91</td>\n",
              "      <td>1</td>\n",
              "      <td>267</td>\n",
              "      <td>0</td>\n",
              "    </tr>\n",
              "    <tr>\n",
              "      <th>7275</th>\n",
              "      <td>queens</td>\n",
              "      <td>private_room</td>\n",
              "      <td>40.74705</td>\n",
              "      <td>-73.89564</td>\n",
              "      <td>38</td>\n",
              "      <td>5</td>\n",
              "      <td>13</td>\n",
              "      <td>0.25</td>\n",
              "      <td>1</td>\n",
              "      <td>0</td>\n",
              "      <td>0</td>\n",
              "    </tr>\n",
              "  </tbody>\n",
              "</table>\n",
              "</div>"
            ],
            "text/plain": [
              "      neighbourhood_group        room_type  ...  availability_365  above_average\n",
              "32645            brooklyn  entire_home/apt  ...                 1              1\n",
              "23615           manhattan     private_room  ...                 0              0\n",
              "31183            brooklyn     private_room  ...                 0              0\n",
              "29260            brooklyn  entire_home/apt  ...               267              0\n",
              "7275               queens     private_room  ...                 0              0\n",
              "\n",
              "[5 rows x 11 columns]"
            ]
          },
          "metadata": {},
          "execution_count": 20
        }
      ]
    },
    {
      "cell_type": "markdown",
      "metadata": {
        "id": "zg3gB1DTIWcd"
      },
      "source": [
        "Feature importance: Correlation"
      ]
    },
    {
      "cell_type": "code",
      "metadata": {
        "id": "1i9QromCITIc"
      },
      "source": [
        "numerical = [\n",
        "    'latitude',\n",
        "    'longitude',\n",
        "    'minimum_nights',\n",
        "    'number_of_reviews',\n",
        "    'reviews_per_month',\n",
        "    'calculated_host_listings_count',\n",
        "    'availability_365'\n",
        "]"
      ],
      "execution_count": 21,
      "outputs": []
    },
    {
      "cell_type": "code",
      "metadata": {
        "colab": {
          "base_uri": "https://localhost:8080/",
          "height": 269
        },
        "id": "B4n1X1FoIZ8j",
        "outputId": "cb7ba758-9981-4cbe-a4ce-9ff08c6ce7ef"
      },
      "source": [
        "corrM = df_train[numerical].corr()\n",
        "corrM"
      ],
      "execution_count": 22,
      "outputs": [
        {
          "output_type": "execute_result",
          "data": {
            "text/html": [
              "<div>\n",
              "<style scoped>\n",
              "    .dataframe tbody tr th:only-of-type {\n",
              "        vertical-align: middle;\n",
              "    }\n",
              "\n",
              "    .dataframe tbody tr th {\n",
              "        vertical-align: top;\n",
              "    }\n",
              "\n",
              "    .dataframe thead th {\n",
              "        text-align: right;\n",
              "    }\n",
              "</style>\n",
              "<table border=\"1\" class=\"dataframe\">\n",
              "  <thead>\n",
              "    <tr style=\"text-align: right;\">\n",
              "      <th></th>\n",
              "      <th>latitude</th>\n",
              "      <th>longitude</th>\n",
              "      <th>minimum_nights</th>\n",
              "      <th>number_of_reviews</th>\n",
              "      <th>reviews_per_month</th>\n",
              "      <th>calculated_host_listings_count</th>\n",
              "      <th>availability_365</th>\n",
              "    </tr>\n",
              "  </thead>\n",
              "  <tbody>\n",
              "    <tr>\n",
              "      <th>latitude</th>\n",
              "      <td>1.000000</td>\n",
              "      <td>0.080301</td>\n",
              "      <td>0.027441</td>\n",
              "      <td>-0.006246</td>\n",
              "      <td>-0.007159</td>\n",
              "      <td>0.019375</td>\n",
              "      <td>-0.005891</td>\n",
              "    </tr>\n",
              "    <tr>\n",
              "      <th>longitude</th>\n",
              "      <td>0.080301</td>\n",
              "      <td>1.000000</td>\n",
              "      <td>-0.060660</td>\n",
              "      <td>0.055084</td>\n",
              "      <td>0.134642</td>\n",
              "      <td>-0.117041</td>\n",
              "      <td>0.083666</td>\n",
              "    </tr>\n",
              "    <tr>\n",
              "      <th>minimum_nights</th>\n",
              "      <td>0.027441</td>\n",
              "      <td>-0.060660</td>\n",
              "      <td>1.000000</td>\n",
              "      <td>-0.076020</td>\n",
              "      <td>-0.120703</td>\n",
              "      <td>0.118647</td>\n",
              "      <td>0.138901</td>\n",
              "    </tr>\n",
              "    <tr>\n",
              "      <th>number_of_reviews</th>\n",
              "      <td>-0.006246</td>\n",
              "      <td>0.055084</td>\n",
              "      <td>-0.076020</td>\n",
              "      <td>1.000000</td>\n",
              "      <td>0.590374</td>\n",
              "      <td>-0.073167</td>\n",
              "      <td>0.174477</td>\n",
              "    </tr>\n",
              "    <tr>\n",
              "      <th>reviews_per_month</th>\n",
              "      <td>-0.007159</td>\n",
              "      <td>0.134642</td>\n",
              "      <td>-0.120703</td>\n",
              "      <td>0.590374</td>\n",
              "      <td>1.000000</td>\n",
              "      <td>-0.048767</td>\n",
              "      <td>0.165376</td>\n",
              "    </tr>\n",
              "    <tr>\n",
              "      <th>calculated_host_listings_count</th>\n",
              "      <td>0.019375</td>\n",
              "      <td>-0.117041</td>\n",
              "      <td>0.118647</td>\n",
              "      <td>-0.073167</td>\n",
              "      <td>-0.048767</td>\n",
              "      <td>1.000000</td>\n",
              "      <td>0.225913</td>\n",
              "    </tr>\n",
              "    <tr>\n",
              "      <th>availability_365</th>\n",
              "      <td>-0.005891</td>\n",
              "      <td>0.083666</td>\n",
              "      <td>0.138901</td>\n",
              "      <td>0.174477</td>\n",
              "      <td>0.165376</td>\n",
              "      <td>0.225913</td>\n",
              "      <td>1.000000</td>\n",
              "    </tr>\n",
              "  </tbody>\n",
              "</table>\n",
              "</div>"
            ],
            "text/plain": [
              "                                latitude  ...  availability_365\n",
              "latitude                        1.000000  ...         -0.005891\n",
              "longitude                       0.080301  ...          0.083666\n",
              "minimum_nights                  0.027441  ...          0.138901\n",
              "number_of_reviews              -0.006246  ...          0.174477\n",
              "reviews_per_month              -0.007159  ...          0.165376\n",
              "calculated_host_listings_count  0.019375  ...          0.225913\n",
              "availability_365               -0.005891  ...          1.000000\n",
              "\n",
              "[7 rows x 7 columns]"
            ]
          },
          "metadata": {},
          "execution_count": 22
        }
      ]
    },
    {
      "cell_type": "markdown",
      "metadata": {
        "id": "wFE1EAymI4Dj"
      },
      "source": [
        "Feature importance: Mutual information"
      ]
    },
    {
      "cell_type": "code",
      "metadata": {
        "id": "Lbh6icV4I14M"
      },
      "source": [
        "from sklearn.metrics import mutual_info_score"
      ],
      "execution_count": 23,
      "outputs": []
    },
    {
      "cell_type": "code",
      "metadata": {
        "id": "PptxKVuvIaQp"
      },
      "source": [
        "categorical = [\n",
        "    'neighbourhood_group',\n",
        "    'room_type',\n",
        "]"
      ],
      "execution_count": 24,
      "outputs": []
    },
    {
      "cell_type": "code",
      "metadata": {
        "id": "d2RP_G5CI7lB"
      },
      "source": [
        "def mutual_info_price_score(series):\n",
        "    return round(mutual_info_score(series, y_train), 2)"
      ],
      "execution_count": 25,
      "outputs": []
    },
    {
      "cell_type": "code",
      "metadata": {
        "colab": {
          "base_uri": "https://localhost:8080/"
        },
        "id": "F0tWKxizI8ry",
        "outputId": "53b97f38-6f3a-4992-c1f2-10b16ccfa088"
      },
      "source": [
        "mi = df_train[categorical].apply(mutual_info_price_score)\n",
        "mi.sort_values(ascending=False)"
      ],
      "execution_count": 26,
      "outputs": [
        {
          "output_type": "execute_result",
          "data": {
            "text/plain": [
              "room_type              0.14\n",
              "neighbourhood_group    0.05\n",
              "dtype: float64"
            ]
          },
          "metadata": {},
          "execution_count": 26
        }
      ]
    },
    {
      "cell_type": "markdown",
      "metadata": {
        "id": "7xkgPG3FI_7a"
      },
      "source": [
        "**One-hot encoding**"
      ]
    },
    {
      "cell_type": "code",
      "metadata": {
        "id": "hG7phjNzI96a"
      },
      "source": [
        "from sklearn.feature_extraction import DictVectorizer"
      ],
      "execution_count": 27,
      "outputs": []
    },
    {
      "cell_type": "code",
      "metadata": {
        "id": "gwRqQ-2BJCCy"
      },
      "source": [
        "dv = DictVectorizer(sparse=False)\n",
        "\n",
        "train_dict = df_train[categorical + numerical].to_dict(orient='records')\n",
        "X_train = dv.fit_transform(train_dict)\n",
        "\n",
        "val_dict = df_val[categorical + numerical].to_dict(orient='records')\n",
        "X_val = dv.transform(val_dict)"
      ],
      "execution_count": 28,
      "outputs": []
    },
    {
      "cell_type": "markdown",
      "metadata": {
        "id": "XnaQPzLCJGAy"
      },
      "source": [
        "**Logistic regression**"
      ]
    },
    {
      "cell_type": "code",
      "metadata": {
        "id": "4TFuPISbJDWJ"
      },
      "source": [
        "from sklearn.linear_model import LogisticRegression"
      ],
      "execution_count": 29,
      "outputs": []
    },
    {
      "cell_type": "code",
      "metadata": {
        "id": "Mq6LGhAgJIRv"
      },
      "source": [
        "model = LogisticRegression(solver='liblinear', C=1.0, random_state=42)"
      ],
      "execution_count": 30,
      "outputs": []
    },
    {
      "cell_type": "code",
      "metadata": {
        "colab": {
          "base_uri": "https://localhost:8080/"
        },
        "id": "V89wHUVDJJo1",
        "outputId": "8a6eaebc-ed89-4e2d-89bf-6c814edb3c47"
      },
      "source": [
        "model.fit(X_train, y_train)"
      ],
      "execution_count": 31,
      "outputs": [
        {
          "output_type": "execute_result",
          "data": {
            "text/plain": [
              "LogisticRegression(C=1.0, class_weight=None, dual=False, fit_intercept=True,\n",
              "                   intercept_scaling=1, l1_ratio=None, max_iter=100,\n",
              "                   multi_class='auto', n_jobs=None, penalty='l2',\n",
              "                   random_state=42, solver='liblinear', tol=0.0001, verbose=0,\n",
              "                   warm_start=False)"
            ]
          },
          "metadata": {},
          "execution_count": 31
        }
      ]
    },
    {
      "cell_type": "code",
      "metadata": {
        "id": "AtJ_LG0LJLCg"
      },
      "source": [
        "y_pred = model.predict_proba(X_val)[:, 1]"
      ],
      "execution_count": 32,
      "outputs": []
    },
    {
      "cell_type": "code",
      "metadata": {
        "id": "6Spo4TFIQcA9"
      },
      "source": [
        "price_decision = (y_pred >= 0.5)"
      ],
      "execution_count": 33,
      "outputs": []
    },
    {
      "cell_type": "code",
      "metadata": {
        "id": "ut28FH38QOka"
      },
      "source": [
        "accuracy = round((price_decision == y_val).mean(),2)"
      ],
      "execution_count": 34,
      "outputs": []
    },
    {
      "cell_type": "code",
      "metadata": {
        "colab": {
          "base_uri": "https://localhost:8080/"
        },
        "id": "G6ikHaTiZ0zl",
        "outputId": "6f5c8fb6-25af-424b-8050-30e88036f590"
      },
      "source": [
        "accuracy"
      ],
      "execution_count": 35,
      "outputs": [
        {
          "output_type": "execute_result",
          "data": {
            "text/plain": [
              "0.79"
            ]
          },
          "metadata": {},
          "execution_count": 35
        }
      ]
    },
    {
      "cell_type": "markdown",
      "metadata": {
        "id": "dwGt0SFiXX4j"
      },
      "source": [
        "**Feature elimination technique**"
      ]
    },
    {
      "cell_type": "code",
      "metadata": {
        "id": "uDDgeR6xQgSS"
      },
      "source": [
        "features = [\n",
        "            'neighbourhood_group',\n",
        "            'room_type',\n",
        "            'number_of_reviews',\n",
        "            'reviews_per_month',\n",
        "]"
      ],
      "execution_count": 36,
      "outputs": []
    },
    {
      "cell_type": "code",
      "metadata": {
        "id": "SdLBgwsxXchK"
      },
      "source": [
        "def lg_reg_technique(exclue_feature):\n",
        "  dv = DictVectorizer(sparse=False)\n",
        "\n",
        "  df_temp = df_train[categorical + numerical]\n",
        "  df_temp.drop([exclue_feature], axis=1, inplace=True)\n",
        "\n",
        "  train_dict = df_temp.to_dict(orient='records')\n",
        "  X_train = dv.fit_transform(train_dict)\n",
        "\n",
        "  df_val_temp = df_val[categorical + numerical]\n",
        "  df_val_temp.drop([exclue_feature], axis=1, inplace=True)\n",
        "\n",
        "  val_dict = df_val_temp.to_dict(orient='records')\n",
        "  X_val = dv.transform(val_dict)\n",
        "\n",
        "  lg_model = LogisticRegression(solver='liblinear', C=1.0, random_state=42)\n",
        "  lg_model.fit(X_train, y_train)\n",
        "\n",
        "  lg_y_pred = lg_model.predict_proba(X_val)[:, 1]\n",
        "\n",
        "  lg_price_decision = (lg_y_pred >= 0.5)\n",
        "  lg_accuracy = round((lg_price_decision == y_val).mean(),2)\n",
        "  print()\n",
        "  print(exclue_feature, lg_accuracy)\n",
        "  print()\n",
        "  return lg_accuracy"
      ],
      "execution_count": 37,
      "outputs": []
    },
    {
      "cell_type": "code",
      "metadata": {
        "colab": {
          "base_uri": "https://localhost:8080/"
        },
        "id": "jBlcmTvnXO_4",
        "outputId": "09663920-902d-4955-a7c5-37ff447b654b"
      },
      "source": [
        "accuracy_arr = []\n",
        "for f in features:\n",
        "  print(f)\n",
        "  model_accuracy = lg_reg_technique(f)\n",
        "  accuracy_arr.append({'feature':f,'model_accuracy':model_accuracy,'accuracy_diff':(model_accuracy-accuracy)})"
      ],
      "execution_count": 38,
      "outputs": [
        {
          "output_type": "stream",
          "name": "stdout",
          "text": [
            "neighbourhood_group\n"
          ]
        },
        {
          "output_type": "stream",
          "name": "stderr",
          "text": [
            "/usr/local/lib/python3.7/dist-packages/pandas/core/frame.py:4174: SettingWithCopyWarning: \n",
            "A value is trying to be set on a copy of a slice from a DataFrame\n",
            "\n",
            "See the caveats in the documentation: https://pandas.pydata.org/pandas-docs/stable/user_guide/indexing.html#returning-a-view-versus-a-copy\n",
            "  errors=errors,\n"
          ]
        },
        {
          "output_type": "stream",
          "name": "stdout",
          "text": [
            "\n",
            "neighbourhood_group 0.75\n",
            "\n",
            "room_type\n"
          ]
        },
        {
          "output_type": "stream",
          "name": "stderr",
          "text": [
            "/usr/local/lib/python3.7/dist-packages/pandas/core/frame.py:4174: SettingWithCopyWarning: \n",
            "A value is trying to be set on a copy of a slice from a DataFrame\n",
            "\n",
            "See the caveats in the documentation: https://pandas.pydata.org/pandas-docs/stable/user_guide/indexing.html#returning-a-view-versus-a-copy\n",
            "  errors=errors,\n"
          ]
        },
        {
          "output_type": "stream",
          "name": "stdout",
          "text": [
            "\n",
            "room_type 0.73\n",
            "\n",
            "number_of_reviews\n"
          ]
        },
        {
          "output_type": "stream",
          "name": "stderr",
          "text": [
            "/usr/local/lib/python3.7/dist-packages/pandas/core/frame.py:4174: SettingWithCopyWarning: \n",
            "A value is trying to be set on a copy of a slice from a DataFrame\n",
            "\n",
            "See the caveats in the documentation: https://pandas.pydata.org/pandas-docs/stable/user_guide/indexing.html#returning-a-view-versus-a-copy\n",
            "  errors=errors,\n"
          ]
        },
        {
          "output_type": "stream",
          "name": "stdout",
          "text": [
            "\n",
            "number_of_reviews 0.79\n",
            "\n",
            "reviews_per_month\n"
          ]
        },
        {
          "output_type": "stream",
          "name": "stderr",
          "text": [
            "/usr/local/lib/python3.7/dist-packages/pandas/core/frame.py:4174: SettingWithCopyWarning: \n",
            "A value is trying to be set on a copy of a slice from a DataFrame\n",
            "\n",
            "See the caveats in the documentation: https://pandas.pydata.org/pandas-docs/stable/user_guide/indexing.html#returning-a-view-versus-a-copy\n",
            "  errors=errors,\n"
          ]
        },
        {
          "output_type": "stream",
          "name": "stdout",
          "text": [
            "\n",
            "reviews_per_month 0.79\n",
            "\n"
          ]
        }
      ]
    },
    {
      "cell_type": "code",
      "metadata": {
        "colab": {
          "base_uri": "https://localhost:8080/"
        },
        "id": "Yr2vgQ22beZC",
        "outputId": "6e438a82-35e2-42b0-a553-0d8aa36db591"
      },
      "source": [
        "accuracy_arr"
      ],
      "execution_count": 39,
      "outputs": [
        {
          "output_type": "execute_result",
          "data": {
            "text/plain": [
              "[{'accuracy_diff': -0.040000000000000036,\n",
              "  'feature': 'neighbourhood_group',\n",
              "  'model_accuracy': 0.75},\n",
              " {'accuracy_diff': -0.06000000000000005,\n",
              "  'feature': 'room_type',\n",
              "  'model_accuracy': 0.73},\n",
              " {'accuracy_diff': 0.0,\n",
              "  'feature': 'number_of_reviews',\n",
              "  'model_accuracy': 0.79},\n",
              " {'accuracy_diff': 0.0,\n",
              "  'feature': 'reviews_per_month',\n",
              "  'model_accuracy': 0.79}]"
            ]
          },
          "metadata": {},
          "execution_count": 39
        }
      ]
    },
    {
      "cell_type": "markdown",
      "metadata": {
        "id": "CbiS8J55kJKq"
      },
      "source": [
        "**Ridge regression model**"
      ]
    },
    {
      "cell_type": "code",
      "metadata": {
        "colab": {
          "base_uri": "https://localhost:8080/",
          "height": 226
        },
        "id": "1UXSZ1lYa8aJ",
        "outputId": "88cf3507-d7ce-4a54-b0c9-8ffcfc47fe67"
      },
      "source": [
        "df.head()"
      ],
      "execution_count": 40,
      "outputs": [
        {
          "output_type": "execute_result",
          "data": {
            "text/html": [
              "<div>\n",
              "<style scoped>\n",
              "    .dataframe tbody tr th:only-of-type {\n",
              "        vertical-align: middle;\n",
              "    }\n",
              "\n",
              "    .dataframe tbody tr th {\n",
              "        vertical-align: top;\n",
              "    }\n",
              "\n",
              "    .dataframe thead th {\n",
              "        text-align: right;\n",
              "    }\n",
              "</style>\n",
              "<table border=\"1\" class=\"dataframe\">\n",
              "  <thead>\n",
              "    <tr style=\"text-align: right;\">\n",
              "      <th></th>\n",
              "      <th>neighbourhood_group</th>\n",
              "      <th>room_type</th>\n",
              "      <th>latitude</th>\n",
              "      <th>longitude</th>\n",
              "      <th>price</th>\n",
              "      <th>minimum_nights</th>\n",
              "      <th>number_of_reviews</th>\n",
              "      <th>reviews_per_month</th>\n",
              "      <th>calculated_host_listings_count</th>\n",
              "      <th>availability_365</th>\n",
              "      <th>above_average</th>\n",
              "    </tr>\n",
              "  </thead>\n",
              "  <tbody>\n",
              "    <tr>\n",
              "      <th>0</th>\n",
              "      <td>brooklyn</td>\n",
              "      <td>private_room</td>\n",
              "      <td>40.64749</td>\n",
              "      <td>-73.97237</td>\n",
              "      <td>149</td>\n",
              "      <td>1</td>\n",
              "      <td>9</td>\n",
              "      <td>0.21</td>\n",
              "      <td>6</td>\n",
              "      <td>365</td>\n",
              "      <td>0</td>\n",
              "    </tr>\n",
              "    <tr>\n",
              "      <th>1</th>\n",
              "      <td>manhattan</td>\n",
              "      <td>entire_home/apt</td>\n",
              "      <td>40.75362</td>\n",
              "      <td>-73.98377</td>\n",
              "      <td>225</td>\n",
              "      <td>1</td>\n",
              "      <td>45</td>\n",
              "      <td>0.38</td>\n",
              "      <td>2</td>\n",
              "      <td>355</td>\n",
              "      <td>1</td>\n",
              "    </tr>\n",
              "    <tr>\n",
              "      <th>2</th>\n",
              "      <td>manhattan</td>\n",
              "      <td>private_room</td>\n",
              "      <td>40.80902</td>\n",
              "      <td>-73.94190</td>\n",
              "      <td>150</td>\n",
              "      <td>3</td>\n",
              "      <td>0</td>\n",
              "      <td>0.00</td>\n",
              "      <td>1</td>\n",
              "      <td>365</td>\n",
              "      <td>0</td>\n",
              "    </tr>\n",
              "    <tr>\n",
              "      <th>3</th>\n",
              "      <td>brooklyn</td>\n",
              "      <td>entire_home/apt</td>\n",
              "      <td>40.68514</td>\n",
              "      <td>-73.95976</td>\n",
              "      <td>89</td>\n",
              "      <td>1</td>\n",
              "      <td>270</td>\n",
              "      <td>4.64</td>\n",
              "      <td>1</td>\n",
              "      <td>194</td>\n",
              "      <td>0</td>\n",
              "    </tr>\n",
              "    <tr>\n",
              "      <th>4</th>\n",
              "      <td>manhattan</td>\n",
              "      <td>entire_home/apt</td>\n",
              "      <td>40.79851</td>\n",
              "      <td>-73.94399</td>\n",
              "      <td>80</td>\n",
              "      <td>10</td>\n",
              "      <td>9</td>\n",
              "      <td>0.10</td>\n",
              "      <td>1</td>\n",
              "      <td>0</td>\n",
              "      <td>0</td>\n",
              "    </tr>\n",
              "  </tbody>\n",
              "</table>\n",
              "</div>"
            ],
            "text/plain": [
              "  neighbourhood_group        room_type  ...  availability_365  above_average\n",
              "0            brooklyn     private_room  ...               365              0\n",
              "1           manhattan  entire_home/apt  ...               355              1\n",
              "2           manhattan     private_room  ...               365              0\n",
              "3            brooklyn  entire_home/apt  ...               194              0\n",
              "4           manhattan  entire_home/apt  ...                 0              0\n",
              "\n",
              "[5 rows x 11 columns]"
            ]
          },
          "metadata": {},
          "execution_count": 40
        }
      ]
    },
    {
      "cell_type": "code",
      "metadata": {
        "id": "WNjSXliAqF-H"
      },
      "source": [
        "y_train = np.log1p(df_train.price.values)\n",
        "y_val = np.log1p(df_val.price.values)\n",
        "y_test = np.log1p(df_test.price.values)\n",
        "\n",
        "del df_train['price']\n",
        "del df_val['price']\n",
        "del df_test['price']"
      ],
      "execution_count": 41,
      "outputs": []
    },
    {
      "cell_type": "code",
      "metadata": {
        "id": "8KGaR9fktjbg"
      },
      "source": [
        ""
      ],
      "execution_count": 43,
      "outputs": []
    },
    {
      "cell_type": "code",
      "metadata": {
        "id": "fjmvYZrXqV8U"
      },
      "source": [
        "from sklearn.linear_model import Ridge"
      ],
      "execution_count": 44,
      "outputs": []
    },
    {
      "cell_type": "code",
      "metadata": {
        "id": "G9Dkqe5dqekI"
      },
      "source": [
        "def calculate_ridge_rsme(alpha):\n",
        "  train_dict = df_train[categorical + numerical].to_dict(orient='records')\n",
        "  X_train = dv.fit_transform(train_dict)\n",
        "\n",
        "  val_dict = df_val[categorical + numerical].to_dict(orient='records')\n",
        "  X_val = dv.transform(val_dict)\n",
        "\n",
        "  model = Ridge(alpha=alpha)\n",
        "  model.fit(X_train,y_train)\n",
        "\n",
        "  y_pred = model.predict(X_val)\n",
        "  print(y_pred)\n",
        "\n",
        "  se = (y_val - y_pred) ** 2\n",
        "  mse = se.mean()\n",
        "  error = np.sqrt(mse)\n",
        "\n",
        "  print()\n",
        "  print(alpha, error)\n",
        "  print()\n",
        "  return error"
      ],
      "execution_count": 53,
      "outputs": []
    },
    {
      "cell_type": "code",
      "metadata": {
        "colab": {
          "base_uri": "https://localhost:8080/"
        },
        "id": "f2V6pdb3vCqc",
        "outputId": "38631db1-7b71-4871-f9be-09c7ed73e3b1"
      },
      "source": [
        "rsme_err = []\n",
        "for a in [0, 0.01, 0.1, 1, 10]:\n",
        "  err = calculate_ridge_rsme(a)\n",
        "  rsme_err.append(round(err,3))\n",
        "\n",
        "rsme_err"
      ],
      "execution_count": 56,
      "outputs": [
        {
          "output_type": "stream",
          "name": "stdout",
          "text": [
            "[4.11694336 5.21264648 5.00561523 ... 4.56420898 4.19702148 5.14038086]\n",
            "\n",
            "0 0.4971901903517505\n",
            "\n",
            "[4.11405448 5.21395699 5.01012603 ... 4.5595196  4.19404933 5.14435076]\n",
            "\n",
            "0.01 0.4971173046190633\n",
            "\n",
            "[4.1142478  5.21378968 5.01017209 ... 4.55940994 4.19400898 5.14469281]\n",
            "\n",
            "0.1 0.49711832446943977\n",
            "\n",
            "[4.116111   5.21218878 5.01060186 ... 4.55832635 4.19362144 5.14801035]\n",
            "\n",
            "1 0.49713953633200486\n",
            "\n",
            "[4.12973827 5.20108005 5.01293916 ... 4.54893373 4.19086998 5.17337529]\n",
            "\n",
            "10 0.4978866015876555\n",
            "\n"
          ]
        },
        {
          "output_type": "execute_result",
          "data": {
            "text/plain": [
              "[0.497, 0.497, 0.497, 0.497, 0.498]"
            ]
          },
          "metadata": {},
          "execution_count": 56
        }
      ]
    },
    {
      "cell_type": "code",
      "metadata": {
        "id": "zOWA5u5WvWpv"
      },
      "source": [
        ""
      ],
      "execution_count": null,
      "outputs": []
    }
  ]
}