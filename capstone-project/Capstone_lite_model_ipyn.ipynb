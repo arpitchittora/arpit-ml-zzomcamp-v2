{
  "nbformat": 4,
  "nbformat_minor": 0,
  "metadata": {
    "colab": {
      "name": "Capstone lite model.ipyn",
      "provenance": [],
      "collapsed_sections": [],
      "authorship_tag": "ABX9TyPEM9nPup8h5CZ2r3mKKqfX",
      "include_colab_link": true
    },
    "kernelspec": {
      "name": "python3",
      "display_name": "Python 3"
    },
    "language_info": {
      "name": "python"
    }
  },
  "cells": [
    {
      "cell_type": "markdown",
      "metadata": {
        "id": "view-in-github",
        "colab_type": "text"
      },
      "source": [
        "<a href=\"https://colab.research.google.com/github/arpitchittora/arpit-ml-zzomcamp-v2/blob/master/capstone-project/Capstone_lite_model_ipyn.ipynb\" target=\"_parent\"><img src=\"https://colab.research.google.com/assets/colab-badge.svg\" alt=\"Open In Colab\"/></a>"
      ]
    },
    {
      "cell_type": "markdown",
      "source": [
        "**Convert Keras to TF-Lite**"
      ],
      "metadata": {
        "id": "8r1LB5jC4xFj"
      }
    },
    {
      "cell_type": "code",
      "execution_count": null,
      "metadata": {
        "colab": {
          "base_uri": "https://localhost:8080/"
        },
        "id": "ChxRNMkS4qYf",
        "outputId": "6118f921-b08c-42ad-c1cf-457c6053f336"
      },
      "outputs": [
        {
          "output_type": "stream",
          "name": "stdout",
          "text": [
            "--2021-12-11 10:36:05--  https://github.com/arpitchittora/arpit-ml-zzomcamp-v2/tree/master/capstone-project/xception_v1_05_0.946.h5\n",
            "Resolving github.com (github.com)... 140.82.112.4\n",
            "Connecting to github.com (github.com)|140.82.112.4|:443... connected.\n",
            "HTTP request sent, awaiting response... 301 Moved Permanently\n",
            "Location: https://github.com/arpitchittora/arpit-ml-zzomcamp-v2/blob/master/capstone-project/xception_v1_05_0.946.h5 [following]\n",
            "--2021-12-11 10:36:05--  https://github.com/arpitchittora/arpit-ml-zzomcamp-v2/blob/master/capstone-project/xception_v1_05_0.946.h5\n",
            "Reusing existing connection to github.com:443.\n",
            "HTTP request sent, awaiting response... 200 OK\n",
            "Length: unspecified [text/html]\n",
            "Saving to: ‘xception_v1_05_0.946.h5’\n",
            "\n",
            "xception_v1_05_0.94     [ <=>                ] 163.13K  --.-KB/s    in 0.08s   \n",
            "\n",
            "2021-12-11 10:36:06 (2.05 MB/s) - ‘xception_v1_05_0.946.h5’ saved [167042]\n",
            "\n"
          ]
        }
      ],
      "source": [
        "!wget https://github.com/arpitchittora/arpit-ml-zzomcamp-v2/tree/master/capstone-project/xception_v1_05_0.946.h5"
      ]
    },
    {
      "cell_type": "code",
      "source": [
        "import numpy as np\n",
        "\n",
        "import tensorflow as tf\n",
        "from tensorflow import keras\n",
        "\n",
        "tf.__version__"
      ],
      "metadata": {
        "colab": {
          "base_uri": "https://localhost:8080/",
          "height": 35
        },
        "id": "0pJmEXD9ACbW",
        "outputId": "e217daac-1113-4ef8-de01-ec0514c30c6a"
      },
      "execution_count": null,
      "outputs": [
        {
          "output_type": "execute_result",
          "data": {
            "application/vnd.google.colaboratory.intrinsic+json": {
              "type": "string"
            },
            "text/plain": [
              "'2.7.0'"
            ]
          },
          "metadata": {},
          "execution_count": 2
        }
      ]
    },
    {
      "cell_type": "code",
      "source": [
        "!wget https://github.com/arpitchittora/arpit-ml-zzomcamp-v2/tree/master/capstone-project/Image_28.jpg -O capsicum.jpg"
      ],
      "metadata": {
        "colab": {
          "base_uri": "https://localhost:8080/"
        },
        "id": "IMl0iuoeALHX",
        "outputId": "092164a4-cbfb-4cf1-d3b2-d0799e7e317b"
      },
      "execution_count": null,
      "outputs": [
        {
          "output_type": "stream",
          "name": "stdout",
          "text": [
            "--2021-12-11 10:20:50--  https://github.com/arpitchittora/arpit-ml-zzomcamp-v2/tree/master/capstone-project/Image_28.jpg\n",
            "Resolving github.com (github.com)... 140.82.113.3\n",
            "Connecting to github.com (github.com)|140.82.113.3|:443... connected.\n",
            "HTTP request sent, awaiting response... 301 Moved Permanently\n",
            "Location: https://github.com/arpitchittora/arpit-ml-zzomcamp-v2/blob/master/capstone-project/Image_28.jpg [following]\n",
            "--2021-12-11 10:20:50--  https://github.com/arpitchittora/arpit-ml-zzomcamp-v2/blob/master/capstone-project/Image_28.jpg\n",
            "Reusing existing connection to github.com:443.\n",
            "HTTP request sent, awaiting response... 200 OK\n",
            "Length: unspecified [text/html]\n",
            "Saving to: ‘capsicum.jpg’\n",
            "\n",
            "capsicum.jpg            [ <=>                ] 157.20K  --.-KB/s    in 0.08s   \n",
            "\n",
            "2021-12-11 10:20:50 (2.05 MB/s) - ‘capsicum.jpg’ saved [160977]\n",
            "\n"
          ]
        }
      ]
    },
    {
      "cell_type": "code",
      "source": [
        "from tensorflow.keras.preprocessing.image import load_img\n",
        "from tensorflow.keras.applications.xception import preprocess_input"
      ],
      "metadata": {
        "id": "6Q7Tt6OPAnEN"
      },
      "execution_count": null,
      "outputs": []
    },
    {
      "cell_type": "code",
      "source": [
        "model = keras.models.load_model('./xception_v1_05_0.946.h5')"
      ],
      "metadata": {
        "id": "dTtAM3d2AqK1"
      },
      "execution_count": null,
      "outputs": []
    },
    {
      "cell_type": "code",
      "source": [
        "path = './capsicum.jpg'"
      ],
      "metadata": {
        "id": "8sBq3YylC_2O"
      },
      "execution_count": null,
      "outputs": []
    },
    {
      "cell_type": "code",
      "source": [
        "class_names = ['apple', 'banana', 'beetroot', 'bell pepper', 'cabbage', 'capsicum', 'carrot', 'cauliflower', 'chilli pepper', 'corn', 'cucumber', 'eggplant', 'garlic', 'ginger', 'grapes', 'jalepeno', 'kiwi', 'lemon', 'lettuce', 'mango', 'onion', 'orange', 'paprika', 'pear', 'peas', 'pineapple', 'pomegranate', 'potato', 'raddish', 'soy beans', 'spinach', 'sweetcorn', 'sweetpotato', 'tomato', 'turnip', 'watermelon']"
      ],
      "metadata": {
        "id": "enp63KfiIir4"
      },
      "execution_count": null,
      "outputs": []
    },
    {
      "cell_type": "code",
      "source": [
        "img = load_img(path, target_size=(224, 224))\n",
        "x = np.array(img)\n",
        "X = np.array([x])\n",
        "X = preprocess_input(X)\n",
        "pred = model.predict(X)\n",
        "pred"
      ],
      "metadata": {
        "colab": {
          "base_uri": "https://localhost:8080/"
        },
        "id": "fxBJgDH_IcvJ",
        "outputId": "1314b541-a364-4f82-f43a-cc63c7a7cfdd"
      },
      "execution_count": null,
      "outputs": [
        {
          "output_type": "execute_result",
          "data": {
            "text/plain": [
              "array([[3.70181187e-05, 7.35703679e-06, 1.08314984e-04, 6.40240133e-01,\n",
              "        1.84054704e-06, 1.78123698e-01, 1.23578329e-05, 4.40695367e-05,\n",
              "        5.44253644e-03, 1.95831162e-05, 4.61723857e-06, 4.99374466e-04,\n",
              "        7.62168565e-06, 4.23590518e-06, 2.07621525e-07, 7.66296685e-03,\n",
              "        2.25891017e-06, 2.07506346e-05, 2.33022888e-06, 2.88634128e-05,\n",
              "        1.56995098e-04, 9.89666660e-05, 1.67051911e-01, 3.22474662e-05,\n",
              "        5.92532206e-06, 2.34753998e-06, 1.92166272e-06, 3.55866541e-06,\n",
              "        1.08706618e-05, 6.47658226e-06, 2.66078259e-05, 6.23618616e-05,\n",
              "        4.77938841e-07, 2.66566058e-04, 1.39329165e-06, 1.25523854e-06]],\n",
              "      dtype=float32)"
            ]
          },
          "metadata": {},
          "execution_count": 15
        }
      ]
    },
    {
      "cell_type": "code",
      "source": [
        "result= dict(zip(class_names, pred[0]))\n",
        "max(zip(result.values(), result.keys()))[1]"
      ],
      "metadata": {
        "colab": {
          "base_uri": "https://localhost:8080/",
          "height": 35
        },
        "id": "dqkmuur_IksZ",
        "outputId": "592d647f-a17e-4abd-f4a7-23292f001feb"
      },
      "execution_count": null,
      "outputs": [
        {
          "output_type": "execute_result",
          "data": {
            "application/vnd.google.colaboratory.intrinsic+json": {
              "type": "string"
            },
            "text/plain": [
              "'bell pepper'"
            ]
          },
          "metadata": {},
          "execution_count": 16
        }
      ]
    },
    {
      "cell_type": "code",
      "source": [
        "converter = tf.lite.TFLiteConverter.from_keras_model(model)\n",
        "\n",
        "tflite_model = converter.convert()\n",
        "\n",
        "with open('classification-model.tflite', 'wb') as f_out:\n",
        "    f_out.write(tflite_model)\n"
      ],
      "metadata": {
        "colab": {
          "base_uri": "https://localhost:8080/"
        },
        "id": "Vbk22OlWI6Bi",
        "outputId": "58456ea8-5860-4753-f115-8f12057b1d2a"
      },
      "execution_count": null,
      "outputs": [
        {
          "output_type": "stream",
          "name": "stdout",
          "text": [
            "INFO:tensorflow:Assets written to: /tmp/tmp4i0ebwlk/assets\n"
          ]
        },
        {
          "output_type": "stream",
          "name": "stderr",
          "text": [
            "WARNING:absl:Buffer deduplication procedure will be skipped when flatbuffer library is not properly loaded\n"
          ]
        }
      ]
    },
    {
      "cell_type": "code",
      "source": [
        "!ls -lh"
      ],
      "metadata": {
        "colab": {
          "base_uri": "https://localhost:8080/"
        },
        "id": "uJt514rxJUdE",
        "outputId": "7faa9d7e-0d8e-4e87-9619-ea00fc4767af"
      },
      "execution_count": null,
      "outputs": [
        {
          "output_type": "stream",
          "name": "stdout",
          "text": [
            "total 166M\n",
            "-rw-r--r-- 1 root root 1.4M Dec 11 10:56 capsicum.jpg\n",
            "-rw-r--r-- 1 root root 159K Dec 11 10:34 classification-model.h5\n",
            "-rw-r--r-- 1 root root  81M Dec 11 10:59 classification-model.tflite\n",
            "drwxr-xr-x 1 root root 4.0K Dec  3 14:33 sample_data\n",
            "-rw-r--r-- 1 root root  84M Dec 11 10:52 xception_v1_05_0.946.h5\n"
          ]
        }
      ]
    },
    {
      "cell_type": "code",
      "source": [
        "import tensorflow.lite as tflite"
      ],
      "metadata": {
        "id": "euKm-U1tJYFl"
      },
      "execution_count": null,
      "outputs": []
    },
    {
      "cell_type": "code",
      "source": [
        "interpreter = tflite.Interpreter(model_path='classification-model.tflite')\n",
        "interpreter.allocate_tensors()\n",
        "\n",
        "input_index = interpreter.get_input_details()[0]['index']\n",
        "output_index = interpreter.get_output_details()[0]['index']"
      ],
      "metadata": {
        "id": "gHUaBzCaJZ6t"
      },
      "execution_count": null,
      "outputs": []
    },
    {
      "cell_type": "code",
      "source": [
        "interpreter.set_tensor(input_index, X)\n",
        "interpreter.invoke()\n",
        "preds = interpreter.get_tensor(output_index)"
      ],
      "metadata": {
        "id": "h1VMtjS9Jb3s"
      },
      "execution_count": null,
      "outputs": []
    },
    {
      "cell_type": "code",
      "source": [
        "result= dict(zip(class_names, preds[0]))\n",
        "max(zip(result.values(), result.keys()))[1]"
      ],
      "metadata": {
        "colab": {
          "base_uri": "https://localhost:8080/",
          "height": 35
        },
        "id": "5mxoNWLzJock",
        "outputId": "4fb61885-7c91-4a8a-c6ec-1eaabc59aff5"
      },
      "execution_count": null,
      "outputs": [
        {
          "output_type": "execute_result",
          "data": {
            "application/vnd.google.colaboratory.intrinsic+json": {
              "type": "string"
            },
            "text/plain": [
              "'bell pepper'"
            ]
          },
          "metadata": {},
          "execution_count": 24
        }
      ]
    },
    {
      "cell_type": "markdown",
      "source": [
        "**Removing TF dependency**"
      ],
      "metadata": {
        "id": "NJ5mkJ5vM4O3"
      }
    },
    {
      "cell_type": "code",
      "source": [
        "!pip install keras-image-helper"
      ],
      "metadata": {
        "colab": {
          "base_uri": "https://localhost:8080/"
        },
        "id": "o_PSqmvYJp6I",
        "outputId": "b756bc4e-7bbe-4cf4-d1fb-d74d3ed3217b"
      },
      "execution_count": null,
      "outputs": [
        {
          "output_type": "stream",
          "name": "stdout",
          "text": [
            "Collecting keras-image-helper\n",
            "  Downloading keras_image_helper-0.0.1-py3-none-any.whl (4.6 kB)\n",
            "Requirement already satisfied: numpy in /usr/local/lib/python3.7/dist-packages (from keras-image-helper) (1.19.5)\n",
            "Requirement already satisfied: pillow in /usr/local/lib/python3.7/dist-packages (from keras-image-helper) (7.1.2)\n",
            "Installing collected packages: keras-image-helper\n",
            "Successfully installed keras-image-helper-0.0.1\n"
          ]
        }
      ]
    },
    {
      "cell_type": "code",
      "source": [
        "!pip install --extra-index-url https://google-coral.github.io/py-repo/ tflite_runtime"
      ],
      "metadata": {
        "colab": {
          "base_uri": "https://localhost:8080/"
        },
        "id": "oq5bpXo3NlxW",
        "outputId": "1bff832e-2e1f-4a1b-b04d-7353d0b92ef8"
      },
      "execution_count": null,
      "outputs": [
        {
          "output_type": "stream",
          "name": "stdout",
          "text": [
            "Looking in indexes: https://pypi.org/simple, https://google-coral.github.io/py-repo/\n",
            "Collecting tflite_runtime\n",
            "  Downloading tflite_runtime-2.7.0-cp37-cp37m-manylinux2014_x86_64.whl (2.2 MB)\n",
            "\u001b[K     |████████████████████████████████| 2.2 MB 5.4 MB/s \n",
            "\u001b[?25hRequirement already satisfied: numpy>=1.19.2 in /usr/local/lib/python3.7/dist-packages (from tflite_runtime) (1.19.5)\n",
            "Installing collected packages: tflite-runtime\n",
            "Successfully installed tflite-runtime-2.7.0\n"
          ]
        }
      ]
    },
    {
      "cell_type": "code",
      "source": [
        "interpreter = tflite.Interpreter(model_path='classification-model.tflite')\n",
        "interpreter.allocate_tensors()\n",
        "\n",
        "input_index = interpreter.get_input_details()[0]['index']\n",
        "output_index = interpreter.get_output_details()[0]['index']\n"
      ],
      "metadata": {
        "id": "rE7o2cygNqZ9"
      },
      "execution_count": null,
      "outputs": []
    },
    {
      "cell_type": "code",
      "source": [
        "preprocessor = create_preprocessor('xception', target_size=(224, 224))"
      ],
      "metadata": {
        "id": "PKHP35cRNtyl"
      },
      "execution_count": null,
      "outputs": []
    },
    {
      "cell_type": "code",
      "source": [
        "url = 'https://upload.wikimedia.org/wikipedia/commons/d/da/Red_capsicum_and_cross_section.jpg'\n",
        "X = preprocessor.from_url(url)"
      ],
      "metadata": {
        "id": "-LB_KcxmN1SE"
      },
      "execution_count": null,
      "outputs": []
    },
    {
      "cell_type": "code",
      "source": [
        "interpreter.set_tensor(input_index, X)\n",
        "interpreter.invoke()\n",
        "preds = interpreter.get_tensor(output_index)"
      ],
      "metadata": {
        "id": "0qzbsSH_OLdT"
      },
      "execution_count": null,
      "outputs": []
    },
    {
      "cell_type": "code",
      "source": [
        "result= dict(zip(class_names, preds[0]))\n",
        "max(zip(result.values(), result.keys()))[1]"
      ],
      "metadata": {
        "id": "kOHRvzSqOOWS",
        "outputId": "a82aa735-e670-4dd8-e898-f3d5bfcacc67",
        "colab": {
          "base_uri": "https://localhost:8080/",
          "height": 35
        }
      },
      "execution_count": null,
      "outputs": [
        {
          "output_type": "execute_result",
          "data": {
            "application/vnd.google.colaboratory.intrinsic+json": {
              "type": "string"
            },
            "text/plain": [
              "'capsicum'"
            ]
          },
          "metadata": {},
          "execution_count": 42
        }
      ]
    },
    {
      "cell_type": "code",
      "source": [
        ""
      ],
      "metadata": {
        "id": "Ygza__EPNGBQ"
      },
      "execution_count": null,
      "outputs": []
    }
  ]
}