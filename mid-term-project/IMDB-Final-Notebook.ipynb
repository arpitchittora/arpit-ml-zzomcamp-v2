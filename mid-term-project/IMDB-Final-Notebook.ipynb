{
 "cells": [
  {
   "cell_type": "code",
   "execution_count": 1,
   "id": "7d4e62ba",
   "metadata": {},
   "outputs": [],
   "source": [
    "#import basic library\n",
    "import pandas as pd\n",
    "import numpy as np\n",
    "\n",
    "import matplotlib.pyplot as plt\n",
    "import seaborn as sns\n",
    "\n",
    "from sklearn.feature_extraction import DictVectorizer\n",
    "from sklearn.metrics import r2_score\n",
    "import xgboost as xgb\n",
    "\n",
    "%matplotlib inline"
   ]
  },
  {
   "cell_type": "code",
   "execution_count": 2,
   "id": "a200bc27",
   "metadata": {},
   "outputs": [],
   "source": [
    "df = pd.read_csv('imdb.csv')"
   ]
  },
  {
   "cell_type": "code",
   "execution_count": 3,
   "id": "914b6c0d",
   "metadata": {},
   "outputs": [],
   "source": [
    "df.columns = df.columns.str.lower().str.replace(' ','_')"
   ]
  },
  {
   "cell_type": "code",
   "execution_count": 4,
   "id": "28357d83",
   "metadata": {},
   "outputs": [],
   "source": [
    "df.loc[df.rate == 'No Rate', 'rate'] = 0\n",
    "df.rate = pd.to_numeric(df['rate'])"
   ]
  },
  {
   "cell_type": "code",
   "execution_count": 5,
   "id": "bbf56a84",
   "metadata": {},
   "outputs": [],
   "source": [
    "df.loc[df.votes == 'No Votes', 'votes'] = 0\n",
    "df.votes = pd.to_numeric(df.votes.str.replace(\",\",\"\"), downcast=\"integer\")"
   ]
  },
  {
   "cell_type": "code",
   "execution_count": 6,
   "id": "0685cd9a",
   "metadata": {},
   "outputs": [],
   "source": [
    "df.loc[df.duration == 'None', 'duration'] = 0\n",
    "df.duration = pd.to_numeric(df.duration)"
   ]
  },
  {
   "cell_type": "code",
   "execution_count": 7,
   "id": "e351e593",
   "metadata": {},
   "outputs": [],
   "source": [
    "categorical_cols = ['genre', 'type','certificate','nudity','violence','profanity','alcohol','frightening']\n",
    "numeric_cols = ['rate','votes','duration']"
   ]
  },
  {
   "cell_type": "code",
   "execution_count": 9,
   "id": "ab8f95d4",
   "metadata": {},
   "outputs": [],
   "source": [
    "imdb_data = df[categorical_cols+numeric_cols].copy()"
   ]
  },
  {
   "cell_type": "code",
   "execution_count": 10,
   "id": "d191d685",
   "metadata": {},
   "outputs": [],
   "source": [
    "for col in categorical_cols:\n",
    "    imdb_data[col] = imdb_data[col].str.lower()"
   ]
  },
  {
   "cell_type": "code",
   "execution_count": 11,
   "id": "3006ffb0",
   "metadata": {},
   "outputs": [],
   "source": [
    "imdb_data.votes = imdb_data.votes.fillna(imdb_data.votes.mean())"
   ]
  },
  {
   "cell_type": "code",
   "execution_count": 13,
   "id": "6fc1f84c",
   "metadata": {},
   "outputs": [],
   "source": [
    "imdb_data.genre=imdb_data.genre.str.replace(' ','')\n",
    "genre_cols = imdb_data.genre.str.get_dummies(sep=',')"
   ]
  },
  {
   "cell_type": "code",
   "execution_count": 14,
   "id": "32a215c7",
   "metadata": {},
   "outputs": [],
   "source": [
    "data = pd.concat([imdb_data, genre_cols], axis=1, join='inner')"
   ]
  },
  {
   "cell_type": "code",
   "execution_count": 15,
   "id": "5ad14d71",
   "metadata": {},
   "outputs": [],
   "source": [
    "del data['genre']"
   ]
  },
  {
   "cell_type": "code",
   "execution_count": 16,
   "id": "7700a62d",
   "metadata": {},
   "outputs": [],
   "source": [
    "data.votes = data.votes.astype(int)"
   ]
  },
  {
   "cell_type": "code",
   "execution_count": 17,
   "id": "3c5a20da",
   "metadata": {},
   "outputs": [],
   "source": [
    "from sklearn.model_selection import train_test_split"
   ]
  },
  {
   "cell_type": "code",
   "execution_count": 24,
   "id": "0f553b22",
   "metadata": {},
   "outputs": [],
   "source": [
    "def rmse(y, y_pred):\n",
    "    se = (y - y_pred) ** 2\n",
    "    mse = se.mean()\n",
    "    return np.sqrt(mse)"
   ]
  },
  {
   "cell_type": "code",
   "execution_count": 18,
   "id": "599a21e5",
   "metadata": {},
   "outputs": [],
   "source": [
    "df_train, df_test = train_test_split(data, test_size=0.2, random_state=1)"
   ]
  },
  {
   "cell_type": "code",
   "execution_count": 20,
   "id": "7f65eb5f",
   "metadata": {},
   "outputs": [],
   "source": [
    "df_train = df_train.reset_index(drop=True)\n",
    "df_test = df_test.reset_index(drop=True)\n",
    "\n",
    "y_train = np.log1p(df_train.rate.values)\n",
    "y_test = np.log1p(df_test.rate.values)\n",
    "\n",
    "del df_train['rate']\n",
    "del df_test['rate']"
   ]
  },
  {
   "cell_type": "code",
   "execution_count": 21,
   "id": "a9af7b29",
   "metadata": {},
   "outputs": [],
   "source": [
    "dv = DictVectorizer(sparse=False)\n",
    "\n",
    "train_dict = df_train.to_dict(orient='records')\n",
    "X_train = dv.fit_transform(train_dict)\n",
    "\n",
    "val_dict = df_test.to_dict(orient='records')\n",
    "X_test = dv.transform(val_dict)"
   ]
  },
  {
   "cell_type": "code",
   "execution_count": 22,
   "id": "72b165c5",
   "metadata": {},
   "outputs": [],
   "source": [
    "features = dv.get_feature_names()\n",
    "dtrain = xgb.DMatrix(X_train, label=y_train, feature_names=features)\n",
    "dval = xgb.DMatrix(X_test, label=y_test, feature_names=features)"
   ]
  },
  {
   "cell_type": "code",
   "execution_count": 25,
   "id": "589af4d2",
   "metadata": {},
   "outputs": [],
   "source": [
    "xgb_params = {\n",
    "        'eta': 0.3, \n",
    "        'max_depth': 8,\n",
    "        'min_child_weight': 2,\n",
    "\n",
    "        'objective': 'reg:squarederror',\n",
    "        'nthread': 8,\n",
    "\n",
    "        'seed': 1,\n",
    "        'verbosity': 1,\n",
    "    }\n",
    "model = xgb.train(xgb_params, dtrain, num_boost_round=100)\n",
    "y_pred = model.predict(dval)\n",
    "score_mean = rmse(y_test, y_pred)\n",
    "xgb_r2_score = r2_score(y_test , y_pred)"
   ]
  },
  {
   "cell_type": "code",
   "execution_count": 26,
   "id": "7e5dafe9",
   "metadata": {},
   "outputs": [
    {
     "data": {
      "text/plain": [
       "(0.1152777508856016, 0.919437396105891)"
      ]
     },
     "execution_count": 26,
     "metadata": {},
     "output_type": "execute_result"
    }
   ],
   "source": [
    "score_mean, xgb_r2_score"
   ]
  },
  {
   "cell_type": "code",
   "execution_count": 30,
   "id": "cd6d296f",
   "metadata": {},
   "outputs": [],
   "source": [
    "import pickle"
   ]
  },
  {
   "cell_type": "code",
   "execution_count": 31,
   "id": "9f9b4203",
   "metadata": {},
   "outputs": [],
   "source": [
    "C = 1.0\n",
    "output_file = f'model_{C}.bin'"
   ]
  },
  {
   "cell_type": "code",
   "execution_count": 32,
   "id": "db395acd",
   "metadata": {},
   "outputs": [
    {
     "name": "stdout",
     "output_type": "stream",
     "text": [
      "the model is saved to model_1.0.bin\n"
     ]
    }
   ],
   "source": [
    "# Save the model\n",
    "with open(output_file, 'wb') as f_out:\n",
    "    pickle.dump((dv, model), f_out)\n",
    "\n",
    "print(f'the model is saved to {output_file}')"
   ]
  },
  {
   "cell_type": "code",
   "execution_count": null,
   "id": "5edb5568",
   "metadata": {},
   "outputs": [],
   "source": []
  }
 ],
 "metadata": {
  "kernelspec": {
   "display_name": "Python 3",
   "language": "python",
   "name": "python3"
  },
  "language_info": {
   "codemirror_mode": {
    "name": "ipython",
    "version": 3
   },
   "file_extension": ".py",
   "mimetype": "text/x-python",
   "name": "python",
   "nbconvert_exporter": "python",
   "pygments_lexer": "ipython3",
   "version": "3.9.1"
  }
 },
 "nbformat": 4,
 "nbformat_minor": 5
}
