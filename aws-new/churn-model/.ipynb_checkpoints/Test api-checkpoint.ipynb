{
 "cells": [
  {
   "cell_type": "code",
   "execution_count": 2,
   "id": "64b12d14",
   "metadata": {},
   "outputs": [],
   "source": [
    "import requests"
   ]
  },
  {
   "cell_type": "code",
   "execution_count": 3,
   "id": "ada33a59",
   "metadata": {},
   "outputs": [],
   "source": [
    "url = \"http://localhost:9696/predict\"\n",
    "customer = {\"contract\": \"two_year\", \"tenure\": 1, \"monthlycharges\": 10}"
   ]
  },
  {
   "cell_type": "code",
   "execution_count": 5,
   "id": "dac8ae25",
   "metadata": {},
   "outputs": [
    {
     "data": {
      "text/plain": [
       "{'churn': False, 'churn_probability': 0.3311171091399796}"
      ]
     },
     "execution_count": 5,
     "metadata": {},
     "output_type": "execute_result"
    }
   ],
   "source": [
    "requests.post(url, json=customer).json()"
   ]
  },
  {
   "cell_type": "code",
   "execution_count": null,
   "id": "310c3206",
   "metadata": {},
   "outputs": [],
   "source": []
  }
 ],
 "metadata": {
  "kernelspec": {
   "display_name": "Python 3",
   "language": "python",
   "name": "python3"
  },
  "language_info": {
   "codemirror_mode": {
    "name": "ipython",
    "version": 3
   },
   "file_extension": ".py",
   "mimetype": "text/x-python",
   "name": "python",
   "nbconvert_exporter": "python",
   "pygments_lexer": "ipython3",
   "version": "3.9.1"
  }
 },
 "nbformat": 4,
 "nbformat_minor": 5
}
